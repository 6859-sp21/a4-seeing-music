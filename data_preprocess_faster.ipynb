{
 "metadata": {
  "language_info": {
   "codemirror_mode": {
    "name": "ipython",
    "version": 3
   },
   "file_extension": ".py",
   "mimetype": "text/x-python",
   "name": "python",
   "nbconvert_exporter": "python",
   "pygments_lexer": "ipython3",
   "version": "3.9.1"
  },
  "orig_nbformat": 2,
  "kernelspec": {
   "name": "python3",
   "display_name": "Python 3.9.1 64-bit",
   "metadata": {
    "interpreter": {
     "hash": "b8bdd4e700647ba2b08c59e5df8b7da1dcf50a218bcd4c1bcd9b3dc92e8788e5"
    }
   }
  }
 },
 "nbformat": 4,
 "nbformat_minor": 2,
 "cells": [
  {
   "cell_type": "code",
   "execution_count": 2,
   "metadata": {},
   "outputs": [],
   "source": [
    "import pandas as pd\n",
    "import string"
   ]
  },
  {
   "cell_type": "code",
   "execution_count": 6,
   "metadata": {},
   "outputs": [],
   "source": [
    "new_df = pd.read_csv('data/data_yearly_artist_popularity_cleaned.csv')"
   ]
  },
  {
   "source": [
    "# JK, now really doing it"
   ],
   "cell_type": "markdown",
   "metadata": {}
  },
  {
   "cell_type": "code",
   "execution_count": 22,
   "metadata": {},
   "outputs": [],
   "source": [
    "df_all = pd.read_csv('data/data.csv')\n",
    "df_all['artists'] = df_all['artists'].apply(lambda x: x.replace('\"', \"'\").replace('[','').replace(']','').split(\"', '\"))"
   ]
  },
  {
   "cell_type": "code",
   "execution_count": 25,
   "metadata": {},
   "outputs": [
    {
     "output_type": "execute_result",
     "data": {
      "text/plain": [
       "        acousticness                  artists  danceability  duration_ms  \\\n",
       "0           0.991000            'Mamie Smith'         0.598       168333   \n",
       "1           0.643000  'Screamin' Jay Hawkins'         0.852       150200   \n",
       "2           0.993000            'Mamie Smith'         0.647       163827   \n",
       "3           0.000173        'Oscar Velazquez'         0.730       422087   \n",
       "4           0.295000                   'Mixe'         0.704       165224   \n",
       "...              ...                      ...           ...          ...   \n",
       "234367      0.009170                  Tony T'         0.792       147615   \n",
       "234368      0.795000           'Alessia Cara'         0.429       144720   \n",
       "234369      0.806000              'Roger Fly'         0.671       218147   \n",
       "234370      0.920000           'Taylor Swift'         0.462       244000   \n",
       "234371      0.239000              'Roger Fly'         0.677       197710   \n",
       "\n",
       "        energy  explicit                      id  instrumentalness  key  \\\n",
       "0        0.224         0  0cS0A1fUEUd1EW3FcF8AEI          0.000522    5   \n",
       "1        0.517         0  0hbkKFIJm7Z05H8Zl9w30f          0.026400    5   \n",
       "2        0.186         0  11m7laMUgmOKqI3oYzuhne          0.000018    0   \n",
       "3        0.798         0  19Lc5SfJJ5O1oaxY0fpwfh          0.801000    2   \n",
       "4        0.707         1  2hJjbsLCytGsnAHfdsLejp          0.000246   10   \n",
       "...        ...       ...                     ...               ...  ...   \n",
       "234367   0.866         0  46LhBf6TvYjZU2SMvGZAbn          0.000060    6   \n",
       "234368   0.211         0  7tue2Wemjd0FZzRtDrQFZd          0.000000    4   \n",
       "234369   0.589         0  48Qj61hOdYmUCFJbpQ29Ob          0.920000    4   \n",
       "234370   0.240         1  1gcyHQpBQ1lfXGdhZmWrHP          0.000000    0   \n",
       "234371   0.460         0  57tgYkWQTNHVFEt6xDKKZj          0.891000    7   \n",
       "\n",
       "        liveness  loudness  mode  \\\n",
       "0         0.3790   -12.628     0   \n",
       "1         0.0809    -7.261     0   \n",
       "2         0.5190   -12.098     1   \n",
       "3         0.1280    -7.311     1   \n",
       "4         0.4020    -6.036     0   \n",
       "...          ...       ...   ...   \n",
       "234367    0.1780    -5.089     0   \n",
       "234368    0.1960   -11.665     1   \n",
       "234369    0.1130   -12.393     0   \n",
       "234370    0.1130   -12.077     1   \n",
       "234371    0.2150   -12.237     1   \n",
       "\n",
       "                                                     name  popularity  \\\n",
       "0                                Keep A Song In Your Soul          12   \n",
       "1                                    I Put A Spell On You           7   \n",
       "2                                            Golfing Papa           4   \n",
       "3       True House Music - Xavier Santos & Carlos Gomi...          17   \n",
       "4                                               Xuniverxe           2   \n",
       "...                                                   ...         ...   \n",
       "234367                                            The One           0   \n",
       "234368                                      A Little More           0   \n",
       "234369                                           Together           0   \n",
       "234370                                 champagne problems          69   \n",
       "234371                                     Improvisations           0   \n",
       "\n",
       "       release_date  speechiness    tempo  valence  year  \n",
       "0              1920       0.0936  149.976   0.6340  1920  \n",
       "1        1920-01-05       0.0534   86.889   0.9500  1920  \n",
       "2              1920       0.1740   97.600   0.6890  1920  \n",
       "3        1920-01-01       0.0425  127.997   0.0422  1920  \n",
       "4        1920-10-01       0.0768  122.076   0.2990  1920  \n",
       "...             ...          ...      ...      ...   ...  \n",
       "234367   2020-12-25       0.0356  125.972   0.1860  2020  \n",
       "234368   2021-01-22       0.0360   94.710   0.2280  2021  \n",
       "234369   2020-12-09       0.0282  108.058   0.7140  2020  \n",
       "234370   2021-01-07       0.0377  171.319   0.3200  2021  \n",
       "234371   2020-12-09       0.0258  112.208   0.7470  2020  \n",
       "\n",
       "[234372 rows x 19 columns]"
      ],
      "text/html": "<div>\n<style scoped>\n    .dataframe tbody tr th:only-of-type {\n        vertical-align: middle;\n    }\n\n    .dataframe tbody tr th {\n        vertical-align: top;\n    }\n\n    .dataframe thead th {\n        text-align: right;\n    }\n</style>\n<table border=\"1\" class=\"dataframe\">\n  <thead>\n    <tr style=\"text-align: right;\">\n      <th></th>\n      <th>acousticness</th>\n      <th>artists</th>\n      <th>danceability</th>\n      <th>duration_ms</th>\n      <th>energy</th>\n      <th>explicit</th>\n      <th>id</th>\n      <th>instrumentalness</th>\n      <th>key</th>\n      <th>liveness</th>\n      <th>loudness</th>\n      <th>mode</th>\n      <th>name</th>\n      <th>popularity</th>\n      <th>release_date</th>\n      <th>speechiness</th>\n      <th>tempo</th>\n      <th>valence</th>\n      <th>year</th>\n    </tr>\n  </thead>\n  <tbody>\n    <tr>\n      <th>0</th>\n      <td>0.991000</td>\n      <td>'Mamie Smith'</td>\n      <td>0.598</td>\n      <td>168333</td>\n      <td>0.224</td>\n      <td>0</td>\n      <td>0cS0A1fUEUd1EW3FcF8AEI</td>\n      <td>0.000522</td>\n      <td>5</td>\n      <td>0.3790</td>\n      <td>-12.628</td>\n      <td>0</td>\n      <td>Keep A Song In Your Soul</td>\n      <td>12</td>\n      <td>1920</td>\n      <td>0.0936</td>\n      <td>149.976</td>\n      <td>0.6340</td>\n      <td>1920</td>\n    </tr>\n    <tr>\n      <th>1</th>\n      <td>0.643000</td>\n      <td>'Screamin' Jay Hawkins'</td>\n      <td>0.852</td>\n      <td>150200</td>\n      <td>0.517</td>\n      <td>0</td>\n      <td>0hbkKFIJm7Z05H8Zl9w30f</td>\n      <td>0.026400</td>\n      <td>5</td>\n      <td>0.0809</td>\n      <td>-7.261</td>\n      <td>0</td>\n      <td>I Put A Spell On You</td>\n      <td>7</td>\n      <td>1920-01-05</td>\n      <td>0.0534</td>\n      <td>86.889</td>\n      <td>0.9500</td>\n      <td>1920</td>\n    </tr>\n    <tr>\n      <th>2</th>\n      <td>0.993000</td>\n      <td>'Mamie Smith'</td>\n      <td>0.647</td>\n      <td>163827</td>\n      <td>0.186</td>\n      <td>0</td>\n      <td>11m7laMUgmOKqI3oYzuhne</td>\n      <td>0.000018</td>\n      <td>0</td>\n      <td>0.5190</td>\n      <td>-12.098</td>\n      <td>1</td>\n      <td>Golfing Papa</td>\n      <td>4</td>\n      <td>1920</td>\n      <td>0.1740</td>\n      <td>97.600</td>\n      <td>0.6890</td>\n      <td>1920</td>\n    </tr>\n    <tr>\n      <th>3</th>\n      <td>0.000173</td>\n      <td>'Oscar Velazquez'</td>\n      <td>0.730</td>\n      <td>422087</td>\n      <td>0.798</td>\n      <td>0</td>\n      <td>19Lc5SfJJ5O1oaxY0fpwfh</td>\n      <td>0.801000</td>\n      <td>2</td>\n      <td>0.1280</td>\n      <td>-7.311</td>\n      <td>1</td>\n      <td>True House Music - Xavier Santos &amp; Carlos Gomi...</td>\n      <td>17</td>\n      <td>1920-01-01</td>\n      <td>0.0425</td>\n      <td>127.997</td>\n      <td>0.0422</td>\n      <td>1920</td>\n    </tr>\n    <tr>\n      <th>4</th>\n      <td>0.295000</td>\n      <td>'Mixe'</td>\n      <td>0.704</td>\n      <td>165224</td>\n      <td>0.707</td>\n      <td>1</td>\n      <td>2hJjbsLCytGsnAHfdsLejp</td>\n      <td>0.000246</td>\n      <td>10</td>\n      <td>0.4020</td>\n      <td>-6.036</td>\n      <td>0</td>\n      <td>Xuniverxe</td>\n      <td>2</td>\n      <td>1920-10-01</td>\n      <td>0.0768</td>\n      <td>122.076</td>\n      <td>0.2990</td>\n      <td>1920</td>\n    </tr>\n    <tr>\n      <th>...</th>\n      <td>...</td>\n      <td>...</td>\n      <td>...</td>\n      <td>...</td>\n      <td>...</td>\n      <td>...</td>\n      <td>...</td>\n      <td>...</td>\n      <td>...</td>\n      <td>...</td>\n      <td>...</td>\n      <td>...</td>\n      <td>...</td>\n      <td>...</td>\n      <td>...</td>\n      <td>...</td>\n      <td>...</td>\n      <td>...</td>\n      <td>...</td>\n    </tr>\n    <tr>\n      <th>234367</th>\n      <td>0.009170</td>\n      <td>Tony T'</td>\n      <td>0.792</td>\n      <td>147615</td>\n      <td>0.866</td>\n      <td>0</td>\n      <td>46LhBf6TvYjZU2SMvGZAbn</td>\n      <td>0.000060</td>\n      <td>6</td>\n      <td>0.1780</td>\n      <td>-5.089</td>\n      <td>0</td>\n      <td>The One</td>\n      <td>0</td>\n      <td>2020-12-25</td>\n      <td>0.0356</td>\n      <td>125.972</td>\n      <td>0.1860</td>\n      <td>2020</td>\n    </tr>\n    <tr>\n      <th>234368</th>\n      <td>0.795000</td>\n      <td>'Alessia Cara'</td>\n      <td>0.429</td>\n      <td>144720</td>\n      <td>0.211</td>\n      <td>0</td>\n      <td>7tue2Wemjd0FZzRtDrQFZd</td>\n      <td>0.000000</td>\n      <td>4</td>\n      <td>0.1960</td>\n      <td>-11.665</td>\n      <td>1</td>\n      <td>A Little More</td>\n      <td>0</td>\n      <td>2021-01-22</td>\n      <td>0.0360</td>\n      <td>94.710</td>\n      <td>0.2280</td>\n      <td>2021</td>\n    </tr>\n    <tr>\n      <th>234369</th>\n      <td>0.806000</td>\n      <td>'Roger Fly'</td>\n      <td>0.671</td>\n      <td>218147</td>\n      <td>0.589</td>\n      <td>0</td>\n      <td>48Qj61hOdYmUCFJbpQ29Ob</td>\n      <td>0.920000</td>\n      <td>4</td>\n      <td>0.1130</td>\n      <td>-12.393</td>\n      <td>0</td>\n      <td>Together</td>\n      <td>0</td>\n      <td>2020-12-09</td>\n      <td>0.0282</td>\n      <td>108.058</td>\n      <td>0.7140</td>\n      <td>2020</td>\n    </tr>\n    <tr>\n      <th>234370</th>\n      <td>0.920000</td>\n      <td>'Taylor Swift'</td>\n      <td>0.462</td>\n      <td>244000</td>\n      <td>0.240</td>\n      <td>1</td>\n      <td>1gcyHQpBQ1lfXGdhZmWrHP</td>\n      <td>0.000000</td>\n      <td>0</td>\n      <td>0.1130</td>\n      <td>-12.077</td>\n      <td>1</td>\n      <td>champagne problems</td>\n      <td>69</td>\n      <td>2021-01-07</td>\n      <td>0.0377</td>\n      <td>171.319</td>\n      <td>0.3200</td>\n      <td>2021</td>\n    </tr>\n    <tr>\n      <th>234371</th>\n      <td>0.239000</td>\n      <td>'Roger Fly'</td>\n      <td>0.677</td>\n      <td>197710</td>\n      <td>0.460</td>\n      <td>0</td>\n      <td>57tgYkWQTNHVFEt6xDKKZj</td>\n      <td>0.891000</td>\n      <td>7</td>\n      <td>0.2150</td>\n      <td>-12.237</td>\n      <td>1</td>\n      <td>Improvisations</td>\n      <td>0</td>\n      <td>2020-12-09</td>\n      <td>0.0258</td>\n      <td>112.208</td>\n      <td>0.7470</td>\n      <td>2020</td>\n    </tr>\n  </tbody>\n</table>\n<p>234372 rows × 19 columns</p>\n</div>"
     },
     "metadata": {},
     "execution_count": 25
    }
   ],
   "source": [
    "df_all_split = df_all.explode('artists').reset_index(drop=True)\n",
    "df_all_split"
   ]
  },
  {
   "cell_type": "code",
   "execution_count": 26,
   "metadata": {},
   "outputs": [],
   "source": [
    "df_all_split.to_csv('data/data_bubble_to_artist.csv')"
   ]
  },
  {
   "cell_type": "code",
   "execution_count": 4,
   "metadata": {},
   "outputs": [],
   "source": [
    "df_all_split = pd.read_csv('data/data_bubble_to_artist.csv')"
   ]
  },
  {
   "cell_type": "code",
   "execution_count": 5,
   "metadata": {},
   "outputs": [
    {
     "output_type": "execute_result",
     "data": {
      "text/plain": [
       "        Unnamed: 0  acousticness                  artists  danceability  \\\n",
       "0                0      0.991000            'Mamie Smith'         0.598   \n",
       "1                1      0.643000  'Screamin' Jay Hawkins'         0.852   \n",
       "2                2      0.993000            'Mamie Smith'         0.647   \n",
       "3                3      0.000173        'Oscar Velazquez'         0.730   \n",
       "4                4      0.295000                   'Mixe'         0.704   \n",
       "...            ...           ...                      ...           ...   \n",
       "234367      234367      0.009170                  Tony T'         0.792   \n",
       "234368      234368      0.795000           'Alessia Cara'         0.429   \n",
       "234369      234369      0.806000              'Roger Fly'         0.671   \n",
       "234370      234370      0.920000           'Taylor Swift'         0.462   \n",
       "234371      234371      0.239000              'Roger Fly'         0.677   \n",
       "\n",
       "        duration_ms  energy  explicit                      id  \\\n",
       "0            168333   0.224         0  0cS0A1fUEUd1EW3FcF8AEI   \n",
       "1            150200   0.517         0  0hbkKFIJm7Z05H8Zl9w30f   \n",
       "2            163827   0.186         0  11m7laMUgmOKqI3oYzuhne   \n",
       "3            422087   0.798         0  19Lc5SfJJ5O1oaxY0fpwfh   \n",
       "4            165224   0.707         1  2hJjbsLCytGsnAHfdsLejp   \n",
       "...             ...     ...       ...                     ...   \n",
       "234367       147615   0.866         0  46LhBf6TvYjZU2SMvGZAbn   \n",
       "234368       144720   0.211         0  7tue2Wemjd0FZzRtDrQFZd   \n",
       "234369       218147   0.589         0  48Qj61hOdYmUCFJbpQ29Ob   \n",
       "234370       244000   0.240         1  1gcyHQpBQ1lfXGdhZmWrHP   \n",
       "234371       197710   0.460         0  57tgYkWQTNHVFEt6xDKKZj   \n",
       "\n",
       "        instrumentalness  key  liveness  loudness  mode  \\\n",
       "0               0.000522    5    0.3790   -12.628     0   \n",
       "1               0.026400    5    0.0809    -7.261     0   \n",
       "2               0.000018    0    0.5190   -12.098     1   \n",
       "3               0.801000    2    0.1280    -7.311     1   \n",
       "4               0.000246   10    0.4020    -6.036     0   \n",
       "...                  ...  ...       ...       ...   ...   \n",
       "234367          0.000060    6    0.1780    -5.089     0   \n",
       "234368          0.000000    4    0.1960   -11.665     1   \n",
       "234369          0.920000    4    0.1130   -12.393     0   \n",
       "234370          0.000000    0    0.1130   -12.077     1   \n",
       "234371          0.891000    7    0.2150   -12.237     1   \n",
       "\n",
       "                                                     name  popularity  \\\n",
       "0                                Keep A Song In Your Soul          12   \n",
       "1                                    I Put A Spell On You           7   \n",
       "2                                            Golfing Papa           4   \n",
       "3       True House Music - Xavier Santos & Carlos Gomi...          17   \n",
       "4                                               Xuniverxe           2   \n",
       "...                                                   ...         ...   \n",
       "234367                                            The One           0   \n",
       "234368                                      A Little More           0   \n",
       "234369                                           Together           0   \n",
       "234370                                 champagne problems          69   \n",
       "234371                                     Improvisations           0   \n",
       "\n",
       "       release_date  speechiness    tempo  valence  year  \n",
       "0              1920       0.0936  149.976   0.6340  1920  \n",
       "1        1920-01-05       0.0534   86.889   0.9500  1920  \n",
       "2              1920       0.1740   97.600   0.6890  1920  \n",
       "3        1920-01-01       0.0425  127.997   0.0422  1920  \n",
       "4        1920-10-01       0.0768  122.076   0.2990  1920  \n",
       "...             ...          ...      ...      ...   ...  \n",
       "234367   2020-12-25       0.0356  125.972   0.1860  2020  \n",
       "234368   2021-01-22       0.0360   94.710   0.2280  2021  \n",
       "234369   2020-12-09       0.0282  108.058   0.7140  2020  \n",
       "234370   2021-01-07       0.0377  171.319   0.3200  2021  \n",
       "234371   2020-12-09       0.0258  112.208   0.7470  2020  \n",
       "\n",
       "[234372 rows x 20 columns]"
      ],
      "text/html": "<div>\n<style scoped>\n    .dataframe tbody tr th:only-of-type {\n        vertical-align: middle;\n    }\n\n    .dataframe tbody tr th {\n        vertical-align: top;\n    }\n\n    .dataframe thead th {\n        text-align: right;\n    }\n</style>\n<table border=\"1\" class=\"dataframe\">\n  <thead>\n    <tr style=\"text-align: right;\">\n      <th></th>\n      <th>Unnamed: 0</th>\n      <th>acousticness</th>\n      <th>artists</th>\n      <th>danceability</th>\n      <th>duration_ms</th>\n      <th>energy</th>\n      <th>explicit</th>\n      <th>id</th>\n      <th>instrumentalness</th>\n      <th>key</th>\n      <th>liveness</th>\n      <th>loudness</th>\n      <th>mode</th>\n      <th>name</th>\n      <th>popularity</th>\n      <th>release_date</th>\n      <th>speechiness</th>\n      <th>tempo</th>\n      <th>valence</th>\n      <th>year</th>\n    </tr>\n  </thead>\n  <tbody>\n    <tr>\n      <th>0</th>\n      <td>0</td>\n      <td>0.991000</td>\n      <td>'Mamie Smith'</td>\n      <td>0.598</td>\n      <td>168333</td>\n      <td>0.224</td>\n      <td>0</td>\n      <td>0cS0A1fUEUd1EW3FcF8AEI</td>\n      <td>0.000522</td>\n      <td>5</td>\n      <td>0.3790</td>\n      <td>-12.628</td>\n      <td>0</td>\n      <td>Keep A Song In Your Soul</td>\n      <td>12</td>\n      <td>1920</td>\n      <td>0.0936</td>\n      <td>149.976</td>\n      <td>0.6340</td>\n      <td>1920</td>\n    </tr>\n    <tr>\n      <th>1</th>\n      <td>1</td>\n      <td>0.643000</td>\n      <td>'Screamin' Jay Hawkins'</td>\n      <td>0.852</td>\n      <td>150200</td>\n      <td>0.517</td>\n      <td>0</td>\n      <td>0hbkKFIJm7Z05H8Zl9w30f</td>\n      <td>0.026400</td>\n      <td>5</td>\n      <td>0.0809</td>\n      <td>-7.261</td>\n      <td>0</td>\n      <td>I Put A Spell On You</td>\n      <td>7</td>\n      <td>1920-01-05</td>\n      <td>0.0534</td>\n      <td>86.889</td>\n      <td>0.9500</td>\n      <td>1920</td>\n    </tr>\n    <tr>\n      <th>2</th>\n      <td>2</td>\n      <td>0.993000</td>\n      <td>'Mamie Smith'</td>\n      <td>0.647</td>\n      <td>163827</td>\n      <td>0.186</td>\n      <td>0</td>\n      <td>11m7laMUgmOKqI3oYzuhne</td>\n      <td>0.000018</td>\n      <td>0</td>\n      <td>0.5190</td>\n      <td>-12.098</td>\n      <td>1</td>\n      <td>Golfing Papa</td>\n      <td>4</td>\n      <td>1920</td>\n      <td>0.1740</td>\n      <td>97.600</td>\n      <td>0.6890</td>\n      <td>1920</td>\n    </tr>\n    <tr>\n      <th>3</th>\n      <td>3</td>\n      <td>0.000173</td>\n      <td>'Oscar Velazquez'</td>\n      <td>0.730</td>\n      <td>422087</td>\n      <td>0.798</td>\n      <td>0</td>\n      <td>19Lc5SfJJ5O1oaxY0fpwfh</td>\n      <td>0.801000</td>\n      <td>2</td>\n      <td>0.1280</td>\n      <td>-7.311</td>\n      <td>1</td>\n      <td>True House Music - Xavier Santos &amp; Carlos Gomi...</td>\n      <td>17</td>\n      <td>1920-01-01</td>\n      <td>0.0425</td>\n      <td>127.997</td>\n      <td>0.0422</td>\n      <td>1920</td>\n    </tr>\n    <tr>\n      <th>4</th>\n      <td>4</td>\n      <td>0.295000</td>\n      <td>'Mixe'</td>\n      <td>0.704</td>\n      <td>165224</td>\n      <td>0.707</td>\n      <td>1</td>\n      <td>2hJjbsLCytGsnAHfdsLejp</td>\n      <td>0.000246</td>\n      <td>10</td>\n      <td>0.4020</td>\n      <td>-6.036</td>\n      <td>0</td>\n      <td>Xuniverxe</td>\n      <td>2</td>\n      <td>1920-10-01</td>\n      <td>0.0768</td>\n      <td>122.076</td>\n      <td>0.2990</td>\n      <td>1920</td>\n    </tr>\n    <tr>\n      <th>...</th>\n      <td>...</td>\n      <td>...</td>\n      <td>...</td>\n      <td>...</td>\n      <td>...</td>\n      <td>...</td>\n      <td>...</td>\n      <td>...</td>\n      <td>...</td>\n      <td>...</td>\n      <td>...</td>\n      <td>...</td>\n      <td>...</td>\n      <td>...</td>\n      <td>...</td>\n      <td>...</td>\n      <td>...</td>\n      <td>...</td>\n      <td>...</td>\n      <td>...</td>\n    </tr>\n    <tr>\n      <th>234367</th>\n      <td>234367</td>\n      <td>0.009170</td>\n      <td>Tony T'</td>\n      <td>0.792</td>\n      <td>147615</td>\n      <td>0.866</td>\n      <td>0</td>\n      <td>46LhBf6TvYjZU2SMvGZAbn</td>\n      <td>0.000060</td>\n      <td>6</td>\n      <td>0.1780</td>\n      <td>-5.089</td>\n      <td>0</td>\n      <td>The One</td>\n      <td>0</td>\n      <td>2020-12-25</td>\n      <td>0.0356</td>\n      <td>125.972</td>\n      <td>0.1860</td>\n      <td>2020</td>\n    </tr>\n    <tr>\n      <th>234368</th>\n      <td>234368</td>\n      <td>0.795000</td>\n      <td>'Alessia Cara'</td>\n      <td>0.429</td>\n      <td>144720</td>\n      <td>0.211</td>\n      <td>0</td>\n      <td>7tue2Wemjd0FZzRtDrQFZd</td>\n      <td>0.000000</td>\n      <td>4</td>\n      <td>0.1960</td>\n      <td>-11.665</td>\n      <td>1</td>\n      <td>A Little More</td>\n      <td>0</td>\n      <td>2021-01-22</td>\n      <td>0.0360</td>\n      <td>94.710</td>\n      <td>0.2280</td>\n      <td>2021</td>\n    </tr>\n    <tr>\n      <th>234369</th>\n      <td>234369</td>\n      <td>0.806000</td>\n      <td>'Roger Fly'</td>\n      <td>0.671</td>\n      <td>218147</td>\n      <td>0.589</td>\n      <td>0</td>\n      <td>48Qj61hOdYmUCFJbpQ29Ob</td>\n      <td>0.920000</td>\n      <td>4</td>\n      <td>0.1130</td>\n      <td>-12.393</td>\n      <td>0</td>\n      <td>Together</td>\n      <td>0</td>\n      <td>2020-12-09</td>\n      <td>0.0282</td>\n      <td>108.058</td>\n      <td>0.7140</td>\n      <td>2020</td>\n    </tr>\n    <tr>\n      <th>234370</th>\n      <td>234370</td>\n      <td>0.920000</td>\n      <td>'Taylor Swift'</td>\n      <td>0.462</td>\n      <td>244000</td>\n      <td>0.240</td>\n      <td>1</td>\n      <td>1gcyHQpBQ1lfXGdhZmWrHP</td>\n      <td>0.000000</td>\n      <td>0</td>\n      <td>0.1130</td>\n      <td>-12.077</td>\n      <td>1</td>\n      <td>champagne problems</td>\n      <td>69</td>\n      <td>2021-01-07</td>\n      <td>0.0377</td>\n      <td>171.319</td>\n      <td>0.3200</td>\n      <td>2021</td>\n    </tr>\n    <tr>\n      <th>234371</th>\n      <td>234371</td>\n      <td>0.239000</td>\n      <td>'Roger Fly'</td>\n      <td>0.677</td>\n      <td>197710</td>\n      <td>0.460</td>\n      <td>0</td>\n      <td>57tgYkWQTNHVFEt6xDKKZj</td>\n      <td>0.891000</td>\n      <td>7</td>\n      <td>0.2150</td>\n      <td>-12.237</td>\n      <td>1</td>\n      <td>Improvisations</td>\n      <td>0</td>\n      <td>2020-12-09</td>\n      <td>0.0258</td>\n      <td>112.208</td>\n      <td>0.7470</td>\n      <td>2020</td>\n    </tr>\n  </tbody>\n</table>\n<p>234372 rows × 20 columns</p>\n</div>"
     },
     "metadata": {},
     "execution_count": 5
    }
   ],
   "source": [
    "df_all_split"
   ]
  },
  {
   "cell_type": "code",
   "execution_count": 11,
   "metadata": {},
   "outputs": [
    {
     "output_type": "execute_result",
     "data": {
      "text/plain": [
       "       Unnamed: 0  Unnamed: 0.1  year                     artist  \\\n",
       "18491       18491         18491  2020             Workout Music    \n",
       "29917       29917         29917  2019             Workout Music    \n",
       "36996       36996         36996  2017             Workout Music    \n",
       "49807       49807         49807  2021         Workout Motivation   \n",
       "50118       50118         50118  2017  Workout Motivation Center   \n",
       "55975       55975         55975  2016              Workout Buddy   \n",
       "61967       61967         61967  2016           Workout Music Tv   \n",
       "61969       61969         61969  2017              Workout Buddy   \n",
       "68061       68061         68061  2018              Workout Buddy   \n",
       "68065       68065         68065  2018      Workout Dance Factory   \n",
       "68071       68071         68071  2018             Workout Music    \n",
       "73416       73416         73416  2017         Work This! Workout   \n",
       "\n",
       "       agg_popularity  \n",
       "18491            1564  \n",
       "29917             300  \n",
       "36996              21  \n",
       "49807               0  \n",
       "50118               0  \n",
       "55975               0  \n",
       "61967               9  \n",
       "61969               2  \n",
       "68061               0  \n",
       "68065               1  \n",
       "68071               2  \n",
       "73416               0  "
      ],
      "text/html": "<div>\n<style scoped>\n    .dataframe tbody tr th:only-of-type {\n        vertical-align: middle;\n    }\n\n    .dataframe tbody tr th {\n        vertical-align: top;\n    }\n\n    .dataframe thead th {\n        text-align: right;\n    }\n</style>\n<table border=\"1\" class=\"dataframe\">\n  <thead>\n    <tr style=\"text-align: right;\">\n      <th></th>\n      <th>Unnamed: 0</th>\n      <th>Unnamed: 0.1</th>\n      <th>year</th>\n      <th>artist</th>\n      <th>agg_popularity</th>\n    </tr>\n  </thead>\n  <tbody>\n    <tr>\n      <th>18491</th>\n      <td>18491</td>\n      <td>18491</td>\n      <td>2020</td>\n      <td>Workout Music</td>\n      <td>1564</td>\n    </tr>\n    <tr>\n      <th>29917</th>\n      <td>29917</td>\n      <td>29917</td>\n      <td>2019</td>\n      <td>Workout Music</td>\n      <td>300</td>\n    </tr>\n    <tr>\n      <th>36996</th>\n      <td>36996</td>\n      <td>36996</td>\n      <td>2017</td>\n      <td>Workout Music</td>\n      <td>21</td>\n    </tr>\n    <tr>\n      <th>49807</th>\n      <td>49807</td>\n      <td>49807</td>\n      <td>2021</td>\n      <td>Workout Motivation</td>\n      <td>0</td>\n    </tr>\n    <tr>\n      <th>50118</th>\n      <td>50118</td>\n      <td>50118</td>\n      <td>2017</td>\n      <td>Workout Motivation Center</td>\n      <td>0</td>\n    </tr>\n    <tr>\n      <th>55975</th>\n      <td>55975</td>\n      <td>55975</td>\n      <td>2016</td>\n      <td>Workout Buddy</td>\n      <td>0</td>\n    </tr>\n    <tr>\n      <th>61967</th>\n      <td>61967</td>\n      <td>61967</td>\n      <td>2016</td>\n      <td>Workout Music Tv</td>\n      <td>9</td>\n    </tr>\n    <tr>\n      <th>61969</th>\n      <td>61969</td>\n      <td>61969</td>\n      <td>2017</td>\n      <td>Workout Buddy</td>\n      <td>2</td>\n    </tr>\n    <tr>\n      <th>68061</th>\n      <td>68061</td>\n      <td>68061</td>\n      <td>2018</td>\n      <td>Workout Buddy</td>\n      <td>0</td>\n    </tr>\n    <tr>\n      <th>68065</th>\n      <td>68065</td>\n      <td>68065</td>\n      <td>2018</td>\n      <td>Workout Dance Factory</td>\n      <td>1</td>\n    </tr>\n    <tr>\n      <th>68071</th>\n      <td>68071</td>\n      <td>68071</td>\n      <td>2018</td>\n      <td>Workout Music</td>\n      <td>2</td>\n    </tr>\n    <tr>\n      <th>73416</th>\n      <td>73416</td>\n      <td>73416</td>\n      <td>2017</td>\n      <td>Work This! Workout</td>\n      <td>0</td>\n    </tr>\n  </tbody>\n</table>\n</div>"
     },
     "metadata": {},
     "execution_count": 11
    }
   ],
   "source": [
    "new_df[new_df.artist.str[0:4] == 'Work']"
   ]
  },
  {
   "cell_type": "code",
   "execution_count": 15,
   "metadata": {},
   "outputs": [
    {
     "output_type": "execute_result",
     "data": {
      "text/plain": [
       "        Unnamed: 0  acousticness           artists  danceability  duration_ms  \\\n",
       "45908        45908      0.034200  'Workout Music '         0.694       247280   \n",
       "45927        45927      0.037100  'Workout Music '         0.665       250714   \n",
       "45933        45933      0.000966  'Workout Music '         0.772       255428   \n",
       "45951        45951      0.000329  'Workout Music '         0.562       250714   \n",
       "45953        45953      0.000329  'Workout Music '         0.562       250714   \n",
       "...            ...           ...               ...           ...          ...   \n",
       "233990      233990      0.008180  'Workout Music '         0.728       270080   \n",
       "233995      233995      0.030700  'Workout Music '         0.773       256800   \n",
       "233998      233998      0.013800  'Workout Music '         0.734       277493   \n",
       "234001      234001      0.065400  'Workout Music '         0.533       287987   \n",
       "234003      234003      0.003580  'Workout Music '         0.764       268120   \n",
       "\n",
       "        energy  explicit                      id  instrumentalness  key  \\\n",
       "45908    0.952         0  1qo6ZFJzZ3fah2owpZltHS          0.210000    8   \n",
       "45927    0.870         0  5AismxfhycOrAUgsXlnGRm          0.051100    1   \n",
       "45933    0.676         0  5rEjKaIQZLrD58PNpCXou6          0.000719    1   \n",
       "45951    0.723         0  5cPGbdhn8f2g93ahuZeHok          0.459000   10   \n",
       "45953    0.723         0  5cPGbdhn8f2g93ahuZeHok          0.459000   10   \n",
       "...        ...       ...                     ...               ...  ...   \n",
       "233990   0.802         0  4PuHzntmfWwlmT5FOaLPxO          0.000000    5   \n",
       "233995   0.745         0  6cnCKULXZccT8eVBLWQoGk          0.054600    0   \n",
       "233998   0.809         0  4ZzfKwqPfy02fpQxuh9Zz3          0.012600    0   \n",
       "234001   0.879         0  3O1lskEk6MF8bEQ76Q7Cmv          0.000000    5   \n",
       "234003   0.828         0  4fBQiIB6X7sE5RWK7mZq8N          0.005500    2   \n",
       "\n",
       "        liveness  loudness  mode  \\\n",
       "45908     0.0774    -1.686     1   \n",
       "45927     0.1820    -7.622     0   \n",
       "45933     0.0277    -9.380     0   \n",
       "45951     0.4020    -7.653     0   \n",
       "45953     0.4020    -7.653     0   \n",
       "...          ...       ...   ...   \n",
       "233990    0.0637    -1.331     0   \n",
       "233995    0.0898    -5.535     1   \n",
       "233998    0.0635    -5.655     0   \n",
       "234001    0.0147    -3.736     1   \n",
       "234003    0.0763    -3.625     1   \n",
       "\n",
       "                                                  name  popularity  \\\n",
       "45908   Blinding Lights (Cardio + Running Workout Mix)          21   \n",
       "45927    Kings & Queens (Cardio + Running Workout Mix)          19   \n",
       "45933             Bang! (Cardio + Running Workout Mix)          18   \n",
       "45951              Holy (Cardio + Running Workout Mix)          17   \n",
       "45953              Holy (Cardio + Running Workout Mix)          17   \n",
       "...                                                ...         ...   \n",
       "233990                            Good as Hell (Remix)          13   \n",
       "233995                              Only Human (Remix)          13   \n",
       "233998               RITMO (Bay Boys For Life) [Remix]          14   \n",
       "234001                        Beautiful People (Remix)          14   \n",
       "234003                                    Tusa (Remix)          16   \n",
       "\n",
       "       release_date  speechiness    tempo  valence  year  \n",
       "45908    2020-12-23       0.1790  135.476    0.962  2020  \n",
       "45927    2020-12-23       0.0650  139.991    0.884  2020  \n",
       "45933    2020-12-23       0.1220  139.983    0.958  2020  \n",
       "45951    2020-12-23       0.0298  139.918    0.451  2020  \n",
       "45953    2020-12-23       0.0298  139.918    0.451  2020  \n",
       "...             ...          ...      ...      ...   ...  \n",
       "233990   2019-12-26       0.0468  127.968    0.928  2019  \n",
       "233995   2019-12-26       0.0442  127.991    0.898  2019  \n",
       "233998   2019-12-26       0.1150  128.015    0.965  2019  \n",
       "234001   2019-12-26       0.0492  129.943    0.398  2019  \n",
       "234003   2019-12-26       0.0810  127.994    0.931  2019  \n",
       "\n",
       "[219 rows x 20 columns]"
      ],
      "text/html": "<div>\n<style scoped>\n    .dataframe tbody tr th:only-of-type {\n        vertical-align: middle;\n    }\n\n    .dataframe tbody tr th {\n        vertical-align: top;\n    }\n\n    .dataframe thead th {\n        text-align: right;\n    }\n</style>\n<table border=\"1\" class=\"dataframe\">\n  <thead>\n    <tr style=\"text-align: right;\">\n      <th></th>\n      <th>Unnamed: 0</th>\n      <th>acousticness</th>\n      <th>artists</th>\n      <th>danceability</th>\n      <th>duration_ms</th>\n      <th>energy</th>\n      <th>explicit</th>\n      <th>id</th>\n      <th>instrumentalness</th>\n      <th>key</th>\n      <th>liveness</th>\n      <th>loudness</th>\n      <th>mode</th>\n      <th>name</th>\n      <th>popularity</th>\n      <th>release_date</th>\n      <th>speechiness</th>\n      <th>tempo</th>\n      <th>valence</th>\n      <th>year</th>\n    </tr>\n  </thead>\n  <tbody>\n    <tr>\n      <th>45908</th>\n      <td>45908</td>\n      <td>0.034200</td>\n      <td>'Workout Music '</td>\n      <td>0.694</td>\n      <td>247280</td>\n      <td>0.952</td>\n      <td>0</td>\n      <td>1qo6ZFJzZ3fah2owpZltHS</td>\n      <td>0.210000</td>\n      <td>8</td>\n      <td>0.0774</td>\n      <td>-1.686</td>\n      <td>1</td>\n      <td>Blinding Lights (Cardio + Running Workout Mix)</td>\n      <td>21</td>\n      <td>2020-12-23</td>\n      <td>0.1790</td>\n      <td>135.476</td>\n      <td>0.962</td>\n      <td>2020</td>\n    </tr>\n    <tr>\n      <th>45927</th>\n      <td>45927</td>\n      <td>0.037100</td>\n      <td>'Workout Music '</td>\n      <td>0.665</td>\n      <td>250714</td>\n      <td>0.870</td>\n      <td>0</td>\n      <td>5AismxfhycOrAUgsXlnGRm</td>\n      <td>0.051100</td>\n      <td>1</td>\n      <td>0.1820</td>\n      <td>-7.622</td>\n      <td>0</td>\n      <td>Kings &amp; Queens (Cardio + Running Workout Mix)</td>\n      <td>19</td>\n      <td>2020-12-23</td>\n      <td>0.0650</td>\n      <td>139.991</td>\n      <td>0.884</td>\n      <td>2020</td>\n    </tr>\n    <tr>\n      <th>45933</th>\n      <td>45933</td>\n      <td>0.000966</td>\n      <td>'Workout Music '</td>\n      <td>0.772</td>\n      <td>255428</td>\n      <td>0.676</td>\n      <td>0</td>\n      <td>5rEjKaIQZLrD58PNpCXou6</td>\n      <td>0.000719</td>\n      <td>1</td>\n      <td>0.0277</td>\n      <td>-9.380</td>\n      <td>0</td>\n      <td>Bang! (Cardio + Running Workout Mix)</td>\n      <td>18</td>\n      <td>2020-12-23</td>\n      <td>0.1220</td>\n      <td>139.983</td>\n      <td>0.958</td>\n      <td>2020</td>\n    </tr>\n    <tr>\n      <th>45951</th>\n      <td>45951</td>\n      <td>0.000329</td>\n      <td>'Workout Music '</td>\n      <td>0.562</td>\n      <td>250714</td>\n      <td>0.723</td>\n      <td>0</td>\n      <td>5cPGbdhn8f2g93ahuZeHok</td>\n      <td>0.459000</td>\n      <td>10</td>\n      <td>0.4020</td>\n      <td>-7.653</td>\n      <td>0</td>\n      <td>Holy (Cardio + Running Workout Mix)</td>\n      <td>17</td>\n      <td>2020-12-23</td>\n      <td>0.0298</td>\n      <td>139.918</td>\n      <td>0.451</td>\n      <td>2020</td>\n    </tr>\n    <tr>\n      <th>45953</th>\n      <td>45953</td>\n      <td>0.000329</td>\n      <td>'Workout Music '</td>\n      <td>0.562</td>\n      <td>250714</td>\n      <td>0.723</td>\n      <td>0</td>\n      <td>5cPGbdhn8f2g93ahuZeHok</td>\n      <td>0.459000</td>\n      <td>10</td>\n      <td>0.4020</td>\n      <td>-7.653</td>\n      <td>0</td>\n      <td>Holy (Cardio + Running Workout Mix)</td>\n      <td>17</td>\n      <td>2020-12-23</td>\n      <td>0.0298</td>\n      <td>139.918</td>\n      <td>0.451</td>\n      <td>2020</td>\n    </tr>\n    <tr>\n      <th>...</th>\n      <td>...</td>\n      <td>...</td>\n      <td>...</td>\n      <td>...</td>\n      <td>...</td>\n      <td>...</td>\n      <td>...</td>\n      <td>...</td>\n      <td>...</td>\n      <td>...</td>\n      <td>...</td>\n      <td>...</td>\n      <td>...</td>\n      <td>...</td>\n      <td>...</td>\n      <td>...</td>\n      <td>...</td>\n      <td>...</td>\n      <td>...</td>\n      <td>...</td>\n    </tr>\n    <tr>\n      <th>233990</th>\n      <td>233990</td>\n      <td>0.008180</td>\n      <td>'Workout Music '</td>\n      <td>0.728</td>\n      <td>270080</td>\n      <td>0.802</td>\n      <td>0</td>\n      <td>4PuHzntmfWwlmT5FOaLPxO</td>\n      <td>0.000000</td>\n      <td>5</td>\n      <td>0.0637</td>\n      <td>-1.331</td>\n      <td>0</td>\n      <td>Good as Hell (Remix)</td>\n      <td>13</td>\n      <td>2019-12-26</td>\n      <td>0.0468</td>\n      <td>127.968</td>\n      <td>0.928</td>\n      <td>2019</td>\n    </tr>\n    <tr>\n      <th>233995</th>\n      <td>233995</td>\n      <td>0.030700</td>\n      <td>'Workout Music '</td>\n      <td>0.773</td>\n      <td>256800</td>\n      <td>0.745</td>\n      <td>0</td>\n      <td>6cnCKULXZccT8eVBLWQoGk</td>\n      <td>0.054600</td>\n      <td>0</td>\n      <td>0.0898</td>\n      <td>-5.535</td>\n      <td>1</td>\n      <td>Only Human (Remix)</td>\n      <td>13</td>\n      <td>2019-12-26</td>\n      <td>0.0442</td>\n      <td>127.991</td>\n      <td>0.898</td>\n      <td>2019</td>\n    </tr>\n    <tr>\n      <th>233998</th>\n      <td>233998</td>\n      <td>0.013800</td>\n      <td>'Workout Music '</td>\n      <td>0.734</td>\n      <td>277493</td>\n      <td>0.809</td>\n      <td>0</td>\n      <td>4ZzfKwqPfy02fpQxuh9Zz3</td>\n      <td>0.012600</td>\n      <td>0</td>\n      <td>0.0635</td>\n      <td>-5.655</td>\n      <td>0</td>\n      <td>RITMO (Bay Boys For Life) [Remix]</td>\n      <td>14</td>\n      <td>2019-12-26</td>\n      <td>0.1150</td>\n      <td>128.015</td>\n      <td>0.965</td>\n      <td>2019</td>\n    </tr>\n    <tr>\n      <th>234001</th>\n      <td>234001</td>\n      <td>0.065400</td>\n      <td>'Workout Music '</td>\n      <td>0.533</td>\n      <td>287987</td>\n      <td>0.879</td>\n      <td>0</td>\n      <td>3O1lskEk6MF8bEQ76Q7Cmv</td>\n      <td>0.000000</td>\n      <td>5</td>\n      <td>0.0147</td>\n      <td>-3.736</td>\n      <td>1</td>\n      <td>Beautiful People (Remix)</td>\n      <td>14</td>\n      <td>2019-12-26</td>\n      <td>0.0492</td>\n      <td>129.943</td>\n      <td>0.398</td>\n      <td>2019</td>\n    </tr>\n    <tr>\n      <th>234003</th>\n      <td>234003</td>\n      <td>0.003580</td>\n      <td>'Workout Music '</td>\n      <td>0.764</td>\n      <td>268120</td>\n      <td>0.828</td>\n      <td>0</td>\n      <td>4fBQiIB6X7sE5RWK7mZq8N</td>\n      <td>0.005500</td>\n      <td>2</td>\n      <td>0.0763</td>\n      <td>-3.625</td>\n      <td>1</td>\n      <td>Tusa (Remix)</td>\n      <td>16</td>\n      <td>2019-12-26</td>\n      <td>0.0810</td>\n      <td>127.994</td>\n      <td>0.931</td>\n      <td>2019</td>\n    </tr>\n  </tbody>\n</table>\n<p>219 rows × 20 columns</p>\n</div>"
     },
     "metadata": {},
     "execution_count": 15
    }
   ],
   "source": [
    "df_all_split[df_all_split.artists.str[0:5] == '\\'Work']"
   ]
  },
  {
   "cell_type": "code",
   "execution_count": 22,
   "metadata": {},
   "outputs": [],
   "source": [
    "for i in range(len(df_all_split['artists'])):\n",
    "    a = df_all_split.iloc[i].artists\n",
    "    if a[0]==\"'\":\n",
    "        a = a[1:]\n",
    "    if a[-1]==\"'\":\n",
    "        a = a[:-1]\n",
    "    df_all_split.at[i, 'artists'] = a.strip()"
   ]
  },
  {
   "cell_type": "code",
   "execution_count": 40,
   "metadata": {
    "tags": []
   },
   "outputs": [],
   "source": [
    "new_df['artist'] = new_df['artist'].str.strip()"
   ]
  },
  {
   "cell_type": "code",
   "execution_count": 46,
   "metadata": {},
   "outputs": [
    {
     "output_type": "execute_result",
     "data": {
      "text/plain": [
       "       Unnamed: 0  Unnamed: 0.1  year                         artist  \\\n",
       "0               0             0  1920                    Mamie Smith   \n",
       "1               1             1  1920          Screamin' Jay Hawkins   \n",
       "2               2             2  1920                Oscar Velazquez   \n",
       "3               3             3  1920                           Mixe   \n",
       "4               4             4  1920  Mamie Smith & Her Jazz Hounds   \n",
       "...           ...           ...   ...                            ...   \n",
       "73899       73899         73899  2021                   Foo Fighters   \n",
       "73900       73900         73900  2021                      Sean Paul   \n",
       "73901       73901         73901  2021               Ludovico Einaudi   \n",
       "73902       73902         73902  2021               Johannes Bornlöf   \n",
       "73903       73903         73903  2021                   Alessia Cara   \n",
       "\n",
       "       agg_popularity  \n",
       "0                  22  \n",
       "1                   7  \n",
       "2                  33  \n",
       "3                   2  \n",
       "4                  10  \n",
       "...               ...  \n",
       "73899              69  \n",
       "73900               1  \n",
       "73901               0  \n",
       "73902               0  \n",
       "73903               0  \n",
       "\n",
       "[73904 rows x 5 columns]"
      ],
      "text/html": "<div>\n<style scoped>\n    .dataframe tbody tr th:only-of-type {\n        vertical-align: middle;\n    }\n\n    .dataframe tbody tr th {\n        vertical-align: top;\n    }\n\n    .dataframe thead th {\n        text-align: right;\n    }\n</style>\n<table border=\"1\" class=\"dataframe\">\n  <thead>\n    <tr style=\"text-align: right;\">\n      <th></th>\n      <th>Unnamed: 0</th>\n      <th>Unnamed: 0.1</th>\n      <th>year</th>\n      <th>artist</th>\n      <th>agg_popularity</th>\n    </tr>\n  </thead>\n  <tbody>\n    <tr>\n      <th>0</th>\n      <td>0</td>\n      <td>0</td>\n      <td>1920</td>\n      <td>Mamie Smith</td>\n      <td>22</td>\n    </tr>\n    <tr>\n      <th>1</th>\n      <td>1</td>\n      <td>1</td>\n      <td>1920</td>\n      <td>Screamin' Jay Hawkins</td>\n      <td>7</td>\n    </tr>\n    <tr>\n      <th>2</th>\n      <td>2</td>\n      <td>2</td>\n      <td>1920</td>\n      <td>Oscar Velazquez</td>\n      <td>33</td>\n    </tr>\n    <tr>\n      <th>3</th>\n      <td>3</td>\n      <td>3</td>\n      <td>1920</td>\n      <td>Mixe</td>\n      <td>2</td>\n    </tr>\n    <tr>\n      <th>4</th>\n      <td>4</td>\n      <td>4</td>\n      <td>1920</td>\n      <td>Mamie Smith &amp; Her Jazz Hounds</td>\n      <td>10</td>\n    </tr>\n    <tr>\n      <th>...</th>\n      <td>...</td>\n      <td>...</td>\n      <td>...</td>\n      <td>...</td>\n      <td>...</td>\n    </tr>\n    <tr>\n      <th>73899</th>\n      <td>73899</td>\n      <td>73899</td>\n      <td>2021</td>\n      <td>Foo Fighters</td>\n      <td>69</td>\n    </tr>\n    <tr>\n      <th>73900</th>\n      <td>73900</td>\n      <td>73900</td>\n      <td>2021</td>\n      <td>Sean Paul</td>\n      <td>1</td>\n    </tr>\n    <tr>\n      <th>73901</th>\n      <td>73901</td>\n      <td>73901</td>\n      <td>2021</td>\n      <td>Ludovico Einaudi</td>\n      <td>0</td>\n    </tr>\n    <tr>\n      <th>73902</th>\n      <td>73902</td>\n      <td>73902</td>\n      <td>2021</td>\n      <td>Johannes Bornlöf</td>\n      <td>0</td>\n    </tr>\n    <tr>\n      <th>73903</th>\n      <td>73903</td>\n      <td>73903</td>\n      <td>2021</td>\n      <td>Alessia Cara</td>\n      <td>0</td>\n    </tr>\n  </tbody>\n</table>\n<p>73904 rows × 5 columns</p>\n</div>"
     },
     "metadata": {},
     "execution_count": 46
    }
   ],
   "source": [
    "new_df"
   ]
  },
  {
   "cell_type": "code",
   "execution_count": 42,
   "metadata": {},
   "outputs": [],
   "source": [
    "new_df.to_csv('data/data_yearly_artist_popularity_cleaned.csv')"
   ]
  },
  {
   "cell_type": "code",
   "execution_count": 28,
   "metadata": {},
   "outputs": [
    {
     "output_type": "execute_result",
     "data": {
      "text/plain": [
       "        Unnamed: 0  acousticness        artists  danceability  duration_ms  \\\n",
       "45908        45908      0.034200  Workout Music         0.694       247280   \n",
       "45927        45927      0.037100  Workout Music         0.665       250714   \n",
       "45933        45933      0.000966  Workout Music         0.772       255428   \n",
       "45951        45951      0.000329  Workout Music         0.562       250714   \n",
       "45953        45953      0.000329  Workout Music         0.562       250714   \n",
       "...            ...           ...            ...           ...          ...   \n",
       "233990      233990      0.008180  Workout Music         0.728       270080   \n",
       "233995      233995      0.030700  Workout Music         0.773       256800   \n",
       "233998      233998      0.013800  Workout Music         0.734       277493   \n",
       "234001      234001      0.065400  Workout Music         0.533       287987   \n",
       "234003      234003      0.003580  Workout Music         0.764       268120   \n",
       "\n",
       "        energy  explicit                      id  instrumentalness  key  \\\n",
       "45908    0.952         0  1qo6ZFJzZ3fah2owpZltHS          0.210000    8   \n",
       "45927    0.870         0  5AismxfhycOrAUgsXlnGRm          0.051100    1   \n",
       "45933    0.676         0  5rEjKaIQZLrD58PNpCXou6          0.000719    1   \n",
       "45951    0.723         0  5cPGbdhn8f2g93ahuZeHok          0.459000   10   \n",
       "45953    0.723         0  5cPGbdhn8f2g93ahuZeHok          0.459000   10   \n",
       "...        ...       ...                     ...               ...  ...   \n",
       "233990   0.802         0  4PuHzntmfWwlmT5FOaLPxO          0.000000    5   \n",
       "233995   0.745         0  6cnCKULXZccT8eVBLWQoGk          0.054600    0   \n",
       "233998   0.809         0  4ZzfKwqPfy02fpQxuh9Zz3          0.012600    0   \n",
       "234001   0.879         0  3O1lskEk6MF8bEQ76Q7Cmv          0.000000    5   \n",
       "234003   0.828         0  4fBQiIB6X7sE5RWK7mZq8N          0.005500    2   \n",
       "\n",
       "        liveness  loudness  mode  \\\n",
       "45908     0.0774    -1.686     1   \n",
       "45927     0.1820    -7.622     0   \n",
       "45933     0.0277    -9.380     0   \n",
       "45951     0.4020    -7.653     0   \n",
       "45953     0.4020    -7.653     0   \n",
       "...          ...       ...   ...   \n",
       "233990    0.0637    -1.331     0   \n",
       "233995    0.0898    -5.535     1   \n",
       "233998    0.0635    -5.655     0   \n",
       "234001    0.0147    -3.736     1   \n",
       "234003    0.0763    -3.625     1   \n",
       "\n",
       "                                                  name  popularity  \\\n",
       "45908   Blinding Lights (Cardio + Running Workout Mix)          21   \n",
       "45927    Kings & Queens (Cardio + Running Workout Mix)          19   \n",
       "45933             Bang! (Cardio + Running Workout Mix)          18   \n",
       "45951              Holy (Cardio + Running Workout Mix)          17   \n",
       "45953              Holy (Cardio + Running Workout Mix)          17   \n",
       "...                                                ...         ...   \n",
       "233990                            Good as Hell (Remix)          13   \n",
       "233995                              Only Human (Remix)          13   \n",
       "233998               RITMO (Bay Boys For Life) [Remix]          14   \n",
       "234001                        Beautiful People (Remix)          14   \n",
       "234003                                    Tusa (Remix)          16   \n",
       "\n",
       "       release_date  speechiness    tempo  valence  year  \n",
       "45908    2020-12-23       0.1790  135.476    0.962  2020  \n",
       "45927    2020-12-23       0.0650  139.991    0.884  2020  \n",
       "45933    2020-12-23       0.1220  139.983    0.958  2020  \n",
       "45951    2020-12-23       0.0298  139.918    0.451  2020  \n",
       "45953    2020-12-23       0.0298  139.918    0.451  2020  \n",
       "...             ...          ...      ...      ...   ...  \n",
       "233990   2019-12-26       0.0468  127.968    0.928  2019  \n",
       "233995   2019-12-26       0.0442  127.991    0.898  2019  \n",
       "233998   2019-12-26       0.1150  128.015    0.965  2019  \n",
       "234001   2019-12-26       0.0492  129.943    0.398  2019  \n",
       "234003   2019-12-26       0.0810  127.994    0.931  2019  \n",
       "\n",
       "[203 rows x 20 columns]"
      ],
      "text/html": "<div>\n<style scoped>\n    .dataframe tbody tr th:only-of-type {\n        vertical-align: middle;\n    }\n\n    .dataframe tbody tr th {\n        vertical-align: top;\n    }\n\n    .dataframe thead th {\n        text-align: right;\n    }\n</style>\n<table border=\"1\" class=\"dataframe\">\n  <thead>\n    <tr style=\"text-align: right;\">\n      <th></th>\n      <th>Unnamed: 0</th>\n      <th>acousticness</th>\n      <th>artists</th>\n      <th>danceability</th>\n      <th>duration_ms</th>\n      <th>energy</th>\n      <th>explicit</th>\n      <th>id</th>\n      <th>instrumentalness</th>\n      <th>key</th>\n      <th>liveness</th>\n      <th>loudness</th>\n      <th>mode</th>\n      <th>name</th>\n      <th>popularity</th>\n      <th>release_date</th>\n      <th>speechiness</th>\n      <th>tempo</th>\n      <th>valence</th>\n      <th>year</th>\n    </tr>\n  </thead>\n  <tbody>\n    <tr>\n      <th>45908</th>\n      <td>45908</td>\n      <td>0.034200</td>\n      <td>Workout Music</td>\n      <td>0.694</td>\n      <td>247280</td>\n      <td>0.952</td>\n      <td>0</td>\n      <td>1qo6ZFJzZ3fah2owpZltHS</td>\n      <td>0.210000</td>\n      <td>8</td>\n      <td>0.0774</td>\n      <td>-1.686</td>\n      <td>1</td>\n      <td>Blinding Lights (Cardio + Running Workout Mix)</td>\n      <td>21</td>\n      <td>2020-12-23</td>\n      <td>0.1790</td>\n      <td>135.476</td>\n      <td>0.962</td>\n      <td>2020</td>\n    </tr>\n    <tr>\n      <th>45927</th>\n      <td>45927</td>\n      <td>0.037100</td>\n      <td>Workout Music</td>\n      <td>0.665</td>\n      <td>250714</td>\n      <td>0.870</td>\n      <td>0</td>\n      <td>5AismxfhycOrAUgsXlnGRm</td>\n      <td>0.051100</td>\n      <td>1</td>\n      <td>0.1820</td>\n      <td>-7.622</td>\n      <td>0</td>\n      <td>Kings &amp; Queens (Cardio + Running Workout Mix)</td>\n      <td>19</td>\n      <td>2020-12-23</td>\n      <td>0.0650</td>\n      <td>139.991</td>\n      <td>0.884</td>\n      <td>2020</td>\n    </tr>\n    <tr>\n      <th>45933</th>\n      <td>45933</td>\n      <td>0.000966</td>\n      <td>Workout Music</td>\n      <td>0.772</td>\n      <td>255428</td>\n      <td>0.676</td>\n      <td>0</td>\n      <td>5rEjKaIQZLrD58PNpCXou6</td>\n      <td>0.000719</td>\n      <td>1</td>\n      <td>0.0277</td>\n      <td>-9.380</td>\n      <td>0</td>\n      <td>Bang! (Cardio + Running Workout Mix)</td>\n      <td>18</td>\n      <td>2020-12-23</td>\n      <td>0.1220</td>\n      <td>139.983</td>\n      <td>0.958</td>\n      <td>2020</td>\n    </tr>\n    <tr>\n      <th>45951</th>\n      <td>45951</td>\n      <td>0.000329</td>\n      <td>Workout Music</td>\n      <td>0.562</td>\n      <td>250714</td>\n      <td>0.723</td>\n      <td>0</td>\n      <td>5cPGbdhn8f2g93ahuZeHok</td>\n      <td>0.459000</td>\n      <td>10</td>\n      <td>0.4020</td>\n      <td>-7.653</td>\n      <td>0</td>\n      <td>Holy (Cardio + Running Workout Mix)</td>\n      <td>17</td>\n      <td>2020-12-23</td>\n      <td>0.0298</td>\n      <td>139.918</td>\n      <td>0.451</td>\n      <td>2020</td>\n    </tr>\n    <tr>\n      <th>45953</th>\n      <td>45953</td>\n      <td>0.000329</td>\n      <td>Workout Music</td>\n      <td>0.562</td>\n      <td>250714</td>\n      <td>0.723</td>\n      <td>0</td>\n      <td>5cPGbdhn8f2g93ahuZeHok</td>\n      <td>0.459000</td>\n      <td>10</td>\n      <td>0.4020</td>\n      <td>-7.653</td>\n      <td>0</td>\n      <td>Holy (Cardio + Running Workout Mix)</td>\n      <td>17</td>\n      <td>2020-12-23</td>\n      <td>0.0298</td>\n      <td>139.918</td>\n      <td>0.451</td>\n      <td>2020</td>\n    </tr>\n    <tr>\n      <th>...</th>\n      <td>...</td>\n      <td>...</td>\n      <td>...</td>\n      <td>...</td>\n      <td>...</td>\n      <td>...</td>\n      <td>...</td>\n      <td>...</td>\n      <td>...</td>\n      <td>...</td>\n      <td>...</td>\n      <td>...</td>\n      <td>...</td>\n      <td>...</td>\n      <td>...</td>\n      <td>...</td>\n      <td>...</td>\n      <td>...</td>\n      <td>...</td>\n      <td>...</td>\n    </tr>\n    <tr>\n      <th>233990</th>\n      <td>233990</td>\n      <td>0.008180</td>\n      <td>Workout Music</td>\n      <td>0.728</td>\n      <td>270080</td>\n      <td>0.802</td>\n      <td>0</td>\n      <td>4PuHzntmfWwlmT5FOaLPxO</td>\n      <td>0.000000</td>\n      <td>5</td>\n      <td>0.0637</td>\n      <td>-1.331</td>\n      <td>0</td>\n      <td>Good as Hell (Remix)</td>\n      <td>13</td>\n      <td>2019-12-26</td>\n      <td>0.0468</td>\n      <td>127.968</td>\n      <td>0.928</td>\n      <td>2019</td>\n    </tr>\n    <tr>\n      <th>233995</th>\n      <td>233995</td>\n      <td>0.030700</td>\n      <td>Workout Music</td>\n      <td>0.773</td>\n      <td>256800</td>\n      <td>0.745</td>\n      <td>0</td>\n      <td>6cnCKULXZccT8eVBLWQoGk</td>\n      <td>0.054600</td>\n      <td>0</td>\n      <td>0.0898</td>\n      <td>-5.535</td>\n      <td>1</td>\n      <td>Only Human (Remix)</td>\n      <td>13</td>\n      <td>2019-12-26</td>\n      <td>0.0442</td>\n      <td>127.991</td>\n      <td>0.898</td>\n      <td>2019</td>\n    </tr>\n    <tr>\n      <th>233998</th>\n      <td>233998</td>\n      <td>0.013800</td>\n      <td>Workout Music</td>\n      <td>0.734</td>\n      <td>277493</td>\n      <td>0.809</td>\n      <td>0</td>\n      <td>4ZzfKwqPfy02fpQxuh9Zz3</td>\n      <td>0.012600</td>\n      <td>0</td>\n      <td>0.0635</td>\n      <td>-5.655</td>\n      <td>0</td>\n      <td>RITMO (Bay Boys For Life) [Remix]</td>\n      <td>14</td>\n      <td>2019-12-26</td>\n      <td>0.1150</td>\n      <td>128.015</td>\n      <td>0.965</td>\n      <td>2019</td>\n    </tr>\n    <tr>\n      <th>234001</th>\n      <td>234001</td>\n      <td>0.065400</td>\n      <td>Workout Music</td>\n      <td>0.533</td>\n      <td>287987</td>\n      <td>0.879</td>\n      <td>0</td>\n      <td>3O1lskEk6MF8bEQ76Q7Cmv</td>\n      <td>0.000000</td>\n      <td>5</td>\n      <td>0.0147</td>\n      <td>-3.736</td>\n      <td>1</td>\n      <td>Beautiful People (Remix)</td>\n      <td>14</td>\n      <td>2019-12-26</td>\n      <td>0.0492</td>\n      <td>129.943</td>\n      <td>0.398</td>\n      <td>2019</td>\n    </tr>\n    <tr>\n      <th>234003</th>\n      <td>234003</td>\n      <td>0.003580</td>\n      <td>Workout Music</td>\n      <td>0.764</td>\n      <td>268120</td>\n      <td>0.828</td>\n      <td>0</td>\n      <td>4fBQiIB6X7sE5RWK7mZq8N</td>\n      <td>0.005500</td>\n      <td>2</td>\n      <td>0.0763</td>\n      <td>-3.625</td>\n      <td>1</td>\n      <td>Tusa (Remix)</td>\n      <td>16</td>\n      <td>2019-12-26</td>\n      <td>0.0810</td>\n      <td>127.994</td>\n      <td>0.931</td>\n      <td>2019</td>\n    </tr>\n  </tbody>\n</table>\n<p>203 rows × 20 columns</p>\n</div>"
     },
     "metadata": {},
     "execution_count": 28
    }
   ],
   "source": [
    "df_all_split[df_all_split.artists == 'Workout Music']"
   ]
  },
  {
   "cell_type": "code",
   "execution_count": 44,
   "metadata": {},
   "outputs": [],
   "source": [
    "df_all_split.to_csv('data/data_bubble_to_artist.csv')"
   ]
  }
 ]
}