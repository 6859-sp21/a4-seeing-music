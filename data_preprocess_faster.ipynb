{
 "metadata": {
  "language_info": {
   "codemirror_mode": {
    "name": "ipython",
    "version": 3
   },
   "file_extension": ".py",
   "mimetype": "text/x-python",
   "name": "python",
   "nbconvert_exporter": "python",
   "pygments_lexer": "ipython3",
   "version": "3.9.1"
  },
  "orig_nbformat": 2,
  "kernelspec": {
   "name": "python3",
   "display_name": "Python 3.9.1 64-bit",
   "metadata": {
    "interpreter": {
     "hash": "b8bdd4e700647ba2b08c59e5df8b7da1dcf50a218bcd4c1bcd9b3dc92e8788e5"
    }
   }
  }
 },
 "nbformat": 4,
 "nbformat_minor": 2,
 "cells": [
  {
   "cell_type": "code",
   "execution_count": 1,
   "metadata": {},
   "outputs": [],
   "source": [
    "import pandas as pd\n",
    "import string"
   ]
  },
  {
   "cell_type": "code",
   "execution_count": 2,
   "metadata": {},
   "outputs": [],
   "source": [
    "new_df = pd.read_csv('data/data_yearly_artist_popularity_cleaned.csv')"
   ]
  },
  {
   "source": [
    "# JK, now really doing it"
   ],
   "cell_type": "markdown",
   "metadata": {}
  },
  {
   "cell_type": "code",
   "execution_count": 22,
   "metadata": {},
   "outputs": [],
   "source": [
    "df_all = pd.read_csv('data/data.csv')\n",
    "df_all['artists'] = df_all['artists'].apply(lambda x: x.replace('\"', \"'\").replace('[','').replace(']','').split(\"', '\"))"
   ]
  },
  {
   "cell_type": "code",
   "execution_count": 25,
   "metadata": {},
   "outputs": [
    {
     "output_type": "execute_result",
     "data": {
      "text/plain": [
       "        acousticness                  artists  danceability  duration_ms  \\\n",
       "0           0.991000            'Mamie Smith'         0.598       168333   \n",
       "1           0.643000  'Screamin' Jay Hawkins'         0.852       150200   \n",
       "2           0.993000            'Mamie Smith'         0.647       163827   \n",
       "3           0.000173        'Oscar Velazquez'         0.730       422087   \n",
       "4           0.295000                   'Mixe'         0.704       165224   \n",
       "...              ...                      ...           ...          ...   \n",
       "234367      0.009170                  Tony T'         0.792       147615   \n",
       "234368      0.795000           'Alessia Cara'         0.429       144720   \n",
       "234369      0.806000              'Roger Fly'         0.671       218147   \n",
       "234370      0.920000           'Taylor Swift'         0.462       244000   \n",
       "234371      0.239000              'Roger Fly'         0.677       197710   \n",
       "\n",
       "        energy  explicit                      id  instrumentalness  key  \\\n",
       "0        0.224         0  0cS0A1fUEUd1EW3FcF8AEI          0.000522    5   \n",
       "1        0.517         0  0hbkKFIJm7Z05H8Zl9w30f          0.026400    5   \n",
       "2        0.186         0  11m7laMUgmOKqI3oYzuhne          0.000018    0   \n",
       "3        0.798         0  19Lc5SfJJ5O1oaxY0fpwfh          0.801000    2   \n",
       "4        0.707         1  2hJjbsLCytGsnAHfdsLejp          0.000246   10   \n",
       "...        ...       ...                     ...               ...  ...   \n",
       "234367   0.866         0  46LhBf6TvYjZU2SMvGZAbn          0.000060    6   \n",
       "234368   0.211         0  7tue2Wemjd0FZzRtDrQFZd          0.000000    4   \n",
       "234369   0.589         0  48Qj61hOdYmUCFJbpQ29Ob          0.920000    4   \n",
       "234370   0.240         1  1gcyHQpBQ1lfXGdhZmWrHP          0.000000    0   \n",
       "234371   0.460         0  57tgYkWQTNHVFEt6xDKKZj          0.891000    7   \n",
       "\n",
       "        liveness  loudness  mode  \\\n",
       "0         0.3790   -12.628     0   \n",
       "1         0.0809    -7.261     0   \n",
       "2         0.5190   -12.098     1   \n",
       "3         0.1280    -7.311     1   \n",
       "4         0.4020    -6.036     0   \n",
       "...          ...       ...   ...   \n",
       "234367    0.1780    -5.089     0   \n",
       "234368    0.1960   -11.665     1   \n",
       "234369    0.1130   -12.393     0   \n",
       "234370    0.1130   -12.077     1   \n",
       "234371    0.2150   -12.237     1   \n",
       "\n",
       "                                                     name  popularity  \\\n",
       "0                                Keep A Song In Your Soul          12   \n",
       "1                                    I Put A Spell On You           7   \n",
       "2                                            Golfing Papa           4   \n",
       "3       True House Music - Xavier Santos & Carlos Gomi...          17   \n",
       "4                                               Xuniverxe           2   \n",
       "...                                                   ...         ...   \n",
       "234367                                            The One           0   \n",
       "234368                                      A Little More           0   \n",
       "234369                                           Together           0   \n",
       "234370                                 champagne problems          69   \n",
       "234371                                     Improvisations           0   \n",
       "\n",
       "       release_date  speechiness    tempo  valence  year  \n",
       "0              1920       0.0936  149.976   0.6340  1920  \n",
       "1        1920-01-05       0.0534   86.889   0.9500  1920  \n",
       "2              1920       0.1740   97.600   0.6890  1920  \n",
       "3        1920-01-01       0.0425  127.997   0.0422  1920  \n",
       "4        1920-10-01       0.0768  122.076   0.2990  1920  \n",
       "...             ...          ...      ...      ...   ...  \n",
       "234367   2020-12-25       0.0356  125.972   0.1860  2020  \n",
       "234368   2021-01-22       0.0360   94.710   0.2280  2021  \n",
       "234369   2020-12-09       0.0282  108.058   0.7140  2020  \n",
       "234370   2021-01-07       0.0377  171.319   0.3200  2021  \n",
       "234371   2020-12-09       0.0258  112.208   0.7470  2020  \n",
       "\n",
       "[234372 rows x 19 columns]"
      ],
      "text/html": "<div>\n<style scoped>\n    .dataframe tbody tr th:only-of-type {\n        vertical-align: middle;\n    }\n\n    .dataframe tbody tr th {\n        vertical-align: top;\n    }\n\n    .dataframe thead th {\n        text-align: right;\n    }\n</style>\n<table border=\"1\" class=\"dataframe\">\n  <thead>\n    <tr style=\"text-align: right;\">\n      <th></th>\n      <th>acousticness</th>\n      <th>artists</th>\n      <th>danceability</th>\n      <th>duration_ms</th>\n      <th>energy</th>\n      <th>explicit</th>\n      <th>id</th>\n      <th>instrumentalness</th>\n      <th>key</th>\n      <th>liveness</th>\n      <th>loudness</th>\n      <th>mode</th>\n      <th>name</th>\n      <th>popularity</th>\n      <th>release_date</th>\n      <th>speechiness</th>\n      <th>tempo</th>\n      <th>valence</th>\n      <th>year</th>\n    </tr>\n  </thead>\n  <tbody>\n    <tr>\n      <th>0</th>\n      <td>0.991000</td>\n      <td>'Mamie Smith'</td>\n      <td>0.598</td>\n      <td>168333</td>\n      <td>0.224</td>\n      <td>0</td>\n      <td>0cS0A1fUEUd1EW3FcF8AEI</td>\n      <td>0.000522</td>\n      <td>5</td>\n      <td>0.3790</td>\n      <td>-12.628</td>\n      <td>0</td>\n      <td>Keep A Song In Your Soul</td>\n      <td>12</td>\n      <td>1920</td>\n      <td>0.0936</td>\n      <td>149.976</td>\n      <td>0.6340</td>\n      <td>1920</td>\n    </tr>\n    <tr>\n      <th>1</th>\n      <td>0.643000</td>\n      <td>'Screamin' Jay Hawkins'</td>\n      <td>0.852</td>\n      <td>150200</td>\n      <td>0.517</td>\n      <td>0</td>\n      <td>0hbkKFIJm7Z05H8Zl9w30f</td>\n      <td>0.026400</td>\n      <td>5</td>\n      <td>0.0809</td>\n      <td>-7.261</td>\n      <td>0</td>\n      <td>I Put A Spell On You</td>\n      <td>7</td>\n      <td>1920-01-05</td>\n      <td>0.0534</td>\n      <td>86.889</td>\n      <td>0.9500</td>\n      <td>1920</td>\n    </tr>\n    <tr>\n      <th>2</th>\n      <td>0.993000</td>\n      <td>'Mamie Smith'</td>\n      <td>0.647</td>\n      <td>163827</td>\n      <td>0.186</td>\n      <td>0</td>\n      <td>11m7laMUgmOKqI3oYzuhne</td>\n      <td>0.000018</td>\n      <td>0</td>\n      <td>0.5190</td>\n      <td>-12.098</td>\n      <td>1</td>\n      <td>Golfing Papa</td>\n      <td>4</td>\n      <td>1920</td>\n      <td>0.1740</td>\n      <td>97.600</td>\n      <td>0.6890</td>\n      <td>1920</td>\n    </tr>\n    <tr>\n      <th>3</th>\n      <td>0.000173</td>\n      <td>'Oscar Velazquez'</td>\n      <td>0.730</td>\n      <td>422087</td>\n      <td>0.798</td>\n      <td>0</td>\n      <td>19Lc5SfJJ5O1oaxY0fpwfh</td>\n      <td>0.801000</td>\n      <td>2</td>\n      <td>0.1280</td>\n      <td>-7.311</td>\n      <td>1</td>\n      <td>True House Music - Xavier Santos &amp; Carlos Gomi...</td>\n      <td>17</td>\n      <td>1920-01-01</td>\n      <td>0.0425</td>\n      <td>127.997</td>\n      <td>0.0422</td>\n      <td>1920</td>\n    </tr>\n    <tr>\n      <th>4</th>\n      <td>0.295000</td>\n      <td>'Mixe'</td>\n      <td>0.704</td>\n      <td>165224</td>\n      <td>0.707</td>\n      <td>1</td>\n      <td>2hJjbsLCytGsnAHfdsLejp</td>\n      <td>0.000246</td>\n      <td>10</td>\n      <td>0.4020</td>\n      <td>-6.036</td>\n      <td>0</td>\n      <td>Xuniverxe</td>\n      <td>2</td>\n      <td>1920-10-01</td>\n      <td>0.0768</td>\n      <td>122.076</td>\n      <td>0.2990</td>\n      <td>1920</td>\n    </tr>\n    <tr>\n      <th>...</th>\n      <td>...</td>\n      <td>...</td>\n      <td>...</td>\n      <td>...</td>\n      <td>...</td>\n      <td>...</td>\n      <td>...</td>\n      <td>...</td>\n      <td>...</td>\n      <td>...</td>\n      <td>...</td>\n      <td>...</td>\n      <td>...</td>\n      <td>...</td>\n      <td>...</td>\n      <td>...</td>\n      <td>...</td>\n      <td>...</td>\n      <td>...</td>\n    </tr>\n    <tr>\n      <th>234367</th>\n      <td>0.009170</td>\n      <td>Tony T'</td>\n      <td>0.792</td>\n      <td>147615</td>\n      <td>0.866</td>\n      <td>0</td>\n      <td>46LhBf6TvYjZU2SMvGZAbn</td>\n      <td>0.000060</td>\n      <td>6</td>\n      <td>0.1780</td>\n      <td>-5.089</td>\n      <td>0</td>\n      <td>The One</td>\n      <td>0</td>\n      <td>2020-12-25</td>\n      <td>0.0356</td>\n      <td>125.972</td>\n      <td>0.1860</td>\n      <td>2020</td>\n    </tr>\n    <tr>\n      <th>234368</th>\n      <td>0.795000</td>\n      <td>'Alessia Cara'</td>\n      <td>0.429</td>\n      <td>144720</td>\n      <td>0.211</td>\n      <td>0</td>\n      <td>7tue2Wemjd0FZzRtDrQFZd</td>\n      <td>0.000000</td>\n      <td>4</td>\n      <td>0.1960</td>\n      <td>-11.665</td>\n      <td>1</td>\n      <td>A Little More</td>\n      <td>0</td>\n      <td>2021-01-22</td>\n      <td>0.0360</td>\n      <td>94.710</td>\n      <td>0.2280</td>\n      <td>2021</td>\n    </tr>\n    <tr>\n      <th>234369</th>\n      <td>0.806000</td>\n      <td>'Roger Fly'</td>\n      <td>0.671</td>\n      <td>218147</td>\n      <td>0.589</td>\n      <td>0</td>\n      <td>48Qj61hOdYmUCFJbpQ29Ob</td>\n      <td>0.920000</td>\n      <td>4</td>\n      <td>0.1130</td>\n      <td>-12.393</td>\n      <td>0</td>\n      <td>Together</td>\n      <td>0</td>\n      <td>2020-12-09</td>\n      <td>0.0282</td>\n      <td>108.058</td>\n      <td>0.7140</td>\n      <td>2020</td>\n    </tr>\n    <tr>\n      <th>234370</th>\n      <td>0.920000</td>\n      <td>'Taylor Swift'</td>\n      <td>0.462</td>\n      <td>244000</td>\n      <td>0.240</td>\n      <td>1</td>\n      <td>1gcyHQpBQ1lfXGdhZmWrHP</td>\n      <td>0.000000</td>\n      <td>0</td>\n      <td>0.1130</td>\n      <td>-12.077</td>\n      <td>1</td>\n      <td>champagne problems</td>\n      <td>69</td>\n      <td>2021-01-07</td>\n      <td>0.0377</td>\n      <td>171.319</td>\n      <td>0.3200</td>\n      <td>2021</td>\n    </tr>\n    <tr>\n      <th>234371</th>\n      <td>0.239000</td>\n      <td>'Roger Fly'</td>\n      <td>0.677</td>\n      <td>197710</td>\n      <td>0.460</td>\n      <td>0</td>\n      <td>57tgYkWQTNHVFEt6xDKKZj</td>\n      <td>0.891000</td>\n      <td>7</td>\n      <td>0.2150</td>\n      <td>-12.237</td>\n      <td>1</td>\n      <td>Improvisations</td>\n      <td>0</td>\n      <td>2020-12-09</td>\n      <td>0.0258</td>\n      <td>112.208</td>\n      <td>0.7470</td>\n      <td>2020</td>\n    </tr>\n  </tbody>\n</table>\n<p>234372 rows × 19 columns</p>\n</div>"
     },
     "metadata": {},
     "execution_count": 25
    }
   ],
   "source": [
    "df_all_split = df_all.explode('artists').reset_index(drop=True)\n",
    "df_all_split"
   ]
  },
  {
   "cell_type": "code",
   "execution_count": 26,
   "metadata": {},
   "outputs": [],
   "source": [
    "df_all_split.to_csv('data/data_bubble_to_artist.csv')"
   ]
  },
  {
   "cell_type": "code",
   "execution_count": null,
   "metadata": {},
   "outputs": [],
   "source": []
  }
 ]
}