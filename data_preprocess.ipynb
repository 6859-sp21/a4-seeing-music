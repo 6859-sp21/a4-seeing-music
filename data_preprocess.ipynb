{
 "metadata": {
  "language_info": {
   "codemirror_mode": {
    "name": "ipython",
    "version": 3
   },
   "file_extension": ".py",
   "mimetype": "text/x-python",
   "name": "python",
   "nbconvert_exporter": "python",
   "pygments_lexer": "ipython3",
   "version": "3.9.1"
  },
  "orig_nbformat": 2,
  "kernelspec": {
   "name": "python3",
   "display_name": "Python 3.9.1 64-bit",
   "metadata": {
    "interpreter": {
     "hash": "b8bdd4e700647ba2b08c59e5df8b7da1dcf50a218bcd4c1bcd9b3dc92e8788e5"
    }
   }
  }
 },
 "nbformat": 4,
 "nbformat_minor": 2,
 "cells": [
  {
   "cell_type": "code",
   "execution_count": 19,
   "metadata": {},
   "outputs": [],
   "source": [
    "import pandas as pd\n",
    "import string"
   ]
  },
  {
   "cell_type": "code",
   "execution_count": 20,
   "metadata": {},
   "outputs": [],
   "source": [
    "path = 'data/data.csv'\n",
    "df = pd.read_csv(path)\n",
    "df = df[['artists', 'popularity', 'year']]\n",
    "counts = {}"
   ]
  },
  {
   "cell_type": "code",
   "execution_count": 3,
   "metadata": {},
   "outputs": [],
   "source": [
    "for i in range(len(df)):\n",
    "    year = df.iloc[i].year\n",
    "    artists = df.iloc[i].artists.replace('\"', \"'\").replace('[','').replace(']','').split(\"', '\")\n",
    "    pop = df.iloc[i].popularity\n",
    "    for artist in artists:\n",
    "        counts[(year, artist)] = counts.get((year,artist), 0) + pop"
   ]
  },
  {
   "cell_type": "code",
   "execution_count": 17,
   "metadata": {
    "tags": []
   },
   "outputs": [
    {
     "output_type": "error",
     "ename": "NameError",
     "evalue": "name 'counts' is not defined",
     "traceback": [
      "\u001b[0;31m---------------------------------------------------------------------------\u001b[0m",
      "\u001b[0;31mNameError\u001b[0m                                 Traceback (most recent call last)",
      "\u001b[0;32m<ipython-input-17-da39552b97c0>\u001b[0m in \u001b[0;36m<module>\u001b[0;34m\u001b[0m\n\u001b[1;32m      1\u001b[0m \u001b[0mnew_df\u001b[0m \u001b[0;34m=\u001b[0m \u001b[0mpd\u001b[0m\u001b[0;34m.\u001b[0m\u001b[0mDataFrame\u001b[0m\u001b[0;34m(\u001b[0m\u001b[0mcolumns\u001b[0m\u001b[0;34m=\u001b[0m\u001b[0;34m[\u001b[0m\u001b[0;34m'year'\u001b[0m\u001b[0;34m,\u001b[0m\u001b[0;34m'artist'\u001b[0m\u001b[0;34m,\u001b[0m\u001b[0;34m'agg_popularity'\u001b[0m\u001b[0;34m]\u001b[0m\u001b[0;34m)\u001b[0m\u001b[0;34m\u001b[0m\u001b[0;34m\u001b[0m\u001b[0m\n\u001b[0;32m----> 2\u001b[0;31m \u001b[0;32mfor\u001b[0m \u001b[0mkey\u001b[0m \u001b[0;32min\u001b[0m \u001b[0mcounts\u001b[0m\u001b[0;34m.\u001b[0m\u001b[0mkeys\u001b[0m\u001b[0;34m(\u001b[0m\u001b[0;34m)\u001b[0m\u001b[0;34m:\u001b[0m\u001b[0;34m\u001b[0m\u001b[0;34m\u001b[0m\u001b[0m\n\u001b[0m\u001b[1;32m      3\u001b[0m     \u001b[0myear\u001b[0m\u001b[0;34m,\u001b[0m \u001b[0martist\u001b[0m \u001b[0;34m=\u001b[0m \u001b[0mkey\u001b[0m\u001b[0;34m\u001b[0m\u001b[0;34m\u001b[0m\u001b[0m\n\u001b[1;32m      4\u001b[0m     \u001b[0mpop\u001b[0m \u001b[0;34m=\u001b[0m \u001b[0mcounts\u001b[0m\u001b[0;34m[\u001b[0m\u001b[0mkey\u001b[0m\u001b[0;34m]\u001b[0m\u001b[0;34m\u001b[0m\u001b[0;34m\u001b[0m\u001b[0m\n\u001b[1;32m      5\u001b[0m     \u001b[0mnew_df\u001b[0m \u001b[0;34m=\u001b[0m \u001b[0mnew_df\u001b[0m\u001b[0;34m.\u001b[0m\u001b[0mappend\u001b[0m\u001b[0;34m(\u001b[0m\u001b[0;34m{\u001b[0m\u001b[0;34m'year'\u001b[0m\u001b[0;34m:\u001b[0m\u001b[0myear\u001b[0m\u001b[0;34m,\u001b[0m\u001b[0;34m'artist'\u001b[0m\u001b[0;34m:\u001b[0m\u001b[0martist\u001b[0m\u001b[0;34m,\u001b[0m\u001b[0;34m'agg_popularity'\u001b[0m\u001b[0;34m:\u001b[0m\u001b[0mpop\u001b[0m\u001b[0;34m}\u001b[0m\u001b[0;34m,\u001b[0m \u001b[0mignore_index\u001b[0m\u001b[0;34m=\u001b[0m\u001b[0;32mTrue\u001b[0m\u001b[0;34m)\u001b[0m\u001b[0;34m\u001b[0m\u001b[0;34m\u001b[0m\u001b[0m\n",
      "\u001b[0;31mNameError\u001b[0m: name 'counts' is not defined"
     ]
    }
   ],
   "source": [
    "new_df = pd.DataFrame(columns=['year','artist','agg_popularity'])\n",
    "for key in counts.keys():\n",
    "    year, artist = key\n",
    "    pop = counts[key]\n",
    "    new_df = new_df.append({'year':year,'artist':artist,'agg_popularity':pop}, ignore_index=True)\n",
    "new_df"
   ]
  },
  {
   "cell_type": "code",
   "execution_count": 19,
   "metadata": {},
   "outputs": [],
   "source": [
    "new_df.to_csv('data_yearly_artist_popularity.csv')"
   ]
  },
  {
   "cell_type": "code",
   "execution_count": 22,
   "metadata": {},
   "outputs": [],
   "source": [
    "new_df = pd.read_csv('data/data_yearly_artist_popularity.csv')"
   ]
  },
  {
   "cell_type": "code",
   "execution_count": 23,
   "metadata": {},
   "outputs": [
    {
     "output_type": "execute_result",
     "data": {
      "text/plain": [
       "       Unnamed: 0  year                           artist  agg_popularity\n",
       "0               0  1920                    'Mamie Smith'              22\n",
       "1               1  1920          'Screamin' Jay Hawkins'               7\n",
       "2               2  1920                'Oscar Velazquez'              33\n",
       "3               3  1920                           'Mixe'               2\n",
       "4               4  1920  'Mamie Smith & Her Jazz Hounds'              10\n",
       "...           ...   ...                              ...             ...\n",
       "73899       73899  2021                   'Foo Fighters'              69\n",
       "73900       73900  2021                      'Sean Paul'               1\n",
       "73901       73901  2021                'Ludovico Einaudi               0\n",
       "73902       73902  2021                Johannes Bornlöf'               0\n",
       "73903       73903  2021                   'Alessia Cara'               0\n",
       "\n",
       "[73904 rows x 4 columns]"
      ],
      "text/html": "<div>\n<style scoped>\n    .dataframe tbody tr th:only-of-type {\n        vertical-align: middle;\n    }\n\n    .dataframe tbody tr th {\n        vertical-align: top;\n    }\n\n    .dataframe thead th {\n        text-align: right;\n    }\n</style>\n<table border=\"1\" class=\"dataframe\">\n  <thead>\n    <tr style=\"text-align: right;\">\n      <th></th>\n      <th>Unnamed: 0</th>\n      <th>year</th>\n      <th>artist</th>\n      <th>agg_popularity</th>\n    </tr>\n  </thead>\n  <tbody>\n    <tr>\n      <th>0</th>\n      <td>0</td>\n      <td>1920</td>\n      <td>'Mamie Smith'</td>\n      <td>22</td>\n    </tr>\n    <tr>\n      <th>1</th>\n      <td>1</td>\n      <td>1920</td>\n      <td>'Screamin' Jay Hawkins'</td>\n      <td>7</td>\n    </tr>\n    <tr>\n      <th>2</th>\n      <td>2</td>\n      <td>1920</td>\n      <td>'Oscar Velazquez'</td>\n      <td>33</td>\n    </tr>\n    <tr>\n      <th>3</th>\n      <td>3</td>\n      <td>1920</td>\n      <td>'Mixe'</td>\n      <td>2</td>\n    </tr>\n    <tr>\n      <th>4</th>\n      <td>4</td>\n      <td>1920</td>\n      <td>'Mamie Smith &amp; Her Jazz Hounds'</td>\n      <td>10</td>\n    </tr>\n    <tr>\n      <th>...</th>\n      <td>...</td>\n      <td>...</td>\n      <td>...</td>\n      <td>...</td>\n    </tr>\n    <tr>\n      <th>73899</th>\n      <td>73899</td>\n      <td>2021</td>\n      <td>'Foo Fighters'</td>\n      <td>69</td>\n    </tr>\n    <tr>\n      <th>73900</th>\n      <td>73900</td>\n      <td>2021</td>\n      <td>'Sean Paul'</td>\n      <td>1</td>\n    </tr>\n    <tr>\n      <th>73901</th>\n      <td>73901</td>\n      <td>2021</td>\n      <td>'Ludovico Einaudi</td>\n      <td>0</td>\n    </tr>\n    <tr>\n      <th>73902</th>\n      <td>73902</td>\n      <td>2021</td>\n      <td>Johannes Bornlöf'</td>\n      <td>0</td>\n    </tr>\n    <tr>\n      <th>73903</th>\n      <td>73903</td>\n      <td>2021</td>\n      <td>'Alessia Cara'</td>\n      <td>0</td>\n    </tr>\n  </tbody>\n</table>\n<p>73904 rows × 4 columns</p>\n</div>"
     },
     "metadata": {},
     "execution_count": 23
    }
   ],
   "source": [
    "new_df"
   ]
  },
  {
   "cell_type": "code",
   "execution_count": 36,
   "metadata": {
    "tags": []
   },
   "outputs": [],
   "source": [
    "for i in range(len(new_df['artist'])):\n",
    "    a = new_df.iloc[i].artist\n",
    "    if a[0]==\"'\":\n",
    "        a = a[1:]\n",
    "    if a[-1]==\"'\":\n",
    "        a = a[:-1]\n",
    "    new_df.at[i, 'artist'] = a"
   ]
  },
  {
   "cell_type": "code",
   "execution_count": 37,
   "metadata": {},
   "outputs": [
    {
     "output_type": "execute_result",
     "data": {
      "text/plain": [
       "       Unnamed: 0  year                         artist  agg_popularity\n",
       "0               0  1920                    Mamie Smith              22\n",
       "1               1  1920          Screamin' Jay Hawkins               7\n",
       "2               2  1920                Oscar Velazquez              33\n",
       "3               3  1920                           Mixe               2\n",
       "4               4  1920  Mamie Smith & Her Jazz Hounds              10\n",
       "...           ...   ...                            ...             ...\n",
       "73899       73899  2021                   Foo Fighters              69\n",
       "73900       73900  2021                      Sean Paul               1\n",
       "73901       73901  2021               Ludovico Einaudi               0\n",
       "73902       73902  2021               Johannes Bornlöf               0\n",
       "73903       73903  2021                   Alessia Cara               0\n",
       "\n",
       "[73904 rows x 4 columns]"
      ],
      "text/html": "<div>\n<style scoped>\n    .dataframe tbody tr th:only-of-type {\n        vertical-align: middle;\n    }\n\n    .dataframe tbody tr th {\n        vertical-align: top;\n    }\n\n    .dataframe thead th {\n        text-align: right;\n    }\n</style>\n<table border=\"1\" class=\"dataframe\">\n  <thead>\n    <tr style=\"text-align: right;\">\n      <th></th>\n      <th>Unnamed: 0</th>\n      <th>year</th>\n      <th>artist</th>\n      <th>agg_popularity</th>\n    </tr>\n  </thead>\n  <tbody>\n    <tr>\n      <th>0</th>\n      <td>0</td>\n      <td>1920</td>\n      <td>Mamie Smith</td>\n      <td>22</td>\n    </tr>\n    <tr>\n      <th>1</th>\n      <td>1</td>\n      <td>1920</td>\n      <td>Screamin' Jay Hawkins</td>\n      <td>7</td>\n    </tr>\n    <tr>\n      <th>2</th>\n      <td>2</td>\n      <td>1920</td>\n      <td>Oscar Velazquez</td>\n      <td>33</td>\n    </tr>\n    <tr>\n      <th>3</th>\n      <td>3</td>\n      <td>1920</td>\n      <td>Mixe</td>\n      <td>2</td>\n    </tr>\n    <tr>\n      <th>4</th>\n      <td>4</td>\n      <td>1920</td>\n      <td>Mamie Smith &amp; Her Jazz Hounds</td>\n      <td>10</td>\n    </tr>\n    <tr>\n      <th>...</th>\n      <td>...</td>\n      <td>...</td>\n      <td>...</td>\n      <td>...</td>\n    </tr>\n    <tr>\n      <th>73899</th>\n      <td>73899</td>\n      <td>2021</td>\n      <td>Foo Fighters</td>\n      <td>69</td>\n    </tr>\n    <tr>\n      <th>73900</th>\n      <td>73900</td>\n      <td>2021</td>\n      <td>Sean Paul</td>\n      <td>1</td>\n    </tr>\n    <tr>\n      <th>73901</th>\n      <td>73901</td>\n      <td>2021</td>\n      <td>Ludovico Einaudi</td>\n      <td>0</td>\n    </tr>\n    <tr>\n      <th>73902</th>\n      <td>73902</td>\n      <td>2021</td>\n      <td>Johannes Bornlöf</td>\n      <td>0</td>\n    </tr>\n    <tr>\n      <th>73903</th>\n      <td>73903</td>\n      <td>2021</td>\n      <td>Alessia Cara</td>\n      <td>0</td>\n    </tr>\n  </tbody>\n</table>\n<p>73904 rows × 4 columns</p>\n</div>"
     },
     "metadata": {},
     "execution_count": 37
    }
   ],
   "source": [
    "new_df"
   ]
  },
  {
   "cell_type": "code",
   "execution_count": 39,
   "metadata": {},
   "outputs": [],
   "source": [
    "new_df.to_csv('data_yearly_artist_popularity_cleaned.csv')"
   ]
  },
  {
   "source": [
    "# Connect yearly artist DF to data by artist DF"
   ],
   "cell_type": "markdown",
   "metadata": {}
  },
  {
   "cell_type": "code",
   "execution_count": 41,
   "metadata": {},
   "outputs": [
    {
     "output_type": "execute_result",
     "data": {
      "text/plain": [
       "                                                 artists  acousticness  \\\n",
       "0                       \"Cats\" 1981 Original London Cast      0.598500   \n",
       "1                              \"Cats\" 1983 Broadway Cast      0.862538   \n",
       "2            \"Fiddler On The Roof” Motion Picture Chorus      0.856571   \n",
       "3         \"Fiddler On The Roof” Motion Picture Orchestra      0.884926   \n",
       "4      \"Joseph And The Amazing Technicolor Dreamcoat\"...      0.510714   \n",
       "...                                                  ...           ...   \n",
       "32534                                                김효근      0.939000   \n",
       "32535                                                 나율      0.717000   \n",
       "32536                                                미스티      0.416000   \n",
       "32537                  시온 Zion & 한해 Hanhae of 팬텀 Phantom      0.288000   \n",
       "32538                                                조정현      0.568000   \n",
       "\n",
       "       danceability    duration_ms    energy  instrumentalness  liveness  \\\n",
       "0          0.470100  267072.000000  0.376203          0.010261  0.283050   \n",
       "1          0.441731  287280.000000  0.406808          0.081158  0.315215   \n",
       "2          0.348286  328920.000000  0.286571          0.024593  0.325786   \n",
       "3          0.425074  262890.962963  0.245770          0.073587  0.275481   \n",
       "4          0.467143  270436.142857  0.488286          0.009400  0.195000   \n",
       "...             ...            ...       ...               ...       ...   \n",
       "32534      0.174000  341821.000000  0.321000          0.756000  0.695000   \n",
       "32535      0.591500  241281.500000  0.473500          0.000000  0.105000   \n",
       "32536      0.686000  216715.000000  0.822000          0.000000  0.110000   \n",
       "32537      0.739000  242480.000000  0.475000          0.000000  0.075700   \n",
       "32538      0.447000  237688.000000  0.215000          0.000001  0.064900   \n",
       "\n",
       "        loudness  speechiness       tempo   valence  popularity  key  mode  \\\n",
       "0     -14.434300     0.209150  114.128800  0.358320   38.200000    5     1   \n",
       "1     -10.690000     0.176212  103.044154  0.268865   31.538462    5     1   \n",
       "2     -15.230714     0.118514   77.375857  0.354857   34.571429    0     1   \n",
       "3     -15.639370     0.123200   88.667630  0.372030   34.407407    0     1   \n",
       "4     -10.236714     0.098543  122.835857  0.482286   42.000000    5     1   \n",
       "...          ...          ...         ...       ...         ...  ...   ...   \n",
       "32534 -13.411000     0.042200  138.300000  0.055400    0.000000    3     1   \n",
       "32535  -6.588500     0.053700  107.599000  0.507500   16.000000    1     1   \n",
       "32536  -6.300000     0.080200  122.047000  0.625000    0.000000    5     0   \n",
       "32537  -8.920000     0.379000   81.490000  0.800000    8.000000    2     0   \n",
       "32538 -16.478000     0.027200   71.979000  0.177000   30.000000   10     1   \n",
       "\n",
       "       count  \n",
       "0         10  \n",
       "1         26  \n",
       "2          7  \n",
       "3         27  \n",
       "4          7  \n",
       "...      ...  \n",
       "32534      1  \n",
       "32535      4  \n",
       "32536      2  \n",
       "32537      2  \n",
       "32538      2  \n",
       "\n",
       "[32539 rows x 15 columns]"
      ],
      "text/html": "<div>\n<style scoped>\n    .dataframe tbody tr th:only-of-type {\n        vertical-align: middle;\n    }\n\n    .dataframe tbody tr th {\n        vertical-align: top;\n    }\n\n    .dataframe thead th {\n        text-align: right;\n    }\n</style>\n<table border=\"1\" class=\"dataframe\">\n  <thead>\n    <tr style=\"text-align: right;\">\n      <th></th>\n      <th>artists</th>\n      <th>acousticness</th>\n      <th>danceability</th>\n      <th>duration_ms</th>\n      <th>energy</th>\n      <th>instrumentalness</th>\n      <th>liveness</th>\n      <th>loudness</th>\n      <th>speechiness</th>\n      <th>tempo</th>\n      <th>valence</th>\n      <th>popularity</th>\n      <th>key</th>\n      <th>mode</th>\n      <th>count</th>\n    </tr>\n  </thead>\n  <tbody>\n    <tr>\n      <th>0</th>\n      <td>\"Cats\" 1981 Original London Cast</td>\n      <td>0.598500</td>\n      <td>0.470100</td>\n      <td>267072.000000</td>\n      <td>0.376203</td>\n      <td>0.010261</td>\n      <td>0.283050</td>\n      <td>-14.434300</td>\n      <td>0.209150</td>\n      <td>114.128800</td>\n      <td>0.358320</td>\n      <td>38.200000</td>\n      <td>5</td>\n      <td>1</td>\n      <td>10</td>\n    </tr>\n    <tr>\n      <th>1</th>\n      <td>\"Cats\" 1983 Broadway Cast</td>\n      <td>0.862538</td>\n      <td>0.441731</td>\n      <td>287280.000000</td>\n      <td>0.406808</td>\n      <td>0.081158</td>\n      <td>0.315215</td>\n      <td>-10.690000</td>\n      <td>0.176212</td>\n      <td>103.044154</td>\n      <td>0.268865</td>\n      <td>31.538462</td>\n      <td>5</td>\n      <td>1</td>\n      <td>26</td>\n    </tr>\n    <tr>\n      <th>2</th>\n      <td>\"Fiddler On The Roof” Motion Picture Chorus</td>\n      <td>0.856571</td>\n      <td>0.348286</td>\n      <td>328920.000000</td>\n      <td>0.286571</td>\n      <td>0.024593</td>\n      <td>0.325786</td>\n      <td>-15.230714</td>\n      <td>0.118514</td>\n      <td>77.375857</td>\n      <td>0.354857</td>\n      <td>34.571429</td>\n      <td>0</td>\n      <td>1</td>\n      <td>7</td>\n    </tr>\n    <tr>\n      <th>3</th>\n      <td>\"Fiddler On The Roof” Motion Picture Orchestra</td>\n      <td>0.884926</td>\n      <td>0.425074</td>\n      <td>262890.962963</td>\n      <td>0.245770</td>\n      <td>0.073587</td>\n      <td>0.275481</td>\n      <td>-15.639370</td>\n      <td>0.123200</td>\n      <td>88.667630</td>\n      <td>0.372030</td>\n      <td>34.407407</td>\n      <td>0</td>\n      <td>1</td>\n      <td>27</td>\n    </tr>\n    <tr>\n      <th>4</th>\n      <td>\"Joseph And The Amazing Technicolor Dreamcoat\"...</td>\n      <td>0.510714</td>\n      <td>0.467143</td>\n      <td>270436.142857</td>\n      <td>0.488286</td>\n      <td>0.009400</td>\n      <td>0.195000</td>\n      <td>-10.236714</td>\n      <td>0.098543</td>\n      <td>122.835857</td>\n      <td>0.482286</td>\n      <td>42.000000</td>\n      <td>5</td>\n      <td>1</td>\n      <td>7</td>\n    </tr>\n    <tr>\n      <th>...</th>\n      <td>...</td>\n      <td>...</td>\n      <td>...</td>\n      <td>...</td>\n      <td>...</td>\n      <td>...</td>\n      <td>...</td>\n      <td>...</td>\n      <td>...</td>\n      <td>...</td>\n      <td>...</td>\n      <td>...</td>\n      <td>...</td>\n      <td>...</td>\n      <td>...</td>\n    </tr>\n    <tr>\n      <th>32534</th>\n      <td>김효근</td>\n      <td>0.939000</td>\n      <td>0.174000</td>\n      <td>341821.000000</td>\n      <td>0.321000</td>\n      <td>0.756000</td>\n      <td>0.695000</td>\n      <td>-13.411000</td>\n      <td>0.042200</td>\n      <td>138.300000</td>\n      <td>0.055400</td>\n      <td>0.000000</td>\n      <td>3</td>\n      <td>1</td>\n      <td>1</td>\n    </tr>\n    <tr>\n      <th>32535</th>\n      <td>나율</td>\n      <td>0.717000</td>\n      <td>0.591500</td>\n      <td>241281.500000</td>\n      <td>0.473500</td>\n      <td>0.000000</td>\n      <td>0.105000</td>\n      <td>-6.588500</td>\n      <td>0.053700</td>\n      <td>107.599000</td>\n      <td>0.507500</td>\n      <td>16.000000</td>\n      <td>1</td>\n      <td>1</td>\n      <td>4</td>\n    </tr>\n    <tr>\n      <th>32536</th>\n      <td>미스티</td>\n      <td>0.416000</td>\n      <td>0.686000</td>\n      <td>216715.000000</td>\n      <td>0.822000</td>\n      <td>0.000000</td>\n      <td>0.110000</td>\n      <td>-6.300000</td>\n      <td>0.080200</td>\n      <td>122.047000</td>\n      <td>0.625000</td>\n      <td>0.000000</td>\n      <td>5</td>\n      <td>0</td>\n      <td>2</td>\n    </tr>\n    <tr>\n      <th>32537</th>\n      <td>시온 Zion &amp; 한해 Hanhae of 팬텀 Phantom</td>\n      <td>0.288000</td>\n      <td>0.739000</td>\n      <td>242480.000000</td>\n      <td>0.475000</td>\n      <td>0.000000</td>\n      <td>0.075700</td>\n      <td>-8.920000</td>\n      <td>0.379000</td>\n      <td>81.490000</td>\n      <td>0.800000</td>\n      <td>8.000000</td>\n      <td>2</td>\n      <td>0</td>\n      <td>2</td>\n    </tr>\n    <tr>\n      <th>32538</th>\n      <td>조정현</td>\n      <td>0.568000</td>\n      <td>0.447000</td>\n      <td>237688.000000</td>\n      <td>0.215000</td>\n      <td>0.000001</td>\n      <td>0.064900</td>\n      <td>-16.478000</td>\n      <td>0.027200</td>\n      <td>71.979000</td>\n      <td>0.177000</td>\n      <td>30.000000</td>\n      <td>10</td>\n      <td>1</td>\n      <td>2</td>\n    </tr>\n  </tbody>\n</table>\n<p>32539 rows × 15 columns</p>\n</div>"
     },
     "metadata": {},
     "execution_count": 41
    }
   ],
   "source": [
    "df_by_artist = pd.read_csv('data/data_by_artist.csv')\n",
    "df_by_artist"
   ]
  },
  {
   "cell_type": "code",
   "execution_count": 83,
   "metadata": {},
   "outputs": [],
   "source": [
    "new_df['artists_join'] = new_df['artist'].apply(lambda x: x.replace('\"', '').replace(\"'\", '').strip().lower()).astype(str)\n",
    "new_df = new_df.drop(['artists', 'year', 'agg_popularity'])\n",
    "new_df= new_df.drop_duplicates()"
   ]
  },
  {
   "cell_type": "code",
   "execution_count": 105,
   "metadata": {},
   "outputs": [
    {
     "output_type": "execute_result",
     "data": {
      "text/plain": [
       "                              artist                   artists_join\n",
       "0                        Mamie Smith                    mamie smith\n",
       "1              Screamin' Jay Hawkins           screamin jay hawkins\n",
       "2                    Oscar Velazquez                oscar velazquez\n",
       "3                               Mixe                           mixe\n",
       "4      Mamie Smith & Her Jazz Hounds  mamie smith & her jazz hounds\n",
       "...                              ...                            ...\n",
       "73890                        Lincoln                        lincoln\n",
       "73893                  Kendo Kapponi                  kendo kapponi\n",
       "73894                   Mackie Ranks                   mackie ranks\n",
       "73898                  Sfera Ebbasta                  sfera ebbasta\n",
       "73902               Johannes Bornlöf               johannes bornlöf\n",
       "\n",
       "[32544 rows x 2 columns]"
      ],
      "text/html": "<div>\n<style scoped>\n    .dataframe tbody tr th:only-of-type {\n        vertical-align: middle;\n    }\n\n    .dataframe tbody tr th {\n        vertical-align: top;\n    }\n\n    .dataframe thead th {\n        text-align: right;\n    }\n</style>\n<table border=\"1\" class=\"dataframe\">\n  <thead>\n    <tr style=\"text-align: right;\">\n      <th></th>\n      <th>artist</th>\n      <th>artists_join</th>\n    </tr>\n  </thead>\n  <tbody>\n    <tr>\n      <th>0</th>\n      <td>Mamie Smith</td>\n      <td>mamie smith</td>\n    </tr>\n    <tr>\n      <th>1</th>\n      <td>Screamin' Jay Hawkins</td>\n      <td>screamin jay hawkins</td>\n    </tr>\n    <tr>\n      <th>2</th>\n      <td>Oscar Velazquez</td>\n      <td>oscar velazquez</td>\n    </tr>\n    <tr>\n      <th>3</th>\n      <td>Mixe</td>\n      <td>mixe</td>\n    </tr>\n    <tr>\n      <th>4</th>\n      <td>Mamie Smith &amp; Her Jazz Hounds</td>\n      <td>mamie smith &amp; her jazz hounds</td>\n    </tr>\n    <tr>\n      <th>...</th>\n      <td>...</td>\n      <td>...</td>\n    </tr>\n    <tr>\n      <th>73890</th>\n      <td>Lincoln</td>\n      <td>lincoln</td>\n    </tr>\n    <tr>\n      <th>73893</th>\n      <td>Kendo Kapponi</td>\n      <td>kendo kapponi</td>\n    </tr>\n    <tr>\n      <th>73894</th>\n      <td>Mackie Ranks</td>\n      <td>mackie ranks</td>\n    </tr>\n    <tr>\n      <th>73898</th>\n      <td>Sfera Ebbasta</td>\n      <td>sfera ebbasta</td>\n    </tr>\n    <tr>\n      <th>73902</th>\n      <td>Johannes Bornlöf</td>\n      <td>johannes bornlöf</td>\n    </tr>\n  </tbody>\n</table>\n<p>32544 rows × 2 columns</p>\n</div>"
     },
     "metadata": {},
     "execution_count": 105
    }
   ],
   "source": [
    "new_df"
   ]
  },
  {
   "cell_type": "code",
   "execution_count": 106,
   "metadata": {},
   "outputs": [],
   "source": [
    "df_by_artist['artists_join'] = df_by_artist['artists'].apply(lambda x: x.replace('\"', '').replace(\"'\", '').strip().lower()).astype(str)"
   ]
  },
  {
   "cell_type": "code",
   "execution_count": 107,
   "metadata": {},
   "outputs": [
    {
     "output_type": "execute_result",
     "data": {
      "text/plain": [
       "                                                 artists  acousticness  \\\n",
       "0                       \"Cats\" 1981 Original London Cast      0.598500   \n",
       "1                              \"Cats\" 1983 Broadway Cast      0.862538   \n",
       "2            \"Fiddler On The Roof” Motion Picture Chorus      0.856571   \n",
       "3         \"Fiddler On The Roof” Motion Picture Orchestra      0.884926   \n",
       "4      \"Joseph And The Amazing Technicolor Dreamcoat\"...      0.510714   \n",
       "...                                                  ...           ...   \n",
       "32534                                                김효근      0.939000   \n",
       "32535                                                 나율      0.717000   \n",
       "32536                                                미스티      0.416000   \n",
       "32537                  시온 Zion & 한해 Hanhae of 팬텀 Phantom      0.288000   \n",
       "32538                                                조정현      0.568000   \n",
       "\n",
       "       danceability    duration_ms    energy  instrumentalness  liveness  \\\n",
       "0          0.470100  267072.000000  0.376203          0.010261  0.283050   \n",
       "1          0.441731  287280.000000  0.406808          0.081158  0.315215   \n",
       "2          0.348286  328920.000000  0.286571          0.024593  0.325786   \n",
       "3          0.425074  262890.962963  0.245770          0.073587  0.275481   \n",
       "4          0.467143  270436.142857  0.488286          0.009400  0.195000   \n",
       "...             ...            ...       ...               ...       ...   \n",
       "32534      0.174000  341821.000000  0.321000          0.756000  0.695000   \n",
       "32535      0.591500  241281.500000  0.473500          0.000000  0.105000   \n",
       "32536      0.686000  216715.000000  0.822000          0.000000  0.110000   \n",
       "32537      0.739000  242480.000000  0.475000          0.000000  0.075700   \n",
       "32538      0.447000  237688.000000  0.215000          0.000001  0.064900   \n",
       "\n",
       "        loudness  speechiness       tempo   valence  popularity  key  mode  \\\n",
       "0     -14.434300     0.209150  114.128800  0.358320   38.200000    5     1   \n",
       "1     -10.690000     0.176212  103.044154  0.268865   31.538462    5     1   \n",
       "2     -15.230714     0.118514   77.375857  0.354857   34.571429    0     1   \n",
       "3     -15.639370     0.123200   88.667630  0.372030   34.407407    0     1   \n",
       "4     -10.236714     0.098543  122.835857  0.482286   42.000000    5     1   \n",
       "...          ...          ...         ...       ...         ...  ...   ...   \n",
       "32534 -13.411000     0.042200  138.300000  0.055400    0.000000    3     1   \n",
       "32535  -6.588500     0.053700  107.599000  0.507500   16.000000    1     1   \n",
       "32536  -6.300000     0.080200  122.047000  0.625000    0.000000    5     0   \n",
       "32537  -8.920000     0.379000   81.490000  0.800000    8.000000    2     0   \n",
       "32538 -16.478000     0.027200   71.979000  0.177000   30.000000   10     1   \n",
       "\n",
       "       count                                       artists_join  \n",
       "0         10                     cats 1981 original london cast  \n",
       "1         26                            cats 1983 broadway cast  \n",
       "2          7         fiddler on the roof” motion picture chorus  \n",
       "3         27      fiddler on the roof” motion picture orchestra  \n",
       "4          7  joseph and the amazing technicolor dreamcoat 1...  \n",
       "...      ...                                                ...  \n",
       "32534      1                                                김효근  \n",
       "32535      4                                                 나율  \n",
       "32536      2                                                미스티  \n",
       "32537      2                  시온 zion & 한해 hanhae of 팬텀 phantom  \n",
       "32538      2                                                조정현  \n",
       "\n",
       "[32539 rows x 16 columns]"
      ],
      "text/html": "<div>\n<style scoped>\n    .dataframe tbody tr th:only-of-type {\n        vertical-align: middle;\n    }\n\n    .dataframe tbody tr th {\n        vertical-align: top;\n    }\n\n    .dataframe thead th {\n        text-align: right;\n    }\n</style>\n<table border=\"1\" class=\"dataframe\">\n  <thead>\n    <tr style=\"text-align: right;\">\n      <th></th>\n      <th>artists</th>\n      <th>acousticness</th>\n      <th>danceability</th>\n      <th>duration_ms</th>\n      <th>energy</th>\n      <th>instrumentalness</th>\n      <th>liveness</th>\n      <th>loudness</th>\n      <th>speechiness</th>\n      <th>tempo</th>\n      <th>valence</th>\n      <th>popularity</th>\n      <th>key</th>\n      <th>mode</th>\n      <th>count</th>\n      <th>artists_join</th>\n    </tr>\n  </thead>\n  <tbody>\n    <tr>\n      <th>0</th>\n      <td>\"Cats\" 1981 Original London Cast</td>\n      <td>0.598500</td>\n      <td>0.470100</td>\n      <td>267072.000000</td>\n      <td>0.376203</td>\n      <td>0.010261</td>\n      <td>0.283050</td>\n      <td>-14.434300</td>\n      <td>0.209150</td>\n      <td>114.128800</td>\n      <td>0.358320</td>\n      <td>38.200000</td>\n      <td>5</td>\n      <td>1</td>\n      <td>10</td>\n      <td>cats 1981 original london cast</td>\n    </tr>\n    <tr>\n      <th>1</th>\n      <td>\"Cats\" 1983 Broadway Cast</td>\n      <td>0.862538</td>\n      <td>0.441731</td>\n      <td>287280.000000</td>\n      <td>0.406808</td>\n      <td>0.081158</td>\n      <td>0.315215</td>\n      <td>-10.690000</td>\n      <td>0.176212</td>\n      <td>103.044154</td>\n      <td>0.268865</td>\n      <td>31.538462</td>\n      <td>5</td>\n      <td>1</td>\n      <td>26</td>\n      <td>cats 1983 broadway cast</td>\n    </tr>\n    <tr>\n      <th>2</th>\n      <td>\"Fiddler On The Roof” Motion Picture Chorus</td>\n      <td>0.856571</td>\n      <td>0.348286</td>\n      <td>328920.000000</td>\n      <td>0.286571</td>\n      <td>0.024593</td>\n      <td>0.325786</td>\n      <td>-15.230714</td>\n      <td>0.118514</td>\n      <td>77.375857</td>\n      <td>0.354857</td>\n      <td>34.571429</td>\n      <td>0</td>\n      <td>1</td>\n      <td>7</td>\n      <td>fiddler on the roof” motion picture chorus</td>\n    </tr>\n    <tr>\n      <th>3</th>\n      <td>\"Fiddler On The Roof” Motion Picture Orchestra</td>\n      <td>0.884926</td>\n      <td>0.425074</td>\n      <td>262890.962963</td>\n      <td>0.245770</td>\n      <td>0.073587</td>\n      <td>0.275481</td>\n      <td>-15.639370</td>\n      <td>0.123200</td>\n      <td>88.667630</td>\n      <td>0.372030</td>\n      <td>34.407407</td>\n      <td>0</td>\n      <td>1</td>\n      <td>27</td>\n      <td>fiddler on the roof” motion picture orchestra</td>\n    </tr>\n    <tr>\n      <th>4</th>\n      <td>\"Joseph And The Amazing Technicolor Dreamcoat\"...</td>\n      <td>0.510714</td>\n      <td>0.467143</td>\n      <td>270436.142857</td>\n      <td>0.488286</td>\n      <td>0.009400</td>\n      <td>0.195000</td>\n      <td>-10.236714</td>\n      <td>0.098543</td>\n      <td>122.835857</td>\n      <td>0.482286</td>\n      <td>42.000000</td>\n      <td>5</td>\n      <td>1</td>\n      <td>7</td>\n      <td>joseph and the amazing technicolor dreamcoat 1...</td>\n    </tr>\n    <tr>\n      <th>...</th>\n      <td>...</td>\n      <td>...</td>\n      <td>...</td>\n      <td>...</td>\n      <td>...</td>\n      <td>...</td>\n      <td>...</td>\n      <td>...</td>\n      <td>...</td>\n      <td>...</td>\n      <td>...</td>\n      <td>...</td>\n      <td>...</td>\n      <td>...</td>\n      <td>...</td>\n      <td>...</td>\n    </tr>\n    <tr>\n      <th>32534</th>\n      <td>김효근</td>\n      <td>0.939000</td>\n      <td>0.174000</td>\n      <td>341821.000000</td>\n      <td>0.321000</td>\n      <td>0.756000</td>\n      <td>0.695000</td>\n      <td>-13.411000</td>\n      <td>0.042200</td>\n      <td>138.300000</td>\n      <td>0.055400</td>\n      <td>0.000000</td>\n      <td>3</td>\n      <td>1</td>\n      <td>1</td>\n      <td>김효근</td>\n    </tr>\n    <tr>\n      <th>32535</th>\n      <td>나율</td>\n      <td>0.717000</td>\n      <td>0.591500</td>\n      <td>241281.500000</td>\n      <td>0.473500</td>\n      <td>0.000000</td>\n      <td>0.105000</td>\n      <td>-6.588500</td>\n      <td>0.053700</td>\n      <td>107.599000</td>\n      <td>0.507500</td>\n      <td>16.000000</td>\n      <td>1</td>\n      <td>1</td>\n      <td>4</td>\n      <td>나율</td>\n    </tr>\n    <tr>\n      <th>32536</th>\n      <td>미스티</td>\n      <td>0.416000</td>\n      <td>0.686000</td>\n      <td>216715.000000</td>\n      <td>0.822000</td>\n      <td>0.000000</td>\n      <td>0.110000</td>\n      <td>-6.300000</td>\n      <td>0.080200</td>\n      <td>122.047000</td>\n      <td>0.625000</td>\n      <td>0.000000</td>\n      <td>5</td>\n      <td>0</td>\n      <td>2</td>\n      <td>미스티</td>\n    </tr>\n    <tr>\n      <th>32537</th>\n      <td>시온 Zion &amp; 한해 Hanhae of 팬텀 Phantom</td>\n      <td>0.288000</td>\n      <td>0.739000</td>\n      <td>242480.000000</td>\n      <td>0.475000</td>\n      <td>0.000000</td>\n      <td>0.075700</td>\n      <td>-8.920000</td>\n      <td>0.379000</td>\n      <td>81.490000</td>\n      <td>0.800000</td>\n      <td>8.000000</td>\n      <td>2</td>\n      <td>0</td>\n      <td>2</td>\n      <td>시온 zion &amp; 한해 hanhae of 팬텀 phantom</td>\n    </tr>\n    <tr>\n      <th>32538</th>\n      <td>조정현</td>\n      <td>0.568000</td>\n      <td>0.447000</td>\n      <td>237688.000000</td>\n      <td>0.215000</td>\n      <td>0.000001</td>\n      <td>0.064900</td>\n      <td>-16.478000</td>\n      <td>0.027200</td>\n      <td>71.979000</td>\n      <td>0.177000</td>\n      <td>30.000000</td>\n      <td>10</td>\n      <td>1</td>\n      <td>2</td>\n      <td>조정현</td>\n    </tr>\n  </tbody>\n</table>\n<p>32539 rows × 16 columns</p>\n</div>"
     },
     "metadata": {},
     "execution_count": 107
    }
   ],
   "source": [
    "df_by_artist"
   ]
  },
  {
   "cell_type": "code",
   "execution_count": 109,
   "metadata": {},
   "outputs": [],
   "source": [
    "merged_final = new_df.merge(df_by_artist, on='artists_join', how='right')"
   ]
  },
  {
   "cell_type": "code",
   "execution_count": 117,
   "metadata": {},
   "outputs": [
    {
     "output_type": "execute_result",
     "data": {
      "text/plain": [
       "                                           artist_bubble  \\\n",
       "0                        Cats' 1981 Original London Cast   \n",
       "1                               Cats' 1983 Broadway Cast   \n",
       "2             Fiddler On The Roof” Motion Picture Chorus   \n",
       "3          Fiddler On The Roof” Motion Picture Orchestra   \n",
       "4      Joseph And The Amazing Technicolor Dreamcoat' ...   \n",
       "...                                                  ...   \n",
       "32592                                                김효근   \n",
       "32593                                                 나율   \n",
       "32594                                                미스티   \n",
       "32595                  시온 Zion & 한해 Hanhae of 팬텀 Phantom   \n",
       "32596                                                조정현   \n",
       "\n",
       "                                            artists_join  \\\n",
       "0                         cats 1981 original london cast   \n",
       "1                                cats 1983 broadway cast   \n",
       "2             fiddler on the roof” motion picture chorus   \n",
       "3          fiddler on the roof” motion picture orchestra   \n",
       "4      joseph and the amazing technicolor dreamcoat 1...   \n",
       "...                                                  ...   \n",
       "32592                                                김효근   \n",
       "32593                                                 나율   \n",
       "32594                                                미스티   \n",
       "32595                  시온 zion & 한해 hanhae of 팬텀 phantom   \n",
       "32596                                                조정현   \n",
       "\n",
       "                                                 artists  acousticness  \\\n",
       "0                       \"Cats\" 1981 Original London Cast      0.598500   \n",
       "1                              \"Cats\" 1983 Broadway Cast      0.862538   \n",
       "2            \"Fiddler On The Roof” Motion Picture Chorus      0.856571   \n",
       "3         \"Fiddler On The Roof” Motion Picture Orchestra      0.884926   \n",
       "4      \"Joseph And The Amazing Technicolor Dreamcoat\"...      0.510714   \n",
       "...                                                  ...           ...   \n",
       "32592                                                김효근      0.939000   \n",
       "32593                                                 나율      0.717000   \n",
       "32594                                                미스티      0.416000   \n",
       "32595                  시온 Zion & 한해 Hanhae of 팬텀 Phantom      0.288000   \n",
       "32596                                                조정현      0.568000   \n",
       "\n",
       "       danceability    duration_ms    energy  instrumentalness  liveness  \\\n",
       "0          0.470100  267072.000000  0.376203          0.010261  0.283050   \n",
       "1          0.441731  287280.000000  0.406808          0.081158  0.315215   \n",
       "2          0.348286  328920.000000  0.286571          0.024593  0.325786   \n",
       "3          0.425074  262890.962963  0.245770          0.073587  0.275481   \n",
       "4          0.467143  270436.142857  0.488286          0.009400  0.195000   \n",
       "...             ...            ...       ...               ...       ...   \n",
       "32592      0.174000  341821.000000  0.321000          0.756000  0.695000   \n",
       "32593      0.591500  241281.500000  0.473500          0.000000  0.105000   \n",
       "32594      0.686000  216715.000000  0.822000          0.000000  0.110000   \n",
       "32595      0.739000  242480.000000  0.475000          0.000000  0.075700   \n",
       "32596      0.447000  237688.000000  0.215000          0.000001  0.064900   \n",
       "\n",
       "        loudness  speechiness       tempo   valence  popularity  key  mode  \\\n",
       "0     -14.434300     0.209150  114.128800  0.358320   38.200000    5     1   \n",
       "1     -10.690000     0.176212  103.044154  0.268865   31.538462    5     1   \n",
       "2     -15.230714     0.118514   77.375857  0.354857   34.571429    0     1   \n",
       "3     -15.639370     0.123200   88.667630  0.372030   34.407407    0     1   \n",
       "4     -10.236714     0.098543  122.835857  0.482286   42.000000    5     1   \n",
       "...          ...          ...         ...       ...         ...  ...   ...   \n",
       "32592 -13.411000     0.042200  138.300000  0.055400    0.000000    3     1   \n",
       "32593  -6.588500     0.053700  107.599000  0.507500   16.000000    1     1   \n",
       "32594  -6.300000     0.080200  122.047000  0.625000    0.000000    5     0   \n",
       "32595  -8.920000     0.379000   81.490000  0.800000    8.000000    2     0   \n",
       "32596 -16.478000     0.027200   71.979000  0.177000   30.000000   10     1   \n",
       "\n",
       "       count  \n",
       "0         10  \n",
       "1         26  \n",
       "2          7  \n",
       "3         27  \n",
       "4          7  \n",
       "...      ...  \n",
       "32592      1  \n",
       "32593      4  \n",
       "32594      2  \n",
       "32595      2  \n",
       "32596      2  \n",
       "\n",
       "[32597 rows x 17 columns]"
      ],
      "text/html": "<div>\n<style scoped>\n    .dataframe tbody tr th:only-of-type {\n        vertical-align: middle;\n    }\n\n    .dataframe tbody tr th {\n        vertical-align: top;\n    }\n\n    .dataframe thead th {\n        text-align: right;\n    }\n</style>\n<table border=\"1\" class=\"dataframe\">\n  <thead>\n    <tr style=\"text-align: right;\">\n      <th></th>\n      <th>artist_bubble</th>\n      <th>artists_join</th>\n      <th>artists</th>\n      <th>acousticness</th>\n      <th>danceability</th>\n      <th>duration_ms</th>\n      <th>energy</th>\n      <th>instrumentalness</th>\n      <th>liveness</th>\n      <th>loudness</th>\n      <th>speechiness</th>\n      <th>tempo</th>\n      <th>valence</th>\n      <th>popularity</th>\n      <th>key</th>\n      <th>mode</th>\n      <th>count</th>\n    </tr>\n  </thead>\n  <tbody>\n    <tr>\n      <th>0</th>\n      <td>Cats' 1981 Original London Cast</td>\n      <td>cats 1981 original london cast</td>\n      <td>\"Cats\" 1981 Original London Cast</td>\n      <td>0.598500</td>\n      <td>0.470100</td>\n      <td>267072.000000</td>\n      <td>0.376203</td>\n      <td>0.010261</td>\n      <td>0.283050</td>\n      <td>-14.434300</td>\n      <td>0.209150</td>\n      <td>114.128800</td>\n      <td>0.358320</td>\n      <td>38.200000</td>\n      <td>5</td>\n      <td>1</td>\n      <td>10</td>\n    </tr>\n    <tr>\n      <th>1</th>\n      <td>Cats' 1983 Broadway Cast</td>\n      <td>cats 1983 broadway cast</td>\n      <td>\"Cats\" 1983 Broadway Cast</td>\n      <td>0.862538</td>\n      <td>0.441731</td>\n      <td>287280.000000</td>\n      <td>0.406808</td>\n      <td>0.081158</td>\n      <td>0.315215</td>\n      <td>-10.690000</td>\n      <td>0.176212</td>\n      <td>103.044154</td>\n      <td>0.268865</td>\n      <td>31.538462</td>\n      <td>5</td>\n      <td>1</td>\n      <td>26</td>\n    </tr>\n    <tr>\n      <th>2</th>\n      <td>Fiddler On The Roof” Motion Picture Chorus</td>\n      <td>fiddler on the roof” motion picture chorus</td>\n      <td>\"Fiddler On The Roof” Motion Picture Chorus</td>\n      <td>0.856571</td>\n      <td>0.348286</td>\n      <td>328920.000000</td>\n      <td>0.286571</td>\n      <td>0.024593</td>\n      <td>0.325786</td>\n      <td>-15.230714</td>\n      <td>0.118514</td>\n      <td>77.375857</td>\n      <td>0.354857</td>\n      <td>34.571429</td>\n      <td>0</td>\n      <td>1</td>\n      <td>7</td>\n    </tr>\n    <tr>\n      <th>3</th>\n      <td>Fiddler On The Roof” Motion Picture Orchestra</td>\n      <td>fiddler on the roof” motion picture orchestra</td>\n      <td>\"Fiddler On The Roof” Motion Picture Orchestra</td>\n      <td>0.884926</td>\n      <td>0.425074</td>\n      <td>262890.962963</td>\n      <td>0.245770</td>\n      <td>0.073587</td>\n      <td>0.275481</td>\n      <td>-15.639370</td>\n      <td>0.123200</td>\n      <td>88.667630</td>\n      <td>0.372030</td>\n      <td>34.407407</td>\n      <td>0</td>\n      <td>1</td>\n      <td>27</td>\n    </tr>\n    <tr>\n      <th>4</th>\n      <td>Joseph And The Amazing Technicolor Dreamcoat' ...</td>\n      <td>joseph and the amazing technicolor dreamcoat 1...</td>\n      <td>\"Joseph And The Amazing Technicolor Dreamcoat\"...</td>\n      <td>0.510714</td>\n      <td>0.467143</td>\n      <td>270436.142857</td>\n      <td>0.488286</td>\n      <td>0.009400</td>\n      <td>0.195000</td>\n      <td>-10.236714</td>\n      <td>0.098543</td>\n      <td>122.835857</td>\n      <td>0.482286</td>\n      <td>42.000000</td>\n      <td>5</td>\n      <td>1</td>\n      <td>7</td>\n    </tr>\n    <tr>\n      <th>...</th>\n      <td>...</td>\n      <td>...</td>\n      <td>...</td>\n      <td>...</td>\n      <td>...</td>\n      <td>...</td>\n      <td>...</td>\n      <td>...</td>\n      <td>...</td>\n      <td>...</td>\n      <td>...</td>\n      <td>...</td>\n      <td>...</td>\n      <td>...</td>\n      <td>...</td>\n      <td>...</td>\n      <td>...</td>\n    </tr>\n    <tr>\n      <th>32592</th>\n      <td>김효근</td>\n      <td>김효근</td>\n      <td>김효근</td>\n      <td>0.939000</td>\n      <td>0.174000</td>\n      <td>341821.000000</td>\n      <td>0.321000</td>\n      <td>0.756000</td>\n      <td>0.695000</td>\n      <td>-13.411000</td>\n      <td>0.042200</td>\n      <td>138.300000</td>\n      <td>0.055400</td>\n      <td>0.000000</td>\n      <td>3</td>\n      <td>1</td>\n      <td>1</td>\n    </tr>\n    <tr>\n      <th>32593</th>\n      <td>나율</td>\n      <td>나율</td>\n      <td>나율</td>\n      <td>0.717000</td>\n      <td>0.591500</td>\n      <td>241281.500000</td>\n      <td>0.473500</td>\n      <td>0.000000</td>\n      <td>0.105000</td>\n      <td>-6.588500</td>\n      <td>0.053700</td>\n      <td>107.599000</td>\n      <td>0.507500</td>\n      <td>16.000000</td>\n      <td>1</td>\n      <td>1</td>\n      <td>4</td>\n    </tr>\n    <tr>\n      <th>32594</th>\n      <td>미스티</td>\n      <td>미스티</td>\n      <td>미스티</td>\n      <td>0.416000</td>\n      <td>0.686000</td>\n      <td>216715.000000</td>\n      <td>0.822000</td>\n      <td>0.000000</td>\n      <td>0.110000</td>\n      <td>-6.300000</td>\n      <td>0.080200</td>\n      <td>122.047000</td>\n      <td>0.625000</td>\n      <td>0.000000</td>\n      <td>5</td>\n      <td>0</td>\n      <td>2</td>\n    </tr>\n    <tr>\n      <th>32595</th>\n      <td>시온 Zion &amp; 한해 Hanhae of 팬텀 Phantom</td>\n      <td>시온 zion &amp; 한해 hanhae of 팬텀 phantom</td>\n      <td>시온 Zion &amp; 한해 Hanhae of 팬텀 Phantom</td>\n      <td>0.288000</td>\n      <td>0.739000</td>\n      <td>242480.000000</td>\n      <td>0.475000</td>\n      <td>0.000000</td>\n      <td>0.075700</td>\n      <td>-8.920000</td>\n      <td>0.379000</td>\n      <td>81.490000</td>\n      <td>0.800000</td>\n      <td>8.000000</td>\n      <td>2</td>\n      <td>0</td>\n      <td>2</td>\n    </tr>\n    <tr>\n      <th>32596</th>\n      <td>조정현</td>\n      <td>조정현</td>\n      <td>조정현</td>\n      <td>0.568000</td>\n      <td>0.447000</td>\n      <td>237688.000000</td>\n      <td>0.215000</td>\n      <td>0.000001</td>\n      <td>0.064900</td>\n      <td>-16.478000</td>\n      <td>0.027200</td>\n      <td>71.979000</td>\n      <td>0.177000</td>\n      <td>30.000000</td>\n      <td>10</td>\n      <td>1</td>\n      <td>2</td>\n    </tr>\n  </tbody>\n</table>\n<p>32597 rows × 17 columns</p>\n</div>"
     },
     "metadata": {},
     "execution_count": 117
    }
   ],
   "source": [
    "merged_final=merged_final.rename(columns={'artist':'artist_bubble'})\n",
    "merged_final"
   ]
  },
  {
   "cell_type": "code",
   "execution_count": 118,
   "metadata": {},
   "outputs": [],
   "source": [
    "merged_final.to_csv('data_bubble_to_artist.csv')"
   ]
  },
  {
   "cell_type": "code",
   "execution_count": null,
   "metadata": {},
   "outputs": [],
   "source": []
  }
 ]
}