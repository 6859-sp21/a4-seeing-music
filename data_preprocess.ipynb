{
 "metadata": {
  "language_info": {
   "codemirror_mode": {
    "name": "ipython",
    "version": 3
   },
   "file_extension": ".py",
   "mimetype": "text/x-python",
   "name": "python",
   "nbconvert_exporter": "python",
   "pygments_lexer": "ipython3",
   "version": "3.9.1"
  },
  "orig_nbformat": 2,
  "kernelspec": {
   "name": "python3",
   "display_name": "Python 3.9.1 64-bit",
   "metadata": {
    "interpreter": {
     "hash": "b8bdd4e700647ba2b08c59e5df8b7da1dcf50a218bcd4c1bcd9b3dc92e8788e5"
    }
   }
  }
 },
 "nbformat": 4,
 "nbformat_minor": 2,
 "cells": [
  {
   "cell_type": "code",
   "execution_count": 2,
   "metadata": {},
   "outputs": [],
   "source": [
    "import pandas as pd\n",
    "import string"
   ]
  },
  {
   "cell_type": "code",
   "execution_count": 4,
   "metadata": {},
   "outputs": [],
   "source": [
    "path = 'data/data.csv'\n",
    "df = pd.read_csv(path)\n",
    "df = df[['artists', 'popularity', 'year']]\n",
    "counts = {}"
   ]
  },
  {
   "cell_type": "code",
   "execution_count": 5,
   "metadata": {},
   "outputs": [
    {
     "output_type": "error",
     "ename": "KeyboardInterrupt",
     "evalue": "",
     "traceback": [
      "\u001b[0;31m---------------------------------------------------------------------------\u001b[0m",
      "\u001b[0;31mKeyboardInterrupt\u001b[0m                         Traceback (most recent call last)",
      "\u001b[0;32m<ipython-input-5-7c9e94047bd3>\u001b[0m in \u001b[0;36m<module>\u001b[0;34m\u001b[0m\n\u001b[1;32m      2\u001b[0m     \u001b[0myear\u001b[0m \u001b[0;34m=\u001b[0m \u001b[0mdf\u001b[0m\u001b[0;34m.\u001b[0m\u001b[0miloc\u001b[0m\u001b[0;34m[\u001b[0m\u001b[0mi\u001b[0m\u001b[0;34m]\u001b[0m\u001b[0;34m.\u001b[0m\u001b[0myear\u001b[0m\u001b[0;34m\u001b[0m\u001b[0;34m\u001b[0m\u001b[0m\n\u001b[1;32m      3\u001b[0m     \u001b[0martists\u001b[0m \u001b[0;34m=\u001b[0m \u001b[0mdf\u001b[0m\u001b[0;34m.\u001b[0m\u001b[0miloc\u001b[0m\u001b[0;34m[\u001b[0m\u001b[0mi\u001b[0m\u001b[0;34m]\u001b[0m\u001b[0;34m.\u001b[0m\u001b[0martists\u001b[0m\u001b[0;34m.\u001b[0m\u001b[0mreplace\u001b[0m\u001b[0;34m(\u001b[0m\u001b[0;34m'\"'\u001b[0m\u001b[0;34m,\u001b[0m \u001b[0;34m\"'\"\u001b[0m\u001b[0;34m)\u001b[0m\u001b[0;34m.\u001b[0m\u001b[0mreplace\u001b[0m\u001b[0;34m(\u001b[0m\u001b[0;34m'['\u001b[0m\u001b[0;34m,\u001b[0m\u001b[0;34m''\u001b[0m\u001b[0;34m)\u001b[0m\u001b[0;34m.\u001b[0m\u001b[0mreplace\u001b[0m\u001b[0;34m(\u001b[0m\u001b[0;34m']'\u001b[0m\u001b[0;34m,\u001b[0m\u001b[0;34m''\u001b[0m\u001b[0;34m)\u001b[0m\u001b[0;34m.\u001b[0m\u001b[0msplit\u001b[0m\u001b[0;34m(\u001b[0m\u001b[0;34m\"', '\"\u001b[0m\u001b[0;34m)\u001b[0m\u001b[0;34m\u001b[0m\u001b[0;34m\u001b[0m\u001b[0m\n\u001b[0;32m----> 4\u001b[0;31m     \u001b[0mpop\u001b[0m \u001b[0;34m=\u001b[0m \u001b[0mdf\u001b[0m\u001b[0;34m.\u001b[0m\u001b[0miloc\u001b[0m\u001b[0;34m[\u001b[0m\u001b[0mi\u001b[0m\u001b[0;34m]\u001b[0m\u001b[0;34m.\u001b[0m\u001b[0mpopularity\u001b[0m\u001b[0;34m\u001b[0m\u001b[0;34m\u001b[0m\u001b[0m\n\u001b[0m\u001b[1;32m      5\u001b[0m     \u001b[0;32mfor\u001b[0m \u001b[0martist\u001b[0m \u001b[0;32min\u001b[0m \u001b[0martists\u001b[0m\u001b[0;34m:\u001b[0m\u001b[0;34m\u001b[0m\u001b[0;34m\u001b[0m\u001b[0m\n\u001b[1;32m      6\u001b[0m         \u001b[0mcounts\u001b[0m\u001b[0;34m[\u001b[0m\u001b[0;34m(\u001b[0m\u001b[0myear\u001b[0m\u001b[0;34m,\u001b[0m \u001b[0martist\u001b[0m\u001b[0;34m)\u001b[0m\u001b[0;34m]\u001b[0m \u001b[0;34m=\u001b[0m \u001b[0mcounts\u001b[0m\u001b[0;34m.\u001b[0m\u001b[0mget\u001b[0m\u001b[0;34m(\u001b[0m\u001b[0;34m(\u001b[0m\u001b[0myear\u001b[0m\u001b[0;34m,\u001b[0m\u001b[0martist\u001b[0m\u001b[0;34m)\u001b[0m\u001b[0;34m,\u001b[0m \u001b[0;36m0\u001b[0m\u001b[0;34m)\u001b[0m \u001b[0;34m+\u001b[0m \u001b[0mpop\u001b[0m\u001b[0;34m\u001b[0m\u001b[0;34m\u001b[0m\u001b[0m\n",
      "\u001b[0;32m/Library/Frameworks/Python.framework/Versions/3.9/lib/python3.9/site-packages/pandas/core/indexing.py\u001b[0m in \u001b[0;36m__getitem__\u001b[0;34m(self, key)\u001b[0m\n\u001b[1;32m    893\u001b[0m \u001b[0;34m\u001b[0m\u001b[0m\n\u001b[1;32m    894\u001b[0m             \u001b[0mmaybe_callable\u001b[0m \u001b[0;34m=\u001b[0m \u001b[0mcom\u001b[0m\u001b[0;34m.\u001b[0m\u001b[0mapply_if_callable\u001b[0m\u001b[0;34m(\u001b[0m\u001b[0mkey\u001b[0m\u001b[0;34m,\u001b[0m \u001b[0mself\u001b[0m\u001b[0;34m.\u001b[0m\u001b[0mobj\u001b[0m\u001b[0;34m)\u001b[0m\u001b[0;34m\u001b[0m\u001b[0;34m\u001b[0m\u001b[0m\n\u001b[0;32m--> 895\u001b[0;31m             \u001b[0;32mreturn\u001b[0m \u001b[0mself\u001b[0m\u001b[0;34m.\u001b[0m\u001b[0m_getitem_axis\u001b[0m\u001b[0;34m(\u001b[0m\u001b[0mmaybe_callable\u001b[0m\u001b[0;34m,\u001b[0m \u001b[0maxis\u001b[0m\u001b[0;34m=\u001b[0m\u001b[0maxis\u001b[0m\u001b[0;34m)\u001b[0m\u001b[0;34m\u001b[0m\u001b[0;34m\u001b[0m\u001b[0m\n\u001b[0m\u001b[1;32m    896\u001b[0m \u001b[0;34m\u001b[0m\u001b[0m\n\u001b[1;32m    897\u001b[0m     \u001b[0;32mdef\u001b[0m \u001b[0m_is_scalar_access\u001b[0m\u001b[0;34m(\u001b[0m\u001b[0mself\u001b[0m\u001b[0;34m,\u001b[0m \u001b[0mkey\u001b[0m\u001b[0;34m:\u001b[0m \u001b[0mTuple\u001b[0m\u001b[0;34m)\u001b[0m\u001b[0;34m:\u001b[0m\u001b[0;34m\u001b[0m\u001b[0;34m\u001b[0m\u001b[0m\n",
      "\u001b[0;32m/Library/Frameworks/Python.framework/Versions/3.9/lib/python3.9/site-packages/pandas/core/indexing.py\u001b[0m in \u001b[0;36m_getitem_axis\u001b[0;34m(self, key, axis)\u001b[0m\n\u001b[1;32m   1501\u001b[0m             \u001b[0mself\u001b[0m\u001b[0;34m.\u001b[0m\u001b[0m_validate_integer\u001b[0m\u001b[0;34m(\u001b[0m\u001b[0mkey\u001b[0m\u001b[0;34m,\u001b[0m \u001b[0maxis\u001b[0m\u001b[0;34m)\u001b[0m\u001b[0;34m\u001b[0m\u001b[0;34m\u001b[0m\u001b[0m\n\u001b[1;32m   1502\u001b[0m \u001b[0;34m\u001b[0m\u001b[0m\n\u001b[0;32m-> 1503\u001b[0;31m             \u001b[0;32mreturn\u001b[0m \u001b[0mself\u001b[0m\u001b[0;34m.\u001b[0m\u001b[0mobj\u001b[0m\u001b[0;34m.\u001b[0m\u001b[0m_ixs\u001b[0m\u001b[0;34m(\u001b[0m\u001b[0mkey\u001b[0m\u001b[0;34m,\u001b[0m \u001b[0maxis\u001b[0m\u001b[0;34m=\u001b[0m\u001b[0maxis\u001b[0m\u001b[0;34m)\u001b[0m\u001b[0;34m\u001b[0m\u001b[0;34m\u001b[0m\u001b[0m\n\u001b[0m\u001b[1;32m   1504\u001b[0m \u001b[0;34m\u001b[0m\u001b[0m\n\u001b[1;32m   1505\u001b[0m     \u001b[0;32mdef\u001b[0m \u001b[0m_get_slice_axis\u001b[0m\u001b[0;34m(\u001b[0m\u001b[0mself\u001b[0m\u001b[0;34m,\u001b[0m \u001b[0mslice_obj\u001b[0m\u001b[0;34m:\u001b[0m \u001b[0mslice\u001b[0m\u001b[0;34m,\u001b[0m \u001b[0maxis\u001b[0m\u001b[0;34m:\u001b[0m \u001b[0mint\u001b[0m\u001b[0;34m)\u001b[0m\u001b[0;34m:\u001b[0m\u001b[0;34m\u001b[0m\u001b[0;34m\u001b[0m\u001b[0m\n",
      "\u001b[0;32m/Library/Frameworks/Python.framework/Versions/3.9/lib/python3.9/site-packages/pandas/core/frame.py\u001b[0m in \u001b[0;36m_ixs\u001b[0;34m(self, i, axis)\u001b[0m\n\u001b[1;32m   2945\u001b[0m         \u001b[0;31m# irow\u001b[0m\u001b[0;34m\u001b[0m\u001b[0;34m\u001b[0m\u001b[0;34m\u001b[0m\u001b[0m\n\u001b[1;32m   2946\u001b[0m         \u001b[0;32mif\u001b[0m \u001b[0maxis\u001b[0m \u001b[0;34m==\u001b[0m \u001b[0;36m0\u001b[0m\u001b[0;34m:\u001b[0m\u001b[0;34m\u001b[0m\u001b[0;34m\u001b[0m\u001b[0m\n\u001b[0;32m-> 2947\u001b[0;31m             \u001b[0mnew_values\u001b[0m \u001b[0;34m=\u001b[0m \u001b[0mself\u001b[0m\u001b[0;34m.\u001b[0m\u001b[0m_mgr\u001b[0m\u001b[0;34m.\u001b[0m\u001b[0mfast_xs\u001b[0m\u001b[0;34m(\u001b[0m\u001b[0mi\u001b[0m\u001b[0;34m)\u001b[0m\u001b[0;34m\u001b[0m\u001b[0;34m\u001b[0m\u001b[0m\n\u001b[0m\u001b[1;32m   2948\u001b[0m \u001b[0;34m\u001b[0m\u001b[0m\n\u001b[1;32m   2949\u001b[0m             \u001b[0;31m# if we are a copy, mark as such\u001b[0m\u001b[0;34m\u001b[0m\u001b[0;34m\u001b[0m\u001b[0;34m\u001b[0m\u001b[0m\n",
      "\u001b[0;32m/Library/Frameworks/Python.framework/Versions/3.9/lib/python3.9/site-packages/pandas/core/internals/managers.py\u001b[0m in \u001b[0;36mfast_xs\u001b[0;34m(self, loc)\u001b[0m\n\u001b[1;32m    953\u001b[0m             \u001b[0;32mreturn\u001b[0m \u001b[0mself\u001b[0m\u001b[0;34m.\u001b[0m\u001b[0mblocks\u001b[0m\u001b[0;34m[\u001b[0m\u001b[0;36m0\u001b[0m\u001b[0;34m]\u001b[0m\u001b[0;34m.\u001b[0m\u001b[0miget\u001b[0m\u001b[0;34m(\u001b[0m\u001b[0;34m(\u001b[0m\u001b[0mslice\u001b[0m\u001b[0;34m(\u001b[0m\u001b[0;32mNone\u001b[0m\u001b[0;34m)\u001b[0m\u001b[0;34m,\u001b[0m \u001b[0mloc\u001b[0m\u001b[0;34m)\u001b[0m\u001b[0;34m)\u001b[0m\u001b[0;34m\u001b[0m\u001b[0;34m\u001b[0m\u001b[0m\n\u001b[1;32m    954\u001b[0m \u001b[0;34m\u001b[0m\u001b[0m\n\u001b[0;32m--> 955\u001b[0;31m         \u001b[0mdtype\u001b[0m \u001b[0;34m=\u001b[0m \u001b[0m_interleaved_dtype\u001b[0m\u001b[0;34m(\u001b[0m\u001b[0mself\u001b[0m\u001b[0;34m.\u001b[0m\u001b[0mblocks\u001b[0m\u001b[0;34m)\u001b[0m\u001b[0;34m\u001b[0m\u001b[0;34m\u001b[0m\u001b[0m\n\u001b[0m\u001b[1;32m    956\u001b[0m \u001b[0;34m\u001b[0m\u001b[0m\n\u001b[1;32m    957\u001b[0m         \u001b[0mn\u001b[0m \u001b[0;34m=\u001b[0m \u001b[0mlen\u001b[0m\u001b[0;34m(\u001b[0m\u001b[0mself\u001b[0m\u001b[0;34m)\u001b[0m\u001b[0;34m\u001b[0m\u001b[0;34m\u001b[0m\u001b[0m\n",
      "\u001b[0;32m/Library/Frameworks/Python.framework/Versions/3.9/lib/python3.9/site-packages/pandas/core/internals/managers.py\u001b[0m in \u001b[0;36m_interleaved_dtype\u001b[0;34m(blocks)\u001b[0m\n\u001b[1;32m   1901\u001b[0m         \u001b[0;32mreturn\u001b[0m \u001b[0;32mNone\u001b[0m\u001b[0;34m\u001b[0m\u001b[0;34m\u001b[0m\u001b[0m\n\u001b[1;32m   1902\u001b[0m \u001b[0;34m\u001b[0m\u001b[0m\n\u001b[0;32m-> 1903\u001b[0;31m     \u001b[0;32mreturn\u001b[0m \u001b[0mfind_common_type\u001b[0m\u001b[0;34m(\u001b[0m\u001b[0;34m[\u001b[0m\u001b[0mb\u001b[0m\u001b[0;34m.\u001b[0m\u001b[0mdtype\u001b[0m \u001b[0;32mfor\u001b[0m \u001b[0mb\u001b[0m \u001b[0;32min\u001b[0m \u001b[0mblocks\u001b[0m\u001b[0;34m]\u001b[0m\u001b[0;34m)\u001b[0m\u001b[0;34m\u001b[0m\u001b[0;34m\u001b[0m\u001b[0m\n\u001b[0m\u001b[1;32m   1904\u001b[0m \u001b[0;34m\u001b[0m\u001b[0m\n\u001b[1;32m   1905\u001b[0m \u001b[0;34m\u001b[0m\u001b[0m\n",
      "\u001b[0;32m/Library/Frameworks/Python.framework/Versions/3.9/lib/python3.9/site-packages/pandas/core/dtypes/cast.py\u001b[0m in \u001b[0;36mfind_common_type\u001b[0;34m(types)\u001b[0m\n\u001b[1;32m   1543\u001b[0m \u001b[0;34m\u001b[0m\u001b[0m\n\u001b[1;32m   1544\u001b[0m     \u001b[0;31m# get unique types (dict.fromkeys is used as order-preserving set())\u001b[0m\u001b[0;34m\u001b[0m\u001b[0;34m\u001b[0m\u001b[0;34m\u001b[0m\u001b[0m\n\u001b[0;32m-> 1545\u001b[0;31m     \u001b[0mtypes\u001b[0m \u001b[0;34m=\u001b[0m \u001b[0mlist\u001b[0m\u001b[0;34m(\u001b[0m\u001b[0mdict\u001b[0m\u001b[0;34m.\u001b[0m\u001b[0mfromkeys\u001b[0m\u001b[0;34m(\u001b[0m\u001b[0mtypes\u001b[0m\u001b[0;34m)\u001b[0m\u001b[0;34m.\u001b[0m\u001b[0mkeys\u001b[0m\u001b[0;34m(\u001b[0m\u001b[0;34m)\u001b[0m\u001b[0;34m)\u001b[0m\u001b[0;34m\u001b[0m\u001b[0;34m\u001b[0m\u001b[0m\n\u001b[0m\u001b[1;32m   1546\u001b[0m \u001b[0;34m\u001b[0m\u001b[0m\n\u001b[1;32m   1547\u001b[0m     \u001b[0;32mif\u001b[0m \u001b[0many\u001b[0m\u001b[0;34m(\u001b[0m\u001b[0misinstance\u001b[0m\u001b[0;34m(\u001b[0m\u001b[0mt\u001b[0m\u001b[0;34m,\u001b[0m \u001b[0mExtensionDtype\u001b[0m\u001b[0;34m)\u001b[0m \u001b[0;32mfor\u001b[0m \u001b[0mt\u001b[0m \u001b[0;32min\u001b[0m \u001b[0mtypes\u001b[0m\u001b[0;34m)\u001b[0m\u001b[0;34m:\u001b[0m\u001b[0;34m\u001b[0m\u001b[0;34m\u001b[0m\u001b[0m\n",
      "\u001b[0;31mKeyboardInterrupt\u001b[0m: "
     ]
    }
   ],
   "source": [
    "for i in range(len(df)):\n",
    "    year = df.iloc[i].year\n",
    "    artists = df.iloc[i].artists.replace('\"', \"'\").replace('[','').replace(']','').split(\"', '\")\n",
    "    pop = df.iloc[i].popularity\n",
    "    for artist in artists:\n",
    "        counts[(year, artist)] = counts.get((year,artist), 0) + pop"
   ]
  },
  {
   "cell_type": "code",
   "execution_count": null,
   "metadata": {
    "tags": []
   },
   "outputs": [],
   "source": [
    "new_df = pd.DataFrame(columns=['year','artist','agg_popularity'])\n",
    "for key in counts.keys():\n",
    "    year, artist = key\n",
    "    pop = counts[key]\n",
    "    new_df = new_df.append({'year':year,'artist':artist,'agg_popularity':pop}, ignore_index=True)\n",
    "new_df"
   ]
  },
  {
   "cell_type": "code",
   "execution_count": 19,
   "metadata": {},
   "outputs": [],
   "source": [
    "new_df.to_csv('data_yearly_artist_popularity.csv')"
   ]
  },
  {
   "cell_type": "code",
   "execution_count": 22,
   "metadata": {},
   "outputs": [],
   "source": [
    "new_df = pd.read_csv('data/data_yearly_artist_popularity.csv')"
   ]
  },
  {
   "cell_type": "code",
   "execution_count": 11,
   "metadata": {},
   "outputs": [
    {
     "output_type": "execute_result",
     "data": {
      "text/plain": [
       "       year                         artist agg_popularity\n",
       "0      1920                    Mamie Smith             22\n",
       "1      1920          Screamin' Jay Hawkins              7\n",
       "2      1920                Oscar Velazquez             33\n",
       "3      1920                           Mixe              2\n",
       "4      1920  Mamie Smith & Her Jazz Hounds             10\n",
       "...     ...                            ...            ...\n",
       "16787  1987                   Marvin Sease             77\n",
       "16788  1987                    Koko Taylor             43\n",
       "16789  1987                  Dwight Yoakam            127\n",
       "16790  1987                     K.T. Oslin             85\n",
       "16791  1987                         Sandra             63\n",
       "\n",
       "[16792 rows x 3 columns]"
      ],
      "text/html": "<div>\n<style scoped>\n    .dataframe tbody tr th:only-of-type {\n        vertical-align: middle;\n    }\n\n    .dataframe tbody tr th {\n        vertical-align: top;\n    }\n\n    .dataframe thead th {\n        text-align: right;\n    }\n</style>\n<table border=\"1\" class=\"dataframe\">\n  <thead>\n    <tr style=\"text-align: right;\">\n      <th></th>\n      <th>year</th>\n      <th>artist</th>\n      <th>agg_popularity</th>\n    </tr>\n  </thead>\n  <tbody>\n    <tr>\n      <th>0</th>\n      <td>1920</td>\n      <td>Mamie Smith</td>\n      <td>22</td>\n    </tr>\n    <tr>\n      <th>1</th>\n      <td>1920</td>\n      <td>Screamin' Jay Hawkins</td>\n      <td>7</td>\n    </tr>\n    <tr>\n      <th>2</th>\n      <td>1920</td>\n      <td>Oscar Velazquez</td>\n      <td>33</td>\n    </tr>\n    <tr>\n      <th>3</th>\n      <td>1920</td>\n      <td>Mixe</td>\n      <td>2</td>\n    </tr>\n    <tr>\n      <th>4</th>\n      <td>1920</td>\n      <td>Mamie Smith &amp; Her Jazz Hounds</td>\n      <td>10</td>\n    </tr>\n    <tr>\n      <th>...</th>\n      <td>...</td>\n      <td>...</td>\n      <td>...</td>\n    </tr>\n    <tr>\n      <th>16787</th>\n      <td>1987</td>\n      <td>Marvin Sease</td>\n      <td>77</td>\n    </tr>\n    <tr>\n      <th>16788</th>\n      <td>1987</td>\n      <td>Koko Taylor</td>\n      <td>43</td>\n    </tr>\n    <tr>\n      <th>16789</th>\n      <td>1987</td>\n      <td>Dwight Yoakam</td>\n      <td>127</td>\n    </tr>\n    <tr>\n      <th>16790</th>\n      <td>1987</td>\n      <td>K.T. Oslin</td>\n      <td>85</td>\n    </tr>\n    <tr>\n      <th>16791</th>\n      <td>1987</td>\n      <td>Sandra</td>\n      <td>63</td>\n    </tr>\n  </tbody>\n</table>\n<p>16792 rows × 3 columns</p>\n</div>"
     },
     "metadata": {},
     "execution_count": 11
    }
   ],
   "source": [
    "new_df"
   ]
  },
  {
   "cell_type": "code",
   "execution_count": null,
   "metadata": {
    "tags": []
   },
   "outputs": [],
   "source": [
    "for i in range(len(new_df['artist'])):\n",
    "    a = new_df.iloc[i].artist\n",
    "    if a[0]==\"'\":\n",
    "        a = a[1:]\n",
    "    if a[-1]==\"'\":\n",
    "        a = a[:-1]\n",
    "    new_df.at[i, 'artist'] = a"
   ]
  },
  {
   "cell_type": "code",
   "execution_count": 14,
   "metadata": {},
   "outputs": [
    {
     "output_type": "execute_result",
     "data": {
      "text/plain": [
       "       year                         artist agg_popularity  \\\n",
       "0      1920                    Mamie Smith             22   \n",
       "1      1920          Screamin' Jay Hawkins              7   \n",
       "2      1920                Oscar Velazquez             33   \n",
       "3      1920                           Mixe              2   \n",
       "4      1920  Mamie Smith & Her Jazz Hounds             10   \n",
       "...     ...                            ...            ...   \n",
       "16787  1987                   Marvin Sease             77   \n",
       "16788  1987                    Koko Taylor             43   \n",
       "16789  1987                  Dwight Yoakam            127   \n",
       "16790  1987                     K.T. Oslin             85   \n",
       "16791  1987                         Sandra             63   \n",
       "\n",
       "                        artists_join  \n",
       "0                        mamie smith  \n",
       "1               screamin jay hawkins  \n",
       "2                    oscar velazquez  \n",
       "3                               mixe  \n",
       "4      mamie smith & her jazz hounds  \n",
       "...                              ...  \n",
       "16787                   marvin sease  \n",
       "16788                    koko taylor  \n",
       "16789                  dwight yoakam  \n",
       "16790                     k.t. oslin  \n",
       "16791                         sandra  \n",
       "\n",
       "[16792 rows x 4 columns]"
      ],
      "text/html": "<div>\n<style scoped>\n    .dataframe tbody tr th:only-of-type {\n        vertical-align: middle;\n    }\n\n    .dataframe tbody tr th {\n        vertical-align: top;\n    }\n\n    .dataframe thead th {\n        text-align: right;\n    }\n</style>\n<table border=\"1\" class=\"dataframe\">\n  <thead>\n    <tr style=\"text-align: right;\">\n      <th></th>\n      <th>year</th>\n      <th>artist</th>\n      <th>agg_popularity</th>\n      <th>artists_join</th>\n    </tr>\n  </thead>\n  <tbody>\n    <tr>\n      <th>0</th>\n      <td>1920</td>\n      <td>Mamie Smith</td>\n      <td>22</td>\n      <td>mamie smith</td>\n    </tr>\n    <tr>\n      <th>1</th>\n      <td>1920</td>\n      <td>Screamin' Jay Hawkins</td>\n      <td>7</td>\n      <td>screamin jay hawkins</td>\n    </tr>\n    <tr>\n      <th>2</th>\n      <td>1920</td>\n      <td>Oscar Velazquez</td>\n      <td>33</td>\n      <td>oscar velazquez</td>\n    </tr>\n    <tr>\n      <th>3</th>\n      <td>1920</td>\n      <td>Mixe</td>\n      <td>2</td>\n      <td>mixe</td>\n    </tr>\n    <tr>\n      <th>4</th>\n      <td>1920</td>\n      <td>Mamie Smith &amp; Her Jazz Hounds</td>\n      <td>10</td>\n      <td>mamie smith &amp; her jazz hounds</td>\n    </tr>\n    <tr>\n      <th>...</th>\n      <td>...</td>\n      <td>...</td>\n      <td>...</td>\n      <td>...</td>\n    </tr>\n    <tr>\n      <th>16787</th>\n      <td>1987</td>\n      <td>Marvin Sease</td>\n      <td>77</td>\n      <td>marvin sease</td>\n    </tr>\n    <tr>\n      <th>16788</th>\n      <td>1987</td>\n      <td>Koko Taylor</td>\n      <td>43</td>\n      <td>koko taylor</td>\n    </tr>\n    <tr>\n      <th>16789</th>\n      <td>1987</td>\n      <td>Dwight Yoakam</td>\n      <td>127</td>\n      <td>dwight yoakam</td>\n    </tr>\n    <tr>\n      <th>16790</th>\n      <td>1987</td>\n      <td>K.T. Oslin</td>\n      <td>85</td>\n      <td>k.t. oslin</td>\n    </tr>\n    <tr>\n      <th>16791</th>\n      <td>1987</td>\n      <td>Sandra</td>\n      <td>63</td>\n      <td>sandra</td>\n    </tr>\n  </tbody>\n</table>\n<p>16792 rows × 4 columns</p>\n</div>"
     },
     "metadata": {},
     "execution_count": 14
    }
   ],
   "source": [
    "new_df"
   ]
  },
  {
   "cell_type": "code",
   "execution_count": null,
   "metadata": {},
   "outputs": [],
   "source": [
    "new_df.to_csv('data_yearly_artist_popularity_cleaned.csv')"
   ]
  },
  {
   "source": [
    "# Connect yearly artist DF to data by artist DF"
   ],
   "cell_type": "markdown",
   "metadata": {}
  },
  {
   "cell_type": "code",
   "execution_count": 41,
   "metadata": {},
   "outputs": [
    {
     "output_type": "execute_result",
     "data": {
      "text/plain": [
       "                                                 artists  acousticness  \\\n",
       "0                       \"Cats\" 1981 Original London Cast      0.598500   \n",
       "1                              \"Cats\" 1983 Broadway Cast      0.862538   \n",
       "2            \"Fiddler On The Roof” Motion Picture Chorus      0.856571   \n",
       "3         \"Fiddler On The Roof” Motion Picture Orchestra      0.884926   \n",
       "4      \"Joseph And The Amazing Technicolor Dreamcoat\"...      0.510714   \n",
       "...                                                  ...           ...   \n",
       "32534                                                김효근      0.939000   \n",
       "32535                                                 나율      0.717000   \n",
       "32536                                                미스티      0.416000   \n",
       "32537                  시온 Zion & 한해 Hanhae of 팬텀 Phantom      0.288000   \n",
       "32538                                                조정현      0.568000   \n",
       "\n",
       "       danceability    duration_ms    energy  instrumentalness  liveness  \\\n",
       "0          0.470100  267072.000000  0.376203          0.010261  0.283050   \n",
       "1          0.441731  287280.000000  0.406808          0.081158  0.315215   \n",
       "2          0.348286  328920.000000  0.286571          0.024593  0.325786   \n",
       "3          0.425074  262890.962963  0.245770          0.073587  0.275481   \n",
       "4          0.467143  270436.142857  0.488286          0.009400  0.195000   \n",
       "...             ...            ...       ...               ...       ...   \n",
       "32534      0.174000  341821.000000  0.321000          0.756000  0.695000   \n",
       "32535      0.591500  241281.500000  0.473500          0.000000  0.105000   \n",
       "32536      0.686000  216715.000000  0.822000          0.000000  0.110000   \n",
       "32537      0.739000  242480.000000  0.475000          0.000000  0.075700   \n",
       "32538      0.447000  237688.000000  0.215000          0.000001  0.064900   \n",
       "\n",
       "        loudness  speechiness       tempo   valence  popularity  key  mode  \\\n",
       "0     -14.434300     0.209150  114.128800  0.358320   38.200000    5     1   \n",
       "1     -10.690000     0.176212  103.044154  0.268865   31.538462    5     1   \n",
       "2     -15.230714     0.118514   77.375857  0.354857   34.571429    0     1   \n",
       "3     -15.639370     0.123200   88.667630  0.372030   34.407407    0     1   \n",
       "4     -10.236714     0.098543  122.835857  0.482286   42.000000    5     1   \n",
       "...          ...          ...         ...       ...         ...  ...   ...   \n",
       "32534 -13.411000     0.042200  138.300000  0.055400    0.000000    3     1   \n",
       "32535  -6.588500     0.053700  107.599000  0.507500   16.000000    1     1   \n",
       "32536  -6.300000     0.080200  122.047000  0.625000    0.000000    5     0   \n",
       "32537  -8.920000     0.379000   81.490000  0.800000    8.000000    2     0   \n",
       "32538 -16.478000     0.027200   71.979000  0.177000   30.000000   10     1   \n",
       "\n",
       "       count  \n",
       "0         10  \n",
       "1         26  \n",
       "2          7  \n",
       "3         27  \n",
       "4          7  \n",
       "...      ...  \n",
       "32534      1  \n",
       "32535      4  \n",
       "32536      2  \n",
       "32537      2  \n",
       "32538      2  \n",
       "\n",
       "[32539 rows x 15 columns]"
      ],
      "text/html": "<div>\n<style scoped>\n    .dataframe tbody tr th:only-of-type {\n        vertical-align: middle;\n    }\n\n    .dataframe tbody tr th {\n        vertical-align: top;\n    }\n\n    .dataframe thead th {\n        text-align: right;\n    }\n</style>\n<table border=\"1\" class=\"dataframe\">\n  <thead>\n    <tr style=\"text-align: right;\">\n      <th></th>\n      <th>artists</th>\n      <th>acousticness</th>\n      <th>danceability</th>\n      <th>duration_ms</th>\n      <th>energy</th>\n      <th>instrumentalness</th>\n      <th>liveness</th>\n      <th>loudness</th>\n      <th>speechiness</th>\n      <th>tempo</th>\n      <th>valence</th>\n      <th>popularity</th>\n      <th>key</th>\n      <th>mode</th>\n      <th>count</th>\n    </tr>\n  </thead>\n  <tbody>\n    <tr>\n      <th>0</th>\n      <td>\"Cats\" 1981 Original London Cast</td>\n      <td>0.598500</td>\n      <td>0.470100</td>\n      <td>267072.000000</td>\n      <td>0.376203</td>\n      <td>0.010261</td>\n      <td>0.283050</td>\n      <td>-14.434300</td>\n      <td>0.209150</td>\n      <td>114.128800</td>\n      <td>0.358320</td>\n      <td>38.200000</td>\n      <td>5</td>\n      <td>1</td>\n      <td>10</td>\n    </tr>\n    <tr>\n      <th>1</th>\n      <td>\"Cats\" 1983 Broadway Cast</td>\n      <td>0.862538</td>\n      <td>0.441731</td>\n      <td>287280.000000</td>\n      <td>0.406808</td>\n      <td>0.081158</td>\n      <td>0.315215</td>\n      <td>-10.690000</td>\n      <td>0.176212</td>\n      <td>103.044154</td>\n      <td>0.268865</td>\n      <td>31.538462</td>\n      <td>5</td>\n      <td>1</td>\n      <td>26</td>\n    </tr>\n    <tr>\n      <th>2</th>\n      <td>\"Fiddler On The Roof” Motion Picture Chorus</td>\n      <td>0.856571</td>\n      <td>0.348286</td>\n      <td>328920.000000</td>\n      <td>0.286571</td>\n      <td>0.024593</td>\n      <td>0.325786</td>\n      <td>-15.230714</td>\n      <td>0.118514</td>\n      <td>77.375857</td>\n      <td>0.354857</td>\n      <td>34.571429</td>\n      <td>0</td>\n      <td>1</td>\n      <td>7</td>\n    </tr>\n    <tr>\n      <th>3</th>\n      <td>\"Fiddler On The Roof” Motion Picture Orchestra</td>\n      <td>0.884926</td>\n      <td>0.425074</td>\n      <td>262890.962963</td>\n      <td>0.245770</td>\n      <td>0.073587</td>\n      <td>0.275481</td>\n      <td>-15.639370</td>\n      <td>0.123200</td>\n      <td>88.667630</td>\n      <td>0.372030</td>\n      <td>34.407407</td>\n      <td>0</td>\n      <td>1</td>\n      <td>27</td>\n    </tr>\n    <tr>\n      <th>4</th>\n      <td>\"Joseph And The Amazing Technicolor Dreamcoat\"...</td>\n      <td>0.510714</td>\n      <td>0.467143</td>\n      <td>270436.142857</td>\n      <td>0.488286</td>\n      <td>0.009400</td>\n      <td>0.195000</td>\n      <td>-10.236714</td>\n      <td>0.098543</td>\n      <td>122.835857</td>\n      <td>0.482286</td>\n      <td>42.000000</td>\n      <td>5</td>\n      <td>1</td>\n      <td>7</td>\n    </tr>\n    <tr>\n      <th>...</th>\n      <td>...</td>\n      <td>...</td>\n      <td>...</td>\n      <td>...</td>\n      <td>...</td>\n      <td>...</td>\n      <td>...</td>\n      <td>...</td>\n      <td>...</td>\n      <td>...</td>\n      <td>...</td>\n      <td>...</td>\n      <td>...</td>\n      <td>...</td>\n      <td>...</td>\n    </tr>\n    <tr>\n      <th>32534</th>\n      <td>김효근</td>\n      <td>0.939000</td>\n      <td>0.174000</td>\n      <td>341821.000000</td>\n      <td>0.321000</td>\n      <td>0.756000</td>\n      <td>0.695000</td>\n      <td>-13.411000</td>\n      <td>0.042200</td>\n      <td>138.300000</td>\n      <td>0.055400</td>\n      <td>0.000000</td>\n      <td>3</td>\n      <td>1</td>\n      <td>1</td>\n    </tr>\n    <tr>\n      <th>32535</th>\n      <td>나율</td>\n      <td>0.717000</td>\n      <td>0.591500</td>\n      <td>241281.500000</td>\n      <td>0.473500</td>\n      <td>0.000000</td>\n      <td>0.105000</td>\n      <td>-6.588500</td>\n      <td>0.053700</td>\n      <td>107.599000</td>\n      <td>0.507500</td>\n      <td>16.000000</td>\n      <td>1</td>\n      <td>1</td>\n      <td>4</td>\n    </tr>\n    <tr>\n      <th>32536</th>\n      <td>미스티</td>\n      <td>0.416000</td>\n      <td>0.686000</td>\n      <td>216715.000000</td>\n      <td>0.822000</td>\n      <td>0.000000</td>\n      <td>0.110000</td>\n      <td>-6.300000</td>\n      <td>0.080200</td>\n      <td>122.047000</td>\n      <td>0.625000</td>\n      <td>0.000000</td>\n      <td>5</td>\n      <td>0</td>\n      <td>2</td>\n    </tr>\n    <tr>\n      <th>32537</th>\n      <td>시온 Zion &amp; 한해 Hanhae of 팬텀 Phantom</td>\n      <td>0.288000</td>\n      <td>0.739000</td>\n      <td>242480.000000</td>\n      <td>0.475000</td>\n      <td>0.000000</td>\n      <td>0.075700</td>\n      <td>-8.920000</td>\n      <td>0.379000</td>\n      <td>81.490000</td>\n      <td>0.800000</td>\n      <td>8.000000</td>\n      <td>2</td>\n      <td>0</td>\n      <td>2</td>\n    </tr>\n    <tr>\n      <th>32538</th>\n      <td>조정현</td>\n      <td>0.568000</td>\n      <td>0.447000</td>\n      <td>237688.000000</td>\n      <td>0.215000</td>\n      <td>0.000001</td>\n      <td>0.064900</td>\n      <td>-16.478000</td>\n      <td>0.027200</td>\n      <td>71.979000</td>\n      <td>0.177000</td>\n      <td>30.000000</td>\n      <td>10</td>\n      <td>1</td>\n      <td>2</td>\n    </tr>\n  </tbody>\n</table>\n<p>32539 rows × 15 columns</p>\n</div>"
     },
     "metadata": {},
     "execution_count": 41
    }
   ],
   "source": [
    "df_by_artist = pd.read_csv('data/data_by_artist.csv')\n",
    "df_by_artist"
   ]
  },
  {
   "cell_type": "code",
   "execution_count": 15,
   "metadata": {},
   "outputs": [],
   "source": [
    "new_df['artists_join'] = new_df['artist'].apply(lambda x: x.replace('\"', '').replace(\"'\", '').strip().lower()).astype(str)\n",
    "new_df = new_df.drop(['year', 'agg_popularity'], axis=1)\n",
    "new_df= new_df.drop_duplicates()"
   ]
  },
  {
   "cell_type": "code",
   "execution_count": 16,
   "metadata": {},
   "outputs": [
    {
     "output_type": "execute_result",
     "data": {
      "text/plain": [
       "                              artist                   artists_join\n",
       "0                        Mamie Smith                    mamie smith\n",
       "1              Screamin' Jay Hawkins           screamin jay hawkins\n",
       "2                    Oscar Velazquez                oscar velazquez\n",
       "3                               Mixe                           mixe\n",
       "4      Mamie Smith & Her Jazz Hounds  mamie smith & her jazz hounds\n",
       "...                              ...                            ...\n",
       "16785                   Tim Cappello                   tim cappello\n",
       "16787                   Marvin Sease                   marvin sease\n",
       "16788                    Koko Taylor                    koko taylor\n",
       "16790                     K.T. Oslin                     k.t. oslin\n",
       "16791                         Sandra                         sandra\n",
       "\n",
       "[8193 rows x 2 columns]"
      ],
      "text/html": "<div>\n<style scoped>\n    .dataframe tbody tr th:only-of-type {\n        vertical-align: middle;\n    }\n\n    .dataframe tbody tr th {\n        vertical-align: top;\n    }\n\n    .dataframe thead th {\n        text-align: right;\n    }\n</style>\n<table border=\"1\" class=\"dataframe\">\n  <thead>\n    <tr style=\"text-align: right;\">\n      <th></th>\n      <th>artist</th>\n      <th>artists_join</th>\n    </tr>\n  </thead>\n  <tbody>\n    <tr>\n      <th>0</th>\n      <td>Mamie Smith</td>\n      <td>mamie smith</td>\n    </tr>\n    <tr>\n      <th>1</th>\n      <td>Screamin' Jay Hawkins</td>\n      <td>screamin jay hawkins</td>\n    </tr>\n    <tr>\n      <th>2</th>\n      <td>Oscar Velazquez</td>\n      <td>oscar velazquez</td>\n    </tr>\n    <tr>\n      <th>3</th>\n      <td>Mixe</td>\n      <td>mixe</td>\n    </tr>\n    <tr>\n      <th>4</th>\n      <td>Mamie Smith &amp; Her Jazz Hounds</td>\n      <td>mamie smith &amp; her jazz hounds</td>\n    </tr>\n    <tr>\n      <th>...</th>\n      <td>...</td>\n      <td>...</td>\n    </tr>\n    <tr>\n      <th>16785</th>\n      <td>Tim Cappello</td>\n      <td>tim cappello</td>\n    </tr>\n    <tr>\n      <th>16787</th>\n      <td>Marvin Sease</td>\n      <td>marvin sease</td>\n    </tr>\n    <tr>\n      <th>16788</th>\n      <td>Koko Taylor</td>\n      <td>koko taylor</td>\n    </tr>\n    <tr>\n      <th>16790</th>\n      <td>K.T. Oslin</td>\n      <td>k.t. oslin</td>\n    </tr>\n    <tr>\n      <th>16791</th>\n      <td>Sandra</td>\n      <td>sandra</td>\n    </tr>\n  </tbody>\n</table>\n<p>8193 rows × 2 columns</p>\n</div>"
     },
     "metadata": {},
     "execution_count": 16
    }
   ],
   "source": [
    "new_df"
   ]
  },
  {
   "cell_type": "code",
   "execution_count": 106,
   "metadata": {},
   "outputs": [],
   "source": [
    "df_by_artist['artists_join'] = df_by_artist['artists'].apply(lambda x: x.replace('\"', '').replace(\"'\", '').strip().lower()).astype(str)"
   ]
  },
  {
   "cell_type": "code",
   "execution_count": 107,
   "metadata": {},
   "outputs": [
    {
     "output_type": "execute_result",
     "data": {
      "text/plain": [
       "                                                 artists  acousticness  \\\n",
       "0                       \"Cats\" 1981 Original London Cast      0.598500   \n",
       "1                              \"Cats\" 1983 Broadway Cast      0.862538   \n",
       "2            \"Fiddler On The Roof” Motion Picture Chorus      0.856571   \n",
       "3         \"Fiddler On The Roof” Motion Picture Orchestra      0.884926   \n",
       "4      \"Joseph And The Amazing Technicolor Dreamcoat\"...      0.510714   \n",
       "...                                                  ...           ...   \n",
       "32534                                                김효근      0.939000   \n",
       "32535                                                 나율      0.717000   \n",
       "32536                                                미스티      0.416000   \n",
       "32537                  시온 Zion & 한해 Hanhae of 팬텀 Phantom      0.288000   \n",
       "32538                                                조정현      0.568000   \n",
       "\n",
       "       danceability    duration_ms    energy  instrumentalness  liveness  \\\n",
       "0          0.470100  267072.000000  0.376203          0.010261  0.283050   \n",
       "1          0.441731  287280.000000  0.406808          0.081158  0.315215   \n",
       "2          0.348286  328920.000000  0.286571          0.024593  0.325786   \n",
       "3          0.425074  262890.962963  0.245770          0.073587  0.275481   \n",
       "4          0.467143  270436.142857  0.488286          0.009400  0.195000   \n",
       "...             ...            ...       ...               ...       ...   \n",
       "32534      0.174000  341821.000000  0.321000          0.756000  0.695000   \n",
       "32535      0.591500  241281.500000  0.473500          0.000000  0.105000   \n",
       "32536      0.686000  216715.000000  0.822000          0.000000  0.110000   \n",
       "32537      0.739000  242480.000000  0.475000          0.000000  0.075700   \n",
       "32538      0.447000  237688.000000  0.215000          0.000001  0.064900   \n",
       "\n",
       "        loudness  speechiness       tempo   valence  popularity  key  mode  \\\n",
       "0     -14.434300     0.209150  114.128800  0.358320   38.200000    5     1   \n",
       "1     -10.690000     0.176212  103.044154  0.268865   31.538462    5     1   \n",
       "2     -15.230714     0.118514   77.375857  0.354857   34.571429    0     1   \n",
       "3     -15.639370     0.123200   88.667630  0.372030   34.407407    0     1   \n",
       "4     -10.236714     0.098543  122.835857  0.482286   42.000000    5     1   \n",
       "...          ...          ...         ...       ...         ...  ...   ...   \n",
       "32534 -13.411000     0.042200  138.300000  0.055400    0.000000    3     1   \n",
       "32535  -6.588500     0.053700  107.599000  0.507500   16.000000    1     1   \n",
       "32536  -6.300000     0.080200  122.047000  0.625000    0.000000    5     0   \n",
       "32537  -8.920000     0.379000   81.490000  0.800000    8.000000    2     0   \n",
       "32538 -16.478000     0.027200   71.979000  0.177000   30.000000   10     1   \n",
       "\n",
       "       count                                       artists_join  \n",
       "0         10                     cats 1981 original london cast  \n",
       "1         26                            cats 1983 broadway cast  \n",
       "2          7         fiddler on the roof” motion picture chorus  \n",
       "3         27      fiddler on the roof” motion picture orchestra  \n",
       "4          7  joseph and the amazing technicolor dreamcoat 1...  \n",
       "...      ...                                                ...  \n",
       "32534      1                                                김효근  \n",
       "32535      4                                                 나율  \n",
       "32536      2                                                미스티  \n",
       "32537      2                  시온 zion & 한해 hanhae of 팬텀 phantom  \n",
       "32538      2                                                조정현  \n",
       "\n",
       "[32539 rows x 16 columns]"
      ],
      "text/html": "<div>\n<style scoped>\n    .dataframe tbody tr th:only-of-type {\n        vertical-align: middle;\n    }\n\n    .dataframe tbody tr th {\n        vertical-align: top;\n    }\n\n    .dataframe thead th {\n        text-align: right;\n    }\n</style>\n<table border=\"1\" class=\"dataframe\">\n  <thead>\n    <tr style=\"text-align: right;\">\n      <th></th>\n      <th>artists</th>\n      <th>acousticness</th>\n      <th>danceability</th>\n      <th>duration_ms</th>\n      <th>energy</th>\n      <th>instrumentalness</th>\n      <th>liveness</th>\n      <th>loudness</th>\n      <th>speechiness</th>\n      <th>tempo</th>\n      <th>valence</th>\n      <th>popularity</th>\n      <th>key</th>\n      <th>mode</th>\n      <th>count</th>\n      <th>artists_join</th>\n    </tr>\n  </thead>\n  <tbody>\n    <tr>\n      <th>0</th>\n      <td>\"Cats\" 1981 Original London Cast</td>\n      <td>0.598500</td>\n      <td>0.470100</td>\n      <td>267072.000000</td>\n      <td>0.376203</td>\n      <td>0.010261</td>\n      <td>0.283050</td>\n      <td>-14.434300</td>\n      <td>0.209150</td>\n      <td>114.128800</td>\n      <td>0.358320</td>\n      <td>38.200000</td>\n      <td>5</td>\n      <td>1</td>\n      <td>10</td>\n      <td>cats 1981 original london cast</td>\n    </tr>\n    <tr>\n      <th>1</th>\n      <td>\"Cats\" 1983 Broadway Cast</td>\n      <td>0.862538</td>\n      <td>0.441731</td>\n      <td>287280.000000</td>\n      <td>0.406808</td>\n      <td>0.081158</td>\n      <td>0.315215</td>\n      <td>-10.690000</td>\n      <td>0.176212</td>\n      <td>103.044154</td>\n      <td>0.268865</td>\n      <td>31.538462</td>\n      <td>5</td>\n      <td>1</td>\n      <td>26</td>\n      <td>cats 1983 broadway cast</td>\n    </tr>\n    <tr>\n      <th>2</th>\n      <td>\"Fiddler On The Roof” Motion Picture Chorus</td>\n      <td>0.856571</td>\n      <td>0.348286</td>\n      <td>328920.000000</td>\n      <td>0.286571</td>\n      <td>0.024593</td>\n      <td>0.325786</td>\n      <td>-15.230714</td>\n      <td>0.118514</td>\n      <td>77.375857</td>\n      <td>0.354857</td>\n      <td>34.571429</td>\n      <td>0</td>\n      <td>1</td>\n      <td>7</td>\n      <td>fiddler on the roof” motion picture chorus</td>\n    </tr>\n    <tr>\n      <th>3</th>\n      <td>\"Fiddler On The Roof” Motion Picture Orchestra</td>\n      <td>0.884926</td>\n      <td>0.425074</td>\n      <td>262890.962963</td>\n      <td>0.245770</td>\n      <td>0.073587</td>\n      <td>0.275481</td>\n      <td>-15.639370</td>\n      <td>0.123200</td>\n      <td>88.667630</td>\n      <td>0.372030</td>\n      <td>34.407407</td>\n      <td>0</td>\n      <td>1</td>\n      <td>27</td>\n      <td>fiddler on the roof” motion picture orchestra</td>\n    </tr>\n    <tr>\n      <th>4</th>\n      <td>\"Joseph And The Amazing Technicolor Dreamcoat\"...</td>\n      <td>0.510714</td>\n      <td>0.467143</td>\n      <td>270436.142857</td>\n      <td>0.488286</td>\n      <td>0.009400</td>\n      <td>0.195000</td>\n      <td>-10.236714</td>\n      <td>0.098543</td>\n      <td>122.835857</td>\n      <td>0.482286</td>\n      <td>42.000000</td>\n      <td>5</td>\n      <td>1</td>\n      <td>7</td>\n      <td>joseph and the amazing technicolor dreamcoat 1...</td>\n    </tr>\n    <tr>\n      <th>...</th>\n      <td>...</td>\n      <td>...</td>\n      <td>...</td>\n      <td>...</td>\n      <td>...</td>\n      <td>...</td>\n      <td>...</td>\n      <td>...</td>\n      <td>...</td>\n      <td>...</td>\n      <td>...</td>\n      <td>...</td>\n      <td>...</td>\n      <td>...</td>\n      <td>...</td>\n      <td>...</td>\n    </tr>\n    <tr>\n      <th>32534</th>\n      <td>김효근</td>\n      <td>0.939000</td>\n      <td>0.174000</td>\n      <td>341821.000000</td>\n      <td>0.321000</td>\n      <td>0.756000</td>\n      <td>0.695000</td>\n      <td>-13.411000</td>\n      <td>0.042200</td>\n      <td>138.300000</td>\n      <td>0.055400</td>\n      <td>0.000000</td>\n      <td>3</td>\n      <td>1</td>\n      <td>1</td>\n      <td>김효근</td>\n    </tr>\n    <tr>\n      <th>32535</th>\n      <td>나율</td>\n      <td>0.717000</td>\n      <td>0.591500</td>\n      <td>241281.500000</td>\n      <td>0.473500</td>\n      <td>0.000000</td>\n      <td>0.105000</td>\n      <td>-6.588500</td>\n      <td>0.053700</td>\n      <td>107.599000</td>\n      <td>0.507500</td>\n      <td>16.000000</td>\n      <td>1</td>\n      <td>1</td>\n      <td>4</td>\n      <td>나율</td>\n    </tr>\n    <tr>\n      <th>32536</th>\n      <td>미스티</td>\n      <td>0.416000</td>\n      <td>0.686000</td>\n      <td>216715.000000</td>\n      <td>0.822000</td>\n      <td>0.000000</td>\n      <td>0.110000</td>\n      <td>-6.300000</td>\n      <td>0.080200</td>\n      <td>122.047000</td>\n      <td>0.625000</td>\n      <td>0.000000</td>\n      <td>5</td>\n      <td>0</td>\n      <td>2</td>\n      <td>미스티</td>\n    </tr>\n    <tr>\n      <th>32537</th>\n      <td>시온 Zion &amp; 한해 Hanhae of 팬텀 Phantom</td>\n      <td>0.288000</td>\n      <td>0.739000</td>\n      <td>242480.000000</td>\n      <td>0.475000</td>\n      <td>0.000000</td>\n      <td>0.075700</td>\n      <td>-8.920000</td>\n      <td>0.379000</td>\n      <td>81.490000</td>\n      <td>0.800000</td>\n      <td>8.000000</td>\n      <td>2</td>\n      <td>0</td>\n      <td>2</td>\n      <td>시온 zion &amp; 한해 hanhae of 팬텀 phantom</td>\n    </tr>\n    <tr>\n      <th>32538</th>\n      <td>조정현</td>\n      <td>0.568000</td>\n      <td>0.447000</td>\n      <td>237688.000000</td>\n      <td>0.215000</td>\n      <td>0.000001</td>\n      <td>0.064900</td>\n      <td>-16.478000</td>\n      <td>0.027200</td>\n      <td>71.979000</td>\n      <td>0.177000</td>\n      <td>30.000000</td>\n      <td>10</td>\n      <td>1</td>\n      <td>2</td>\n      <td>조정현</td>\n    </tr>\n  </tbody>\n</table>\n<p>32539 rows × 16 columns</p>\n</div>"
     },
     "metadata": {},
     "execution_count": 107
    }
   ],
   "source": [
    "df_by_artist"
   ]
  },
  {
   "cell_type": "code",
   "execution_count": 109,
   "metadata": {},
   "outputs": [],
   "source": [
    "merged_final = new_df.merge(df_by_artist, on='artists_join', how='right')"
   ]
  },
  {
   "cell_type": "code",
   "execution_count": 3,
   "metadata": {},
   "outputs": [
    {
     "output_type": "error",
     "ename": "NameError",
     "evalue": "name 'merged_final' is not defined",
     "traceback": [
      "\u001b[0;31m---------------------------------------------------------------------------\u001b[0m",
      "\u001b[0;31mNameError\u001b[0m                                 Traceback (most recent call last)",
      "\u001b[0;32m<ipython-input-3-d7f163151912>\u001b[0m in \u001b[0;36m<module>\u001b[0;34m\u001b[0m\n\u001b[0;32m----> 1\u001b[0;31m \u001b[0mmerged_final\u001b[0m\u001b[0;34m=\u001b[0m\u001b[0mmerged_final\u001b[0m\u001b[0;34m.\u001b[0m\u001b[0mrename\u001b[0m\u001b[0;34m(\u001b[0m\u001b[0mcolumns\u001b[0m\u001b[0;34m=\u001b[0m\u001b[0;34m{\u001b[0m\u001b[0;34m'artist'\u001b[0m\u001b[0;34m:\u001b[0m\u001b[0;34m'artist_bubble'\u001b[0m\u001b[0;34m}\u001b[0m\u001b[0;34m)\u001b[0m\u001b[0;34m\u001b[0m\u001b[0;34m\u001b[0m\u001b[0m\n\u001b[0m\u001b[1;32m      2\u001b[0m \u001b[0mmerged_final\u001b[0m\u001b[0;34m\u001b[0m\u001b[0;34m\u001b[0m\u001b[0m\n",
      "\u001b[0;31mNameError\u001b[0m: name 'merged_final' is not defined"
     ]
    }
   ],
   "source": [
    "merged_final=merged_final.rename(columns={'artist':'artist_bubble'})\n",
    "merged_final"
   ]
  },
  {
   "cell_type": "code",
   "execution_count": 118,
   "metadata": {},
   "outputs": [],
   "source": [
    "merged_final.to_csv('data/data_bubble_to_artist.csv')"
   ]
  },
  {
   "source": [
    "# JK, now really doing it"
   ],
   "cell_type": "markdown",
   "metadata": {}
  },
  {
   "cell_type": "code",
   "execution_count": 19,
   "metadata": {},
   "outputs": [],
   "source": [
    "df_all = pd.read_csv('data/data.csv')\n",
    "df_all_split = pd.DataFrame(columns=['acousticness', 'artists', 'danceability', 'duration_ms', 'energy','instrumentalness','key','liveness','loudness','name','popularity', 'release_date','tempo','year'])"
   ]
  },
  {
   "cell_type": "code",
   "execution_count": 22,
   "metadata": {},
   "outputs": [
    {
     "output_type": "error",
     "ename": "KeyboardInterrupt",
     "evalue": "",
     "traceback": [
      "\u001b[0;31m---------------------------------------------------------------------------\u001b[0m",
      "\u001b[0;31mKeyboardInterrupt\u001b[0m                         Traceback (most recent call last)",
      "\u001b[0;32m<ipython-input-22-a44948dcbed0>\u001b[0m in \u001b[0;36m<module>\u001b[0;34m\u001b[0m\n\u001b[1;32m      2\u001b[0m     \u001b[0martists\u001b[0m \u001b[0;34m=\u001b[0m \u001b[0mdf_all\u001b[0m\u001b[0;34m.\u001b[0m\u001b[0miloc\u001b[0m\u001b[0;34m[\u001b[0m\u001b[0mi\u001b[0m\u001b[0;34m]\u001b[0m\u001b[0;34m.\u001b[0m\u001b[0martists\u001b[0m\u001b[0;34m.\u001b[0m\u001b[0mreplace\u001b[0m\u001b[0;34m(\u001b[0m\u001b[0;34m'\"'\u001b[0m\u001b[0;34m,\u001b[0m \u001b[0;34m\"'\"\u001b[0m\u001b[0;34m)\u001b[0m\u001b[0;34m.\u001b[0m\u001b[0mreplace\u001b[0m\u001b[0;34m(\u001b[0m\u001b[0;34m'['\u001b[0m\u001b[0;34m,\u001b[0m\u001b[0;34m''\u001b[0m\u001b[0;34m)\u001b[0m\u001b[0;34m.\u001b[0m\u001b[0mreplace\u001b[0m\u001b[0;34m(\u001b[0m\u001b[0;34m']'\u001b[0m\u001b[0;34m,\u001b[0m\u001b[0;34m''\u001b[0m\u001b[0;34m)\u001b[0m\u001b[0;34m.\u001b[0m\u001b[0msplit\u001b[0m\u001b[0;34m(\u001b[0m\u001b[0;34m\"', '\"\u001b[0m\u001b[0;34m)\u001b[0m\u001b[0;34m\u001b[0m\u001b[0;34m\u001b[0m\u001b[0m\n\u001b[1;32m      3\u001b[0m     \u001b[0;32mfor\u001b[0m \u001b[0martist\u001b[0m \u001b[0;32min\u001b[0m \u001b[0martists\u001b[0m\u001b[0;34m:\u001b[0m\u001b[0;34m\u001b[0m\u001b[0;34m\u001b[0m\u001b[0m\n\u001b[0;32m----> 4\u001b[0;31m         df_all_split = df_all_split.append({'acousticness':df_all.iloc[i].acousticness, 'artists':artist, 'danceability':df_all.iloc[i].danceability, 'duration_ms':df_all.iloc[i].duration_ms,\n\u001b[0m\u001b[1;32m      5\u001b[0m         \u001b[0;34m'energy'\u001b[0m\u001b[0;34m:\u001b[0m\u001b[0mdf_all\u001b[0m\u001b[0;34m.\u001b[0m\u001b[0miloc\u001b[0m\u001b[0;34m[\u001b[0m\u001b[0mi\u001b[0m\u001b[0;34m]\u001b[0m\u001b[0;34m.\u001b[0m\u001b[0menergy\u001b[0m\u001b[0;34m,\u001b[0m \u001b[0;34m'instrumentalness'\u001b[0m\u001b[0;34m:\u001b[0m\u001b[0mdf_all\u001b[0m\u001b[0;34m.\u001b[0m\u001b[0miloc\u001b[0m\u001b[0;34m[\u001b[0m\u001b[0mi\u001b[0m\u001b[0;34m]\u001b[0m\u001b[0;34m.\u001b[0m\u001b[0minstrumentalness\u001b[0m\u001b[0;34m,\u001b[0m\u001b[0;34m'liveness'\u001b[0m\u001b[0;34m:\u001b[0m\u001b[0mdf_all\u001b[0m\u001b[0;34m.\u001b[0m\u001b[0miloc\u001b[0m\u001b[0;34m[\u001b[0m\u001b[0mi\u001b[0m\u001b[0;34m]\u001b[0m\u001b[0;34m.\u001b[0m\u001b[0mliveness\u001b[0m\u001b[0;34m,\u001b[0m\u001b[0;34m'loudness'\u001b[0m\u001b[0;34m:\u001b[0m\u001b[0mdf_all\u001b[0m\u001b[0;34m.\u001b[0m\u001b[0miloc\u001b[0m\u001b[0;34m[\u001b[0m\u001b[0mi\u001b[0m\u001b[0;34m]\u001b[0m\u001b[0;34m.\u001b[0m\u001b[0mloudness\u001b[0m\u001b[0;34m,\u001b[0m\u001b[0;34m'name'\u001b[0m\u001b[0;34m:\u001b[0m\u001b[0mdf_all\u001b[0m\u001b[0;34m.\u001b[0m\u001b[0miloc\u001b[0m\u001b[0;34m[\u001b[0m\u001b[0mi\u001b[0m\u001b[0;34m]\u001b[0m\u001b[0;34m.\u001b[0m\u001b[0mname\u001b[0m\u001b[0;34m,\u001b[0m\u001b[0;34m\u001b[0m\u001b[0;34m\u001b[0m\u001b[0m\n\u001b[1;32m      6\u001b[0m         'popularity':df_all.iloc[i].popularity, 'release_date':df_all.iloc[i].release_date,'tempo':df_all.iloc[i].tempo,'year':df_all.iloc[i].year}, ignore_index=True)\n",
      "\u001b[0;32m/Library/Frameworks/Python.framework/Versions/3.9/lib/python3.9/site-packages/pandas/core/indexing.py\u001b[0m in \u001b[0;36m__getitem__\u001b[0;34m(self, key)\u001b[0m\n\u001b[1;32m    893\u001b[0m \u001b[0;34m\u001b[0m\u001b[0m\n\u001b[1;32m    894\u001b[0m             \u001b[0mmaybe_callable\u001b[0m \u001b[0;34m=\u001b[0m \u001b[0mcom\u001b[0m\u001b[0;34m.\u001b[0m\u001b[0mapply_if_callable\u001b[0m\u001b[0;34m(\u001b[0m\u001b[0mkey\u001b[0m\u001b[0;34m,\u001b[0m \u001b[0mself\u001b[0m\u001b[0;34m.\u001b[0m\u001b[0mobj\u001b[0m\u001b[0;34m)\u001b[0m\u001b[0;34m\u001b[0m\u001b[0;34m\u001b[0m\u001b[0m\n\u001b[0;32m--> 895\u001b[0;31m             \u001b[0;32mreturn\u001b[0m \u001b[0mself\u001b[0m\u001b[0;34m.\u001b[0m\u001b[0m_getitem_axis\u001b[0m\u001b[0;34m(\u001b[0m\u001b[0mmaybe_callable\u001b[0m\u001b[0;34m,\u001b[0m \u001b[0maxis\u001b[0m\u001b[0;34m=\u001b[0m\u001b[0maxis\u001b[0m\u001b[0;34m)\u001b[0m\u001b[0;34m\u001b[0m\u001b[0;34m\u001b[0m\u001b[0m\n\u001b[0m\u001b[1;32m    896\u001b[0m \u001b[0;34m\u001b[0m\u001b[0m\n\u001b[1;32m    897\u001b[0m     \u001b[0;32mdef\u001b[0m \u001b[0m_is_scalar_access\u001b[0m\u001b[0;34m(\u001b[0m\u001b[0mself\u001b[0m\u001b[0;34m,\u001b[0m \u001b[0mkey\u001b[0m\u001b[0;34m:\u001b[0m \u001b[0mTuple\u001b[0m\u001b[0;34m)\u001b[0m\u001b[0;34m:\u001b[0m\u001b[0;34m\u001b[0m\u001b[0;34m\u001b[0m\u001b[0m\n",
      "\u001b[0;32m/Library/Frameworks/Python.framework/Versions/3.9/lib/python3.9/site-packages/pandas/core/indexing.py\u001b[0m in \u001b[0;36m_getitem_axis\u001b[0;34m(self, key, axis)\u001b[0m\n\u001b[1;32m   1501\u001b[0m             \u001b[0mself\u001b[0m\u001b[0;34m.\u001b[0m\u001b[0m_validate_integer\u001b[0m\u001b[0;34m(\u001b[0m\u001b[0mkey\u001b[0m\u001b[0;34m,\u001b[0m \u001b[0maxis\u001b[0m\u001b[0;34m)\u001b[0m\u001b[0;34m\u001b[0m\u001b[0;34m\u001b[0m\u001b[0m\n\u001b[1;32m   1502\u001b[0m \u001b[0;34m\u001b[0m\u001b[0m\n\u001b[0;32m-> 1503\u001b[0;31m             \u001b[0;32mreturn\u001b[0m \u001b[0mself\u001b[0m\u001b[0;34m.\u001b[0m\u001b[0mobj\u001b[0m\u001b[0;34m.\u001b[0m\u001b[0m_ixs\u001b[0m\u001b[0;34m(\u001b[0m\u001b[0mkey\u001b[0m\u001b[0;34m,\u001b[0m \u001b[0maxis\u001b[0m\u001b[0;34m=\u001b[0m\u001b[0maxis\u001b[0m\u001b[0;34m)\u001b[0m\u001b[0;34m\u001b[0m\u001b[0;34m\u001b[0m\u001b[0m\n\u001b[0m\u001b[1;32m   1504\u001b[0m \u001b[0;34m\u001b[0m\u001b[0m\n\u001b[1;32m   1505\u001b[0m     \u001b[0;32mdef\u001b[0m \u001b[0m_get_slice_axis\u001b[0m\u001b[0;34m(\u001b[0m\u001b[0mself\u001b[0m\u001b[0;34m,\u001b[0m \u001b[0mslice_obj\u001b[0m\u001b[0;34m:\u001b[0m \u001b[0mslice\u001b[0m\u001b[0;34m,\u001b[0m \u001b[0maxis\u001b[0m\u001b[0;34m:\u001b[0m \u001b[0mint\u001b[0m\u001b[0;34m)\u001b[0m\u001b[0;34m:\u001b[0m\u001b[0;34m\u001b[0m\u001b[0;34m\u001b[0m\u001b[0m\n",
      "\u001b[0;32m/Library/Frameworks/Python.framework/Versions/3.9/lib/python3.9/site-packages/pandas/core/frame.py\u001b[0m in \u001b[0;36m_ixs\u001b[0;34m(self, i, axis)\u001b[0m\n\u001b[1;32m   2945\u001b[0m         \u001b[0;31m# irow\u001b[0m\u001b[0;34m\u001b[0m\u001b[0;34m\u001b[0m\u001b[0;34m\u001b[0m\u001b[0m\n\u001b[1;32m   2946\u001b[0m         \u001b[0;32mif\u001b[0m \u001b[0maxis\u001b[0m \u001b[0;34m==\u001b[0m \u001b[0;36m0\u001b[0m\u001b[0;34m:\u001b[0m\u001b[0;34m\u001b[0m\u001b[0;34m\u001b[0m\u001b[0m\n\u001b[0;32m-> 2947\u001b[0;31m             \u001b[0mnew_values\u001b[0m \u001b[0;34m=\u001b[0m \u001b[0mself\u001b[0m\u001b[0;34m.\u001b[0m\u001b[0m_mgr\u001b[0m\u001b[0;34m.\u001b[0m\u001b[0mfast_xs\u001b[0m\u001b[0;34m(\u001b[0m\u001b[0mi\u001b[0m\u001b[0;34m)\u001b[0m\u001b[0;34m\u001b[0m\u001b[0;34m\u001b[0m\u001b[0m\n\u001b[0m\u001b[1;32m   2948\u001b[0m \u001b[0;34m\u001b[0m\u001b[0m\n\u001b[1;32m   2949\u001b[0m             \u001b[0;31m# if we are a copy, mark as such\u001b[0m\u001b[0;34m\u001b[0m\u001b[0;34m\u001b[0m\u001b[0;34m\u001b[0m\u001b[0m\n",
      "\u001b[0;32m/Library/Frameworks/Python.framework/Versions/3.9/lib/python3.9/site-packages/pandas/core/internals/managers.py\u001b[0m in \u001b[0;36mfast_xs\u001b[0;34m(self, loc)\u001b[0m\n\u001b[1;32m    965\u001b[0m             \u001b[0;31m# Such assignment may incorrectly coerce NaT to None\u001b[0m\u001b[0;34m\u001b[0m\u001b[0;34m\u001b[0m\u001b[0;34m\u001b[0m\u001b[0m\n\u001b[1;32m    966\u001b[0m             \u001b[0;31m# result[blk.mgr_locs] = blk._slice((slice(None), loc))\u001b[0m\u001b[0;34m\u001b[0m\u001b[0;34m\u001b[0m\u001b[0;34m\u001b[0m\u001b[0m\n\u001b[0;32m--> 967\u001b[0;31m             \u001b[0;32mfor\u001b[0m \u001b[0mi\u001b[0m\u001b[0;34m,\u001b[0m \u001b[0mrl\u001b[0m \u001b[0;32min\u001b[0m \u001b[0menumerate\u001b[0m\u001b[0;34m(\u001b[0m\u001b[0mblk\u001b[0m\u001b[0;34m.\u001b[0m\u001b[0mmgr_locs\u001b[0m\u001b[0;34m)\u001b[0m\u001b[0;34m:\u001b[0m\u001b[0;34m\u001b[0m\u001b[0;34m\u001b[0m\u001b[0m\n\u001b[0m\u001b[1;32m    968\u001b[0m                 \u001b[0mresult\u001b[0m\u001b[0;34m[\u001b[0m\u001b[0mrl\u001b[0m\u001b[0;34m]\u001b[0m \u001b[0;34m=\u001b[0m \u001b[0mblk\u001b[0m\u001b[0;34m.\u001b[0m\u001b[0miget\u001b[0m\u001b[0;34m(\u001b[0m\u001b[0;34m(\u001b[0m\u001b[0mi\u001b[0m\u001b[0;34m,\u001b[0m \u001b[0mloc\u001b[0m\u001b[0;34m)\u001b[0m\u001b[0;34m)\u001b[0m\u001b[0;34m\u001b[0m\u001b[0;34m\u001b[0m\u001b[0m\n\u001b[1;32m    969\u001b[0m \u001b[0;34m\u001b[0m\u001b[0m\n",
      "\u001b[0;31mKeyboardInterrupt\u001b[0m: "
     ]
    }
   ],
   "source": [
    "for i in range(len(df_all)):\n",
    "    artists = df_all.iloc[i].artists.replace('\"', \"'\").replace('[','').replace(']','').split(\"', '\")\n",
    "    for artist in artists:\n",
    "        df_all_split = df_all_split.append({'acousticness':df_all.iloc[i].acousticness, 'artists':artist, 'danceability':df_all.iloc[i].danceability, 'duration_ms':df_all.iloc[i].duration_ms,\n",
    "        'energy':df_all.iloc[i].energy, 'instrumentalness':df_all.iloc[i].instrumentalness,'key':df_all.iloc[i].key, 'liveness':df_all.iloc[i].liveness,'loudness':df_all.iloc[i].loudness,\n",
    "        'name':df_all.iloc[i].name,'popularity':df_all.iloc[i].popularity, 'release_date':df_all.iloc[i].release_date,'tempo':df_all.iloc[i].tempo,'year':df_all.iloc[i].year}, ignore_index=True)\n",
    "df_all_split"
   ]
  },
  {
   "cell_type": "code",
   "execution_count": null,
   "metadata": {},
   "outputs": [],
   "source": [
    "df_all_split.to_csv('data/data_bubble_to_artist.csv')"
   ]
  },
  {
   "cell_type": "code",
   "execution_count": null,
   "metadata": {},
   "outputs": [],
   "source": []
  }
 ]
}