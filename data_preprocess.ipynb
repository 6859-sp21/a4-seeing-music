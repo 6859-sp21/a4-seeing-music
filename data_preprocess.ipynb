{
 "metadata": {
  "language_info": {
   "codemirror_mode": {
    "name": "ipython",
    "version": 3
   },
   "file_extension": ".py",
   "mimetype": "text/x-python",
   "name": "python",
   "nbconvert_exporter": "python",
   "pygments_lexer": "ipython3",
   "version": "3.9.1"
  },
  "orig_nbformat": 2,
  "kernelspec": {
   "name": "python3",
   "display_name": "Python 3.9.1 64-bit",
   "metadata": {
    "interpreter": {
     "hash": "b8bdd4e700647ba2b08c59e5df8b7da1dcf50a218bcd4c1bcd9b3dc92e8788e5"
    }
   }
  }
 },
 "nbformat": 4,
 "nbformat_minor": 2,
 "cells": [
  {
   "cell_type": "code",
   "execution_count": 19,
   "metadata": {},
   "outputs": [],
   "source": [
    "import pandas as pd\n",
    "import string"
   ]
  },
  {
   "cell_type": "code",
   "execution_count": 20,
   "metadata": {},
   "outputs": [],
   "source": [
    "path = 'data/data.csv'\n",
    "df = pd.read_csv(path)\n",
    "df = df[['artists', 'popularity', 'year']]\n",
    "counts = {}"
   ]
  },
  {
   "cell_type": "code",
   "execution_count": 3,
   "metadata": {},
   "outputs": [],
   "source": [
    "for i in range(len(df)):\n",
    "    year = df.iloc[i].year\n",
    "    artists = df.iloc[i].artists.replace('\"', \"'\").replace('[','').replace(']','').split(\"', '\")\n",
    "    pop = df.iloc[i].popularity\n",
    "    for artist in artists:\n",
    "        counts[(year, artist)] = counts.get((year,artist), 0) + pop"
   ]
  },
  {
   "cell_type": "code",
   "execution_count": 17,
   "metadata": {
    "tags": []
   },
   "outputs": [
    {
     "output_type": "error",
     "ename": "NameError",
     "evalue": "name 'counts' is not defined",
     "traceback": [
      "\u001b[0;31m---------------------------------------------------------------------------\u001b[0m",
      "\u001b[0;31mNameError\u001b[0m                                 Traceback (most recent call last)",
      "\u001b[0;32m<ipython-input-17-da39552b97c0>\u001b[0m in \u001b[0;36m<module>\u001b[0;34m\u001b[0m\n\u001b[1;32m      1\u001b[0m \u001b[0mnew_df\u001b[0m \u001b[0;34m=\u001b[0m \u001b[0mpd\u001b[0m\u001b[0;34m.\u001b[0m\u001b[0mDataFrame\u001b[0m\u001b[0;34m(\u001b[0m\u001b[0mcolumns\u001b[0m\u001b[0;34m=\u001b[0m\u001b[0;34m[\u001b[0m\u001b[0;34m'year'\u001b[0m\u001b[0;34m,\u001b[0m\u001b[0;34m'artist'\u001b[0m\u001b[0;34m,\u001b[0m\u001b[0;34m'agg_popularity'\u001b[0m\u001b[0;34m]\u001b[0m\u001b[0;34m)\u001b[0m\u001b[0;34m\u001b[0m\u001b[0;34m\u001b[0m\u001b[0m\n\u001b[0;32m----> 2\u001b[0;31m \u001b[0;32mfor\u001b[0m \u001b[0mkey\u001b[0m \u001b[0;32min\u001b[0m \u001b[0mcounts\u001b[0m\u001b[0;34m.\u001b[0m\u001b[0mkeys\u001b[0m\u001b[0;34m(\u001b[0m\u001b[0;34m)\u001b[0m\u001b[0;34m:\u001b[0m\u001b[0;34m\u001b[0m\u001b[0;34m\u001b[0m\u001b[0m\n\u001b[0m\u001b[1;32m      3\u001b[0m     \u001b[0myear\u001b[0m\u001b[0;34m,\u001b[0m \u001b[0martist\u001b[0m \u001b[0;34m=\u001b[0m \u001b[0mkey\u001b[0m\u001b[0;34m\u001b[0m\u001b[0;34m\u001b[0m\u001b[0m\n\u001b[1;32m      4\u001b[0m     \u001b[0mpop\u001b[0m \u001b[0;34m=\u001b[0m \u001b[0mcounts\u001b[0m\u001b[0;34m[\u001b[0m\u001b[0mkey\u001b[0m\u001b[0;34m]\u001b[0m\u001b[0;34m\u001b[0m\u001b[0;34m\u001b[0m\u001b[0m\n\u001b[1;32m      5\u001b[0m     \u001b[0mnew_df\u001b[0m \u001b[0;34m=\u001b[0m \u001b[0mnew_df\u001b[0m\u001b[0;34m.\u001b[0m\u001b[0mappend\u001b[0m\u001b[0;34m(\u001b[0m\u001b[0;34m{\u001b[0m\u001b[0;34m'year'\u001b[0m\u001b[0;34m:\u001b[0m\u001b[0myear\u001b[0m\u001b[0;34m,\u001b[0m\u001b[0;34m'artist'\u001b[0m\u001b[0;34m:\u001b[0m\u001b[0martist\u001b[0m\u001b[0;34m,\u001b[0m\u001b[0;34m'agg_popularity'\u001b[0m\u001b[0;34m:\u001b[0m\u001b[0mpop\u001b[0m\u001b[0;34m}\u001b[0m\u001b[0;34m,\u001b[0m \u001b[0mignore_index\u001b[0m\u001b[0;34m=\u001b[0m\u001b[0;32mTrue\u001b[0m\u001b[0;34m)\u001b[0m\u001b[0;34m\u001b[0m\u001b[0;34m\u001b[0m\u001b[0m\n",
      "\u001b[0;31mNameError\u001b[0m: name 'counts' is not defined"
     ]
    }
   ],
   "source": [
    "new_df = pd.DataFrame(columns=['year','artist','agg_popularity'])\n",
    "for key in counts.keys():\n",
    "    year, artist = key\n",
    "    pop = counts[key]\n",
    "    new_df = new_df.append({'year':year,'artist':artist,'agg_popularity':pop}, ignore_index=True)\n",
    "new_df"
   ]
  },
  {
   "cell_type": "code",
   "execution_count": 19,
   "metadata": {},
   "outputs": [],
   "source": [
    "new_df.to_csv('data_yearly_artist_popularity.csv')"
   ]
  },
  {
   "cell_type": "code",
   "execution_count": 22,
   "metadata": {},
   "outputs": [],
   "source": [
    "new_df = pd.read_csv('data/data_yearly_artist_popularity.csv')"
   ]
  },
  {
   "cell_type": "code",
   "execution_count": 23,
   "metadata": {},
   "outputs": [
    {
     "output_type": "execute_result",
     "data": {
      "text/plain": [
       "       Unnamed: 0  year                           artist  agg_popularity\n",
       "0               0  1920                    'Mamie Smith'              22\n",
       "1               1  1920          'Screamin' Jay Hawkins'               7\n",
       "2               2  1920                'Oscar Velazquez'              33\n",
       "3               3  1920                           'Mixe'               2\n",
       "4               4  1920  'Mamie Smith & Her Jazz Hounds'              10\n",
       "...           ...   ...                              ...             ...\n",
       "73899       73899  2021                   'Foo Fighters'              69\n",
       "73900       73900  2021                      'Sean Paul'               1\n",
       "73901       73901  2021                'Ludovico Einaudi               0\n",
       "73902       73902  2021                Johannes Bornlöf'               0\n",
       "73903       73903  2021                   'Alessia Cara'               0\n",
       "\n",
       "[73904 rows x 4 columns]"
      ],
      "text/html": "<div>\n<style scoped>\n    .dataframe tbody tr th:only-of-type {\n        vertical-align: middle;\n    }\n\n    .dataframe tbody tr th {\n        vertical-align: top;\n    }\n\n    .dataframe thead th {\n        text-align: right;\n    }\n</style>\n<table border=\"1\" class=\"dataframe\">\n  <thead>\n    <tr style=\"text-align: right;\">\n      <th></th>\n      <th>Unnamed: 0</th>\n      <th>year</th>\n      <th>artist</th>\n      <th>agg_popularity</th>\n    </tr>\n  </thead>\n  <tbody>\n    <tr>\n      <th>0</th>\n      <td>0</td>\n      <td>1920</td>\n      <td>'Mamie Smith'</td>\n      <td>22</td>\n    </tr>\n    <tr>\n      <th>1</th>\n      <td>1</td>\n      <td>1920</td>\n      <td>'Screamin' Jay Hawkins'</td>\n      <td>7</td>\n    </tr>\n    <tr>\n      <th>2</th>\n      <td>2</td>\n      <td>1920</td>\n      <td>'Oscar Velazquez'</td>\n      <td>33</td>\n    </tr>\n    <tr>\n      <th>3</th>\n      <td>3</td>\n      <td>1920</td>\n      <td>'Mixe'</td>\n      <td>2</td>\n    </tr>\n    <tr>\n      <th>4</th>\n      <td>4</td>\n      <td>1920</td>\n      <td>'Mamie Smith &amp; Her Jazz Hounds'</td>\n      <td>10</td>\n    </tr>\n    <tr>\n      <th>...</th>\n      <td>...</td>\n      <td>...</td>\n      <td>...</td>\n      <td>...</td>\n    </tr>\n    <tr>\n      <th>73899</th>\n      <td>73899</td>\n      <td>2021</td>\n      <td>'Foo Fighters'</td>\n      <td>69</td>\n    </tr>\n    <tr>\n      <th>73900</th>\n      <td>73900</td>\n      <td>2021</td>\n      <td>'Sean Paul'</td>\n      <td>1</td>\n    </tr>\n    <tr>\n      <th>73901</th>\n      <td>73901</td>\n      <td>2021</td>\n      <td>'Ludovico Einaudi</td>\n      <td>0</td>\n    </tr>\n    <tr>\n      <th>73902</th>\n      <td>73902</td>\n      <td>2021</td>\n      <td>Johannes Bornlöf'</td>\n      <td>0</td>\n    </tr>\n    <tr>\n      <th>73903</th>\n      <td>73903</td>\n      <td>2021</td>\n      <td>'Alessia Cara'</td>\n      <td>0</td>\n    </tr>\n  </tbody>\n</table>\n<p>73904 rows × 4 columns</p>\n</div>"
     },
     "metadata": {},
     "execution_count": 23
    }
   ],
   "source": [
    "new_df"
   ]
  },
  {
   "cell_type": "code",
   "execution_count": 36,
   "metadata": {
    "tags": []
   },
   "outputs": [],
   "source": [
    "for i in range(len(new_df['artist'])):\n",
    "    a = new_df.iloc[i].artist\n",
    "    if a[0]==\"'\":\n",
    "        a = a[1:]\n",
    "    if a[-1]==\"'\":\n",
    "        a = a[:-1]\n",
    "    new_df.at[i, 'artist'] = a"
   ]
  },
  {
   "cell_type": "code",
   "execution_count": 37,
   "metadata": {},
   "outputs": [
    {
     "output_type": "execute_result",
     "data": {
      "text/plain": [
       "       Unnamed: 0  year                         artist  agg_popularity\n",
       "0               0  1920                    Mamie Smith              22\n",
       "1               1  1920          Screamin' Jay Hawkins               7\n",
       "2               2  1920                Oscar Velazquez              33\n",
       "3               3  1920                           Mixe               2\n",
       "4               4  1920  Mamie Smith & Her Jazz Hounds              10\n",
       "...           ...   ...                            ...             ...\n",
       "73899       73899  2021                   Foo Fighters              69\n",
       "73900       73900  2021                      Sean Paul               1\n",
       "73901       73901  2021               Ludovico Einaudi               0\n",
       "73902       73902  2021               Johannes Bornlöf               0\n",
       "73903       73903  2021                   Alessia Cara               0\n",
       "\n",
       "[73904 rows x 4 columns]"
      ],
      "text/html": "<div>\n<style scoped>\n    .dataframe tbody tr th:only-of-type {\n        vertical-align: middle;\n    }\n\n    .dataframe tbody tr th {\n        vertical-align: top;\n    }\n\n    .dataframe thead th {\n        text-align: right;\n    }\n</style>\n<table border=\"1\" class=\"dataframe\">\n  <thead>\n    <tr style=\"text-align: right;\">\n      <th></th>\n      <th>Unnamed: 0</th>\n      <th>year</th>\n      <th>artist</th>\n      <th>agg_popularity</th>\n    </tr>\n  </thead>\n  <tbody>\n    <tr>\n      <th>0</th>\n      <td>0</td>\n      <td>1920</td>\n      <td>Mamie Smith</td>\n      <td>22</td>\n    </tr>\n    <tr>\n      <th>1</th>\n      <td>1</td>\n      <td>1920</td>\n      <td>Screamin' Jay Hawkins</td>\n      <td>7</td>\n    </tr>\n    <tr>\n      <th>2</th>\n      <td>2</td>\n      <td>1920</td>\n      <td>Oscar Velazquez</td>\n      <td>33</td>\n    </tr>\n    <tr>\n      <th>3</th>\n      <td>3</td>\n      <td>1920</td>\n      <td>Mixe</td>\n      <td>2</td>\n    </tr>\n    <tr>\n      <th>4</th>\n      <td>4</td>\n      <td>1920</td>\n      <td>Mamie Smith &amp; Her Jazz Hounds</td>\n      <td>10</td>\n    </tr>\n    <tr>\n      <th>...</th>\n      <td>...</td>\n      <td>...</td>\n      <td>...</td>\n      <td>...</td>\n    </tr>\n    <tr>\n      <th>73899</th>\n      <td>73899</td>\n      <td>2021</td>\n      <td>Foo Fighters</td>\n      <td>69</td>\n    </tr>\n    <tr>\n      <th>73900</th>\n      <td>73900</td>\n      <td>2021</td>\n      <td>Sean Paul</td>\n      <td>1</td>\n    </tr>\n    <tr>\n      <th>73901</th>\n      <td>73901</td>\n      <td>2021</td>\n      <td>Ludovico Einaudi</td>\n      <td>0</td>\n    </tr>\n    <tr>\n      <th>73902</th>\n      <td>73902</td>\n      <td>2021</td>\n      <td>Johannes Bornlöf</td>\n      <td>0</td>\n    </tr>\n    <tr>\n      <th>73903</th>\n      <td>73903</td>\n      <td>2021</td>\n      <td>Alessia Cara</td>\n      <td>0</td>\n    </tr>\n  </tbody>\n</table>\n<p>73904 rows × 4 columns</p>\n</div>"
     },
     "metadata": {},
     "execution_count": 37
    }
   ],
   "source": [
    "new_df"
   ]
  },
  {
   "cell_type": "code",
   "execution_count": 39,
   "metadata": {},
   "outputs": [],
   "source": [
    "new_df.to_csv('data_yearly_artist_popularity_cleaned.csv')"
   ]
  },
  {
   "cell_type": "code",
   "execution_count": null,
   "metadata": {},
   "outputs": [],
   "source": []
  }
 ]
}